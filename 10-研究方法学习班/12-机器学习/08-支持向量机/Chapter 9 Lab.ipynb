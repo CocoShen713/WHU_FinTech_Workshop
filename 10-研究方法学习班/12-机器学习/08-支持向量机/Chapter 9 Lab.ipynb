{
 "cells": [
  {
   "cell_type": "markdown",
   "metadata": {},
   "source": [
    "# 9 Support Vector Machines"
   ]
  },
  {
   "cell_type": "markdown",
   "metadata": {},
   "source": [
    "## 9.6 Lab: Support Vector Machines"
   ]
  },
  {
   "cell_type": "code",
   "execution_count": 1,
   "metadata": {},
   "outputs": [],
   "source": [
    "import numpy as np\n",
    "import pandas as pd\n",
    "from matplotlib import pyplot as plt\n",
    "from random import sample\n",
    "from sklearn import svm\n",
    "from sklearn.model_selection import cross_val_score, train_test_split\n",
    "from sklearn.metrics import accuracy_score, roc_curve, auc\n",
    "from sklearn.metrics import confusion_matrix\n",
    "from sklearn.multiclass import OneVsRestClassifier"
   ]
  },
  {
   "cell_type": "markdown",
   "metadata": {},
   "source": [
    "### 9.6.1 Support Vector Classifier"
   ]
  },
  {
   "cell_type": "code",
   "execution_count": 2,
   "metadata": {},
   "outputs": [],
   "source": [
    "# generating the observations, which belong to two classes\n",
    "np.random.seed(1)\n",
    "x = np.random.randn(20,2)\n",
    "\n",
    "y = [-1]*10 + [1]*10\n",
    "x[10:20,0:2] = x[10:20,0:2] + 1"
   ]
  },
  {
   "cell_type": "code",
   "execution_count": 3,
   "metadata": {},
   "outputs": [],
   "source": [
    "# checking whether the classes are linearly separable"
   ]
  },
  {
   "cell_type": "code",
   "execution_count": 4,
   "metadata": {},
   "outputs": [],
   "source": [
    "def plot_data(X, y, type_list):\n",
    "    plt.figure(figsize=(6, 5))\n",
    "    pos = np.where(y == type_list[0]) # to find y=1\n",
    "    neg = np.where(y == type_list[1]) # to find y=0\n",
    "    p1, = plt.plot(np.ravel(X[pos, 0]), np.ravel(X[pos, 1]), 'o', color = 'lightpink', markersize=8)\n",
    "    p2, = plt.plot(np.ravel(X[neg, 0]), np.ravel(X[neg, 1]), 'o', color = 'lightblue', markersize=8)\n",
    "    plt.xlabel(\"X1\")\n",
    "    plt.ylabel(\"X2\")\n",
    "    plt.legend([p1, p2], [\"y==\"+str(type_list[0]), \"y==\"+str(type_list[1])])\n",
    "    return plt\n",
    "\n",
    "# to plot the decision boundary\n",
    "def plot_decisionBoundary(X, y, model, type_list, class_='linear'):\n",
    "    plt = plot_data(X, y, type_list)\n",
    "  \n",
    "    # linear boundary \n",
    "    if class_ == 'linear':\n",
    "        w = model.coef_\n",
    "        b = model.intercept_\n",
    "        xp = np.linspace(np.min(X[:, 0]), np.max(X[:, 0]), 100)\n",
    "        yp = -(w[0, 0] * xp + b) / w[0, 1]\n",
    "        plt.plot(xp, yp, 'k-', linewidth=2.0)\n",
    "        plt.plot(model.support_vectors_[:,0], model.support_vectors_[:,1], 'kx', markersize=8)\n",
    "    else: # nonlinear boundary\n",
    "        x_1 = np.transpose(np.linspace(np.min(X[:, 0]), np.max(X[:, 0]), 100).reshape(1, -1))\n",
    "        x_2 = np.transpose(np.linspace(np.min(X[:, 1]), np.max(X[:, 1]), 100).reshape(1, -1))\n",
    "        X1, X2 = np.meshgrid(x_1, x_2)\n",
    "        vals = np.zeros(X1.shape)\n",
    "        for i in range(X1.shape[1]):\n",
    "            this_X = np.hstack((X1[:, i].reshape(-1, 1), X2[:, i].reshape(-1, 1)))\n",
    "            vals[:, i] = model.predict(this_X)\n",
    "        plt.contour(X1, X2, vals, [0, 1], color='k')\n",
    "        plt.show()"
   ]
  },
  {
   "cell_type": "code",
   "execution_count": 5,
   "metadata": {
    "scrolled": true
   },
   "outputs": [
    {
     "data": {
      "text/plain": [
       "<module 'matplotlib.pyplot' from 'C:\\\\ProgramData\\\\Anaconda3\\\\lib\\\\site-packages\\\\matplotlib\\\\pyplot.py'>"
      ]
     },
     "execution_count": 5,
     "metadata": {},
     "output_type": "execute_result"
    },
    {
     "data": {
      "image/png": "[encoded data removed]",
      "text/plain": [
       "<Figure size 432x360 with 1 Axes>"
      ]
     },
     "metadata": {
      "needs_background": "light"
     },
     "output_type": "display_data"
    }
   ],
   "source": [
    "plot_data(x, np.ravel(y), [1,-1])"
   ]
  },
  {
   "cell_type": "code",
   "execution_count": 6,
   "metadata": {},
   "outputs": [
    {
     "data": {
      "image/png": "[encoded data removed]",
      "text/plain": [
       "<Figure size 432x360 with 1 Axes>"
      ]
     },
     "metadata": {
      "needs_background": "light"
     },
     "output_type": "display_data"
    }
   ],
   "source": [
    "model = svm.SVC(C=10, kernel='linear').fit(x, y) # linear kernel\n",
    "plot_decisionBoundary(x, np.ravel(y), model, type_list = [1,-1])"
   ]
  },
  {
   "cell_type": "code",
   "execution_count": 7,
   "metadata": {},
   "outputs": [
    {
     "name": "stdout",
     "output_type": "stream",
     "text": [
      "support vectors: [ 0  4  9 13 15 16]\n",
      "numbers of support vectors: [3 3]\n"
     ]
    }
   ],
   "source": [
    "print('support vectors:', model.support_)\n",
    "print('numbers of support vectors:', model.n_support_)"
   ]
  },
  {
   "cell_type": "code",
   "execution_count": 8,
   "metadata": {},
   "outputs": [
    {
     "name": "stdout",
     "output_type": "stream",
     "text": [
      "support vectors: [ 0  3  4  6  7  8  9 11 12 13 14 15 16 17 18]\n",
      "numbers of support vectors: [7 8]\n"
     ]
    },
    {
     "data": {
      "image/png": "[encoded data removed]",
      "text/plain": [
       "<Figure size 432x360 with 1 Axes>"
      ]
     },
     "metadata": {
      "needs_background": "light"
     },
     "output_type": "display_data"
    }
   ],
   "source": [
    "# What if we instead used a smaller value of the cost parameter?\n",
    "model = svm.SVC(C=0.1, kernel='linear').fit(x, y) \n",
    "plot_decisionBoundary(x, np.ravel(y), model, type_list = [1,-1])\n",
    "\n",
    "print('support vectors:', model.support_)\n",
    "print('numbers of support vectors:', model.n_support_)"
   ]
  },
  {
   "cell_type": "code",
   "execution_count": 9,
   "metadata": {},
   "outputs": [
    {
     "data": {
      "text/html": [
       "<div>\n",
       "<style scoped>\n",
       "    .dataframe tbody tr th:only-of-type {\n",
       "        vertical-align: middle;\n",
       "    }\n",
       "\n",
       "    .dataframe tbody tr th {\n",
       "        vertical-align: top;\n",
       "    }\n",
       "\n",
       "    .dataframe thead th {\n",
       "        text-align: right;\n",
       "    }\n",
       "</style>\n",
       "<table border=\"1\" class=\"dataframe\">\n",
       "  <thead>\n",
       "    <tr style=\"text-align: right;\">\n",
       "      <th></th>\n",
       "      <th>cost</th>\n",
       "      <th>error</th>\n",
       "    </tr>\n",
       "  </thead>\n",
       "  <tbody>\n",
       "    <tr>\n",
       "      <th>0</th>\n",
       "      <td>0.001</td>\n",
       "      <td>0.2</td>\n",
       "    </tr>\n",
       "    <tr>\n",
       "      <th>1</th>\n",
       "      <td>0.010</td>\n",
       "      <td>0.2</td>\n",
       "    </tr>\n",
       "    <tr>\n",
       "      <th>2</th>\n",
       "      <td>0.100</td>\n",
       "      <td>0.6</td>\n",
       "    </tr>\n",
       "    <tr>\n",
       "      <th>3</th>\n",
       "      <td>1.000</td>\n",
       "      <td>0.4</td>\n",
       "    </tr>\n",
       "    <tr>\n",
       "      <th>4</th>\n",
       "      <td>5.000</td>\n",
       "      <td>0.4</td>\n",
       "    </tr>\n",
       "    <tr>\n",
       "      <th>5</th>\n",
       "      <td>10.000</td>\n",
       "      <td>0.4</td>\n",
       "    </tr>\n",
       "    <tr>\n",
       "      <th>6</th>\n",
       "      <td>100.000</td>\n",
       "      <td>0.4</td>\n",
       "    </tr>\n",
       "  </tbody>\n",
       "</table>\n",
       "</div>"
      ],
      "text/plain": [
       "      cost  error\n",
       "0    0.001    0.2\n",
       "1    0.010    0.2\n",
       "2    0.100    0.6\n",
       "3    1.000    0.4\n",
       "4    5.000    0.4\n",
       "5   10.000    0.4\n",
       "6  100.000    0.4"
      ]
     },
     "execution_count": 9,
     "metadata": {},
     "output_type": "execute_result"
    }
   ],
   "source": [
    "cost_params = [0.001 , 0.01 , 0.1, 1 ,5 ,10 ,100]\n",
    "Detailed_results = pd.DataFrame(columns = ['cost', 'error'])\n",
    "i = 0\n",
    "for cost in cost_params:\n",
    "    model = svm.SVC(C=cost, kernel='linear')\n",
    "    Detailed_results.loc[i]=[cost, -cross_val_score(model,x,y,cv = 10,scoring = 'neg_mean_squared_error').mean()]\n",
    "    i += 1\n",
    "\n",
    "Detailed_results"
   ]
  },
  {
   "cell_type": "code",
   "execution_count": 10,
   "metadata": {},
   "outputs": [],
   "source": [
    "best_params = Detailed_results[['cost']][Detailed_results['error']==Detailed_results['error'].min()].values[0]\n",
    "best_model = svm.SVC(C=best_params, kernel='linear', probability=True).fit(x, y)"
   ]
  },
  {
   "cell_type": "code",
   "execution_count": 11,
   "metadata": {},
   "outputs": [],
   "source": [
    "# generating a test data set\n",
    "xtest = np.random.randn(20,2)\n",
    "ytest = []\n",
    "ytest = [np.random.choice([-1,1]) for i in range(20)]\n",
    "index = [i==1 for i in ytest]\n",
    "xtest[index,:] = xtest[index,:]+1\n",
    "\n",
    "yhat = best_model.predict(xtest)"
   ]
  },
  {
   "cell_type": "code",
   "execution_count": 12,
   "metadata": {},
   "outputs": [
    {
     "data": {
      "text/html": [
       "<div>\n",
       "<style scoped>\n",
       "    .dataframe tbody tr th:only-of-type {\n",
       "        vertical-align: middle;\n",
       "    }\n",
       "\n",
       "    .dataframe tbody tr th {\n",
       "        vertical-align: top;\n",
       "    }\n",
       "\n",
       "    .dataframe thead th {\n",
       "        text-align: right;\n",
       "    }\n",
       "</style>\n",
       "<table border=\"1\" class=\"dataframe\">\n",
       "  <thead>\n",
       "    <tr style=\"text-align: right;\">\n",
       "      <th></th>\n",
       "      <th>predict -1</th>\n",
       "      <th>predict 1</th>\n",
       "    </tr>\n",
       "  </thead>\n",
       "  <tbody>\n",
       "    <tr>\n",
       "      <th>truth -1</th>\n",
       "      <td>7</td>\n",
       "      <td>5</td>\n",
       "    </tr>\n",
       "    <tr>\n",
       "      <th>truth 1</th>\n",
       "      <td>1</td>\n",
       "      <td>7</td>\n",
       "    </tr>\n",
       "  </tbody>\n",
       "</table>\n",
       "</div>"
      ],
      "text/plain": [
       "          predict -1  predict 1\n",
       "truth -1           7          5\n",
       "truth 1            1          7"
      ]
     },
     "execution_count": 12,
     "metadata": {},
     "output_type": "execute_result"
    }
   ],
   "source": [
    "pd.DataFrame(confusion_matrix(ytest, yhat), index = ['truth -1','truth 1'], columns = ['predict -1','predict 1'])"
   ]
  },
  {
   "cell_type": "code",
   "execution_count": 13,
   "metadata": {},
   "outputs": [
    {
     "data": {
      "text/html": [
       "<div>\n",
       "<style scoped>\n",
       "    .dataframe tbody tr th:only-of-type {\n",
       "        vertical-align: middle;\n",
       "    }\n",
       "\n",
       "    .dataframe tbody tr th {\n",
       "        vertical-align: top;\n",
       "    }\n",
       "\n",
       "    .dataframe thead th {\n",
       "        text-align: right;\n",
       "    }\n",
       "</style>\n",
       "<table border=\"1\" class=\"dataframe\">\n",
       "  <thead>\n",
       "    <tr style=\"text-align: right;\">\n",
       "      <th></th>\n",
       "      <th>predict -1</th>\n",
       "      <th>predict 1</th>\n",
       "    </tr>\n",
       "  </thead>\n",
       "  <tbody>\n",
       "    <tr>\n",
       "      <th>truth -1</th>\n",
       "      <td>8</td>\n",
       "      <td>4</td>\n",
       "    </tr>\n",
       "    <tr>\n",
       "      <th>truth 1</th>\n",
       "      <td>1</td>\n",
       "      <td>7</td>\n",
       "    </tr>\n",
       "  </tbody>\n",
       "</table>\n",
       "</div>"
      ],
      "text/plain": [
       "          predict -1  predict 1\n",
       "truth -1           8          4\n",
       "truth 1            1          7"
      ]
     },
     "execution_count": 13,
     "metadata": {},
     "output_type": "execute_result"
    }
   ],
   "source": [
    "worst_params = Detailed_results[['cost']][Detailed_results['error']==Detailed_results['error'].max()].values[0]\n",
    "worst_model = svm.SVC(C=worst_params, kernel='linear').fit(x, y)\n",
    "yhat = worst_model.predict(xtest)\n",
    "   \n",
    "pd.DataFrame(confusion_matrix(ytest, yhat), index = ['truth -1','truth 1'], columns = ['predict -1','predict 1'])"
   ]
  },
  {
   "cell_type": "code",
   "execution_count": 14,
   "metadata": {},
   "outputs": [
    {
     "data": {
      "text/plain": [
       "<module 'matplotlib.pyplot' from 'C:\\\\ProgramData\\\\Anaconda3\\\\lib\\\\site-packages\\\\matplotlib\\\\pyplot.py'>"
      ]
     },
     "execution_count": 14,
     "metadata": {},
     "output_type": "execute_result"
    },
    {
     "data": {
      "image/png": "[encoded data removed]",
      "text/plain": [
       "<Figure size 432x360 with 1 Axes>"
      ]
     },
     "metadata": {
      "needs_background": "light"
     },
     "output_type": "display_data"
    }
   ],
   "source": [
    "# consider a situation in which the two classes are linearly separable\n",
    "index = [i==1 for i in y]\n",
    "x[index,:] = x[index,:]+0.5\n",
    "plot_data(x,np.ravel(y),[1,-1])"
   ]
  },
  {
   "cell_type": "code",
   "execution_count": 15,
   "metadata": {},
   "outputs": [
    {
     "name": "stdout",
     "output_type": "stream",
     "text": [
      "support vectors: [ 0  9 16]\n",
      "numbers of support vectors: [2 1]\n"
     ]
    },
    {
     "data": {
      "image/png": "[encoded data removed]",
      "text/plain": [
       "<Figure size 432x360 with 1 Axes>"
      ]
     },
     "metadata": {
      "needs_background": "light"
     },
     "output_type": "display_data"
    }
   ],
   "source": [
    "# using a very large value of cost so that no observations are misclassified\n",
    "model = svm.SVC(C=100000, kernel='linear').fit(x, y)\n",
    "plot_decisionBoundary(x, np.ravel(y), model, type_list = [1,-1])\n",
    "# get indices of support vectors\n",
    "print('support vectors:', model.support_)\n",
    "print('numbers of support vectors:', model.n_support_)"
   ]
  },
  {
   "cell_type": "code",
   "execution_count": 16,
   "metadata": {},
   "outputs": [
    {
     "name": "stdout",
     "output_type": "stream",
     "text": [
      "support vectors: [ 0  3  9 13 15 16]\n",
      "numbers of support vectors: [3 3]\n"
     ]
    },
    {
     "data": {
      "image/png": "[encoded data removed]",
      "text/plain": [
       "<Figure size 432x360 with 1 Axes>"
      ]
     },
     "metadata": {
      "needs_background": "light"
     },
     "output_type": "display_data"
    }
   ],
   "source": [
    "# try a smaller value of cost\n",
    "model = svm.SVC(C=1, kernel='linear').fit(x, y)\n",
    "plot_decisionBoundary(x, np.ravel(y), model, type_list = [1,-1])\n",
    "# get indices of support vectors\n",
    "print('support vectors:', model.support_)\n",
    "print('numbers of support vectors:', model.n_support_)"
   ]
  },
  {
   "cell_type": "markdown",
   "metadata": {},
   "source": [
    "### 9.6.2 Support Vector Machine"
   ]
  },
  {
   "cell_type": "code",
   "execution_count": 17,
   "metadata": {},
   "outputs": [
    {
     "data": {
      "text/plain": [
       "<module 'matplotlib.pyplot' from 'C:\\\\ProgramData\\\\Anaconda3\\\\lib\\\\site-packages\\\\matplotlib\\\\pyplot.py'>"
      ]
     },
     "execution_count": 17,
     "metadata": {},
     "output_type": "execute_result"
    },
    {
     "data": {
      "image/png": "[encoded data removed]",
      "text/plain": [
       "<Figure size 432x360 with 1 Axes>"
      ]
     },
     "metadata": {
      "needs_background": "light"
     },
     "output_type": "display_data"
    }
   ],
   "source": [
    "# generate some data with a non-linear class boundary\n",
    "x = np.random.randn(200,2)\n",
    "x[0:100,:] = x[0:100,:] + 2\n",
    "x[100:150,:] = x[100:150,:] - 2\n",
    "y = [1]*150 + [2]*50\n",
    "plot_data(x,np.ravel(y),[1,2])"
   ]
  },
  {
   "cell_type": "code",
   "execution_count": 18,
   "metadata": {},
   "outputs": [
    {
     "name": "stderr",
     "output_type": "stream",
     "text": [
      "<ipython-input-4-648f25779d57>:32: UserWarning: No contour levels were found within the data range.\n",
      "  plt.contour(X1, X2, vals, [0, 1], color='k')\n",
      "<ipython-input-4-648f25779d57>:32: UserWarning: The following kwargs were not used by contour: 'color'\n",
      "  plt.contour(X1, X2, vals, [0, 1], color='k')\n"
     ]
    },
    {
     "data": {
      "image/png": "[encoded data removed]",
      "text/plain": [
       "<Figure size 432x360 with 1 Axes>"
      ]
     },
     "metadata": {
      "needs_background": "light"
     },
     "output_type": "display_data"
    }
   ],
   "source": [
    "X_train, X_test, y_train, y_test = train_test_split(x, y, test_size=0.5, random_state=42)\n",
    "\n",
    "model = svm.SVC(C=1, kernel='rbf', gamma = 1).fit(X_train, y_train)\n",
    "plot_decisionBoundary(X_train, np.ravel(y_train), model, type_list = [1,2], class_='rbf')"
   ]
  },
  {
   "cell_type": "code",
   "execution_count": 19,
   "metadata": {},
   "outputs": [
    {
     "name": "stderr",
     "output_type": "stream",
     "text": [
      "<ipython-input-4-648f25779d57>:32: UserWarning: No contour levels were found within the data range.\n",
      "  plt.contour(X1, X2, vals, [0, 1], color='k')\n",
      "<ipython-input-4-648f25779d57>:32: UserWarning: The following kwargs were not used by contour: 'color'\n",
      "  plt.contour(X1, X2, vals, [0, 1], color='k')\n"
     ]
    },
    {
     "data": {
      "image/png": "[encoded data removed]",
      "text/plain": [
       "<Figure size 432x360 with 1 Axes>"
      ]
     },
     "metadata": {
      "needs_background": "light"
     },
     "output_type": "display_data"
    }
   ],
   "source": [
    "# increase the value of cost to reduce the number of training errors\n",
    "model = svm.SVC(C=10000, kernel='rbf', gamma = 1).fit(X_train, y_train)\n",
    "plot_decisionBoundary(X_train, np.ravel(y_train), model, type_list = [1,2], class_='rbf')"
   ]
  },
  {
   "cell_type": "code",
   "execution_count": 20,
   "metadata": {},
   "outputs": [
    {
     "data": {
      "text/html": [
       "<div>\n",
       "<style scoped>\n",
       "    .dataframe tbody tr th:only-of-type {\n",
       "        vertical-align: middle;\n",
       "    }\n",
       "\n",
       "    .dataframe tbody tr th {\n",
       "        vertical-align: top;\n",
       "    }\n",
       "\n",
       "    .dataframe thead th {\n",
       "        text-align: right;\n",
       "    }\n",
       "</style>\n",
       "<table border=\"1\" class=\"dataframe\">\n",
       "  <thead>\n",
       "    <tr style=\"text-align: right;\">\n",
       "      <th></th>\n",
       "      <th>cost</th>\n",
       "      <th>gamma</th>\n",
       "      <th>error</th>\n",
       "    </tr>\n",
       "  </thead>\n",
       "  <tbody>\n",
       "    <tr>\n",
       "      <th>0</th>\n",
       "      <td>0.1</td>\n",
       "      <td>0.5</td>\n",
       "      <td>0.27</td>\n",
       "    </tr>\n",
       "    <tr>\n",
       "      <th>1</th>\n",
       "      <td>0.1</td>\n",
       "      <td>1.0</td>\n",
       "      <td>0.27</td>\n",
       "    </tr>\n",
       "    <tr>\n",
       "      <th>2</th>\n",
       "      <td>0.1</td>\n",
       "      <td>2.0</td>\n",
       "      <td>0.27</td>\n",
       "    </tr>\n",
       "    <tr>\n",
       "      <th>3</th>\n",
       "      <td>0.1</td>\n",
       "      <td>3.0</td>\n",
       "      <td>0.27</td>\n",
       "    </tr>\n",
       "    <tr>\n",
       "      <th>4</th>\n",
       "      <td>0.1</td>\n",
       "      <td>4.0</td>\n",
       "      <td>0.27</td>\n",
       "    </tr>\n",
       "    <tr>\n",
       "      <th>5</th>\n",
       "      <td>1.0</td>\n",
       "      <td>0.5</td>\n",
       "      <td>0.14</td>\n",
       "    </tr>\n",
       "    <tr>\n",
       "      <th>6</th>\n",
       "      <td>1.0</td>\n",
       "      <td>1.0</td>\n",
       "      <td>0.15</td>\n",
       "    </tr>\n",
       "    <tr>\n",
       "      <th>7</th>\n",
       "      <td>1.0</td>\n",
       "      <td>2.0</td>\n",
       "      <td>0.14</td>\n",
       "    </tr>\n",
       "    <tr>\n",
       "      <th>8</th>\n",
       "      <td>1.0</td>\n",
       "      <td>3.0</td>\n",
       "      <td>0.15</td>\n",
       "    </tr>\n",
       "    <tr>\n",
       "      <th>9</th>\n",
       "      <td>1.0</td>\n",
       "      <td>4.0</td>\n",
       "      <td>0.17</td>\n",
       "    </tr>\n",
       "    <tr>\n",
       "      <th>10</th>\n",
       "      <td>10.0</td>\n",
       "      <td>0.5</td>\n",
       "      <td>0.16</td>\n",
       "    </tr>\n",
       "    <tr>\n",
       "      <th>11</th>\n",
       "      <td>10.0</td>\n",
       "      <td>1.0</td>\n",
       "      <td>0.15</td>\n",
       "    </tr>\n",
       "    <tr>\n",
       "      <th>12</th>\n",
       "      <td>10.0</td>\n",
       "      <td>2.0</td>\n",
       "      <td>0.21</td>\n",
       "    </tr>\n",
       "    <tr>\n",
       "      <th>13</th>\n",
       "      <td>10.0</td>\n",
       "      <td>3.0</td>\n",
       "      <td>0.20</td>\n",
       "    </tr>\n",
       "    <tr>\n",
       "      <th>14</th>\n",
       "      <td>10.0</td>\n",
       "      <td>4.0</td>\n",
       "      <td>0.21</td>\n",
       "    </tr>\n",
       "    <tr>\n",
       "      <th>15</th>\n",
       "      <td>100.0</td>\n",
       "      <td>0.5</td>\n",
       "      <td>0.19</td>\n",
       "    </tr>\n",
       "    <tr>\n",
       "      <th>16</th>\n",
       "      <td>100.0</td>\n",
       "      <td>1.0</td>\n",
       "      <td>0.21</td>\n",
       "    </tr>\n",
       "    <tr>\n",
       "      <th>17</th>\n",
       "      <td>100.0</td>\n",
       "      <td>2.0</td>\n",
       "      <td>0.20</td>\n",
       "    </tr>\n",
       "    <tr>\n",
       "      <th>18</th>\n",
       "      <td>100.0</td>\n",
       "      <td>3.0</td>\n",
       "      <td>0.21</td>\n",
       "    </tr>\n",
       "    <tr>\n",
       "      <th>19</th>\n",
       "      <td>100.0</td>\n",
       "      <td>4.0</td>\n",
       "      <td>0.21</td>\n",
       "    </tr>\n",
       "    <tr>\n",
       "      <th>20</th>\n",
       "      <td>1000.0</td>\n",
       "      <td>0.5</td>\n",
       "      <td>0.22</td>\n",
       "    </tr>\n",
       "    <tr>\n",
       "      <th>21</th>\n",
       "      <td>1000.0</td>\n",
       "      <td>1.0</td>\n",
       "      <td>0.22</td>\n",
       "    </tr>\n",
       "    <tr>\n",
       "      <th>22</th>\n",
       "      <td>1000.0</td>\n",
       "      <td>2.0</td>\n",
       "      <td>0.20</td>\n",
       "    </tr>\n",
       "    <tr>\n",
       "      <th>23</th>\n",
       "      <td>1000.0</td>\n",
       "      <td>3.0</td>\n",
       "      <td>0.22</td>\n",
       "    </tr>\n",
       "    <tr>\n",
       "      <th>24</th>\n",
       "      <td>1000.0</td>\n",
       "      <td>4.0</td>\n",
       "      <td>0.21</td>\n",
       "    </tr>\n",
       "  </tbody>\n",
       "</table>\n",
       "</div>"
      ],
      "text/plain": [
       "      cost  gamma  error\n",
       "0      0.1    0.5   0.27\n",
       "1      0.1    1.0   0.27\n",
       "2      0.1    2.0   0.27\n",
       "3      0.1    3.0   0.27\n",
       "4      0.1    4.0   0.27\n",
       "5      1.0    0.5   0.14\n",
       "6      1.0    1.0   0.15\n",
       "7      1.0    2.0   0.14\n",
       "8      1.0    3.0   0.15\n",
       "9      1.0    4.0   0.17\n",
       "10    10.0    0.5   0.16\n",
       "11    10.0    1.0   0.15\n",
       "12    10.0    2.0   0.21\n",
       "13    10.0    3.0   0.20\n",
       "14    10.0    4.0   0.21\n",
       "15   100.0    0.5   0.19\n",
       "16   100.0    1.0   0.21\n",
       "17   100.0    2.0   0.20\n",
       "18   100.0    3.0   0.21\n",
       "19   100.0    4.0   0.21\n",
       "20  1000.0    0.5   0.22\n",
       "21  1000.0    1.0   0.22\n",
       "22  1000.0    2.0   0.20\n",
       "23  1000.0    3.0   0.22\n",
       "24  1000.0    4.0   0.21"
      ]
     },
     "execution_count": 20,
     "metadata": {},
     "output_type": "execute_result"
    }
   ],
   "source": [
    "cost_params = [0.1, 1 ,10 ,100 ,1000]\n",
    "gamma_params = [0.5, 1 ,2 ,3 ,4]\n",
    "\n",
    "Detailed_results = pd.DataFrame(columns = ['cost', 'gamma', 'error'])\n",
    "i = 0\n",
    "for cost in cost_params:\n",
    "    for gm in gamma_params:\n",
    "        model = svm.SVC(C=cost, kernel='rbf', gamma = gm)\n",
    "        Detailed_results.loc[i]=[cost, gm, -cross_val_score(model,X_train, y_train,cv = 10,scoring = 'neg_mean_squared_error').mean()]\n",
    "        i += 1\n",
    "Detailed_results"
   ]
  },
  {
   "cell_type": "code",
   "execution_count": 21,
   "metadata": {},
   "outputs": [
    {
     "data": {
      "text/plain": [
       "array([1. , 0.5])"
      ]
     },
     "execution_count": 21,
     "metadata": {},
     "output_type": "execute_result"
    }
   ],
   "source": [
    "best_params = Detailed_results[['cost', 'gamma']][Detailed_results['error']==Detailed_results['error'].min()].values[0]\n",
    "best_params"
   ]
  },
  {
   "cell_type": "code",
   "execution_count": 22,
   "metadata": {},
   "outputs": [
    {
     "data": {
      "text/plain": [
       "0.95"
      ]
     },
     "execution_count": 22,
     "metadata": {},
     "output_type": "execute_result"
    }
   ],
   "source": [
    "best_model = svm.SVC(C=best_params[0], kernel='rbf', gamma = best_params[1], probability=True).fit(X_train, y_train)\n",
    "accuracy_score(y_test, best_model.predict(X_test))"
   ]
  },
  {
   "cell_type": "code",
   "execution_count": 23,
   "metadata": {},
   "outputs": [
    {
     "data": {
      "text/html": [
       "<div>\n",
       "<style scoped>\n",
       "    .dataframe tbody tr th:only-of-type {\n",
       "        vertical-align: middle;\n",
       "    }\n",
       "\n",
       "    .dataframe tbody tr th {\n",
       "        vertical-align: top;\n",
       "    }\n",
       "\n",
       "    .dataframe thead th {\n",
       "        text-align: right;\n",
       "    }\n",
       "</style>\n",
       "<table border=\"1\" class=\"dataframe\">\n",
       "  <thead>\n",
       "    <tr style=\"text-align: right;\">\n",
       "      <th></th>\n",
       "      <th>predict -1</th>\n",
       "      <th>predict 1</th>\n",
       "    </tr>\n",
       "  </thead>\n",
       "  <tbody>\n",
       "    <tr>\n",
       "      <th>truth -1</th>\n",
       "      <td>76</td>\n",
       "      <td>1</td>\n",
       "    </tr>\n",
       "    <tr>\n",
       "      <th>truth 1</th>\n",
       "      <td>4</td>\n",
       "      <td>19</td>\n",
       "    </tr>\n",
       "  </tbody>\n",
       "</table>\n",
       "</div>"
      ],
      "text/plain": [
       "          predict -1  predict 1\n",
       "truth -1          76          1\n",
       "truth 1            4         19"
      ]
     },
     "execution_count": 23,
     "metadata": {},
     "output_type": "execute_result"
    }
   ],
   "source": [
    "yhat = best_model.predict(X_test)\n",
    "\n",
    "pd.DataFrame(confusion_matrix(y_test, yhat), index = ['truth -1','truth 1'], columns = ['predict -1','predict 1'])"
   ]
  },
  {
   "cell_type": "markdown",
   "metadata": {},
   "source": [
    "### 9.6.3 ROC Curves"
   ]
  },
  {
   "cell_type": "code",
   "execution_count": 24,
   "metadata": {},
   "outputs": [],
   "source": [
    "def plot_roc_curve(model, X, y):\n",
    "    test_predict_label = model.decision_function(X_train)# get the predict label by the decision function\n",
    "    \n",
    "    # Compute ROC curve and ROC area for each class\n",
    "    fpr,tpr,threshold = roc_curve(np.array(y), model.predict_proba(X)[:,1], pos_label=2)# Compute False Positive Rate, True Positive Rate\n",
    "    roc_auc = auc(fpr,tpr) # Compute auc\n",
    "\n",
    "    plt.figure()\n",
    "    lw = 2\n",
    "    plt.figure(figsize=(5,5))\n",
    "    plt.plot(fpr, tpr, color='darkorange',\n",
    "             lw=lw, label='ROC curve (area = %0.2f)' % roc_auc) # x:False Positive Rate，y:True Positive Rate\n",
    "    plt.plot([0, 1], [0, 1], color='navy', lw=lw, linestyle='--')\n",
    "    plt.xlim([0.0, 1.0])\n",
    "    plt.ylim([0.0, 1.05])\n",
    "    plt.xlabel('False Positive Rate')\n",
    "    plt.ylabel('True Positive Rate')\n",
    "    plt.title('Receiver operating characteristic example')\n",
    "    plt.legend(loc=\"lower right\")\n",
    "    plt.show()"
   ]
  },
  {
   "cell_type": "code",
   "execution_count": 25,
   "metadata": {},
   "outputs": [
    {
     "data": {
      "text/plain": [
       "<Figure size 432x288 with 0 Axes>"
      ]
     },
     "metadata": {},
     "output_type": "display_data"
    },
    {
     "data": {
      "image/png": "[encoded data removed]",
      "text/plain": [
       "<Figure size 360x360 with 1 Axes>"
      ]
     },
     "metadata": {
      "needs_background": "light"
     },
     "output_type": "display_data"
    }
   ],
   "source": [
    "plot_roc_curve(best_model, X_train, y_train)"
   ]
  },
  {
   "cell_type": "code",
   "execution_count": 26,
   "metadata": {},
   "outputs": [
    {
     "data": {
      "text/plain": [
       "<Figure size 432x288 with 0 Axes>"
      ]
     },
     "metadata": {},
     "output_type": "display_data"
    },
    {
     "data": {
      "image/png": "[encoded data removed]",
      "text/plain": [
       "<Figure size 360x360 with 1 Axes>"
      ]
     },
     "metadata": {
      "needs_background": "light"
     },
     "output_type": "display_data"
    }
   ],
   "source": [
    "# increase gamma\n",
    "best_model = svm.SVC(C=best_params[0], kernel='rbf', gamma = 50, probability=True).fit(X_train, y_train)\n",
    "\n",
    "plot_roc_curve(best_model, X_train, y_train)"
   ]
  },
  {
   "cell_type": "code",
   "execution_count": 27,
   "metadata": {},
   "outputs": [
    {
     "data": {
      "text/plain": [
       "<Figure size 432x288 with 0 Axes>"
      ]
     },
     "metadata": {},
     "output_type": "display_data"
    },
    {
     "data": {
      "image/png": "[encoded data removed]",
      "text/plain": [
       "<Figure size 360x360 with 1 Axes>"
      ]
     },
     "metadata": {
      "needs_background": "light"
     },
     "output_type": "display_data"
    }
   ],
   "source": [
    "# test data\n",
    "plot_roc_curve(best_model, X_test, y_test)"
   ]
  },
  {
   "cell_type": "markdown",
   "metadata": {},
   "source": [
    "### 9.6.4 SVM With Multiple Classes"
   ]
  },
  {
   "cell_type": "code",
   "execution_count": 28,
   "metadata": {},
   "outputs": [],
   "source": [
    "# data with multiple classes\n",
    "x = np.random.randn(250,2)\n",
    "cut = sample(range(0,250), 2)\n",
    "y = [0] * min(cut) + [1] * (max(cut) - min(cut)) + [2] * (250 - max(cut))\n",
    "index = [i==0 | i==2  for i in y]\n",
    "x[index,:] = x[index,:]+2"
   ]
  },
  {
   "cell_type": "code",
   "execution_count": 29,
   "metadata": {},
   "outputs": [
    {
     "data": {
      "text/plain": [
       "<module 'matplotlib.pyplot' from 'C:\\\\ProgramData\\\\Anaconda3\\\\lib\\\\site-packages\\\\matplotlib\\\\pyplot.py'>"
      ]
     },
     "execution_count": 29,
     "metadata": {},
     "output_type": "execute_result"
    },
    {
     "data": {
      "image/png": "[encoded data removed]",
      "text/plain": [
       "<Figure size 432x432 with 1 Axes>"
      ]
     },
     "metadata": {
      "needs_background": "light"
     },
     "output_type": "display_data"
    }
   ],
   "source": [
    "def plot_data1(X, y, type_list):\n",
    "    plt.figure(figsize=(6, 6))\n",
    "    pos = np.where(y == type_list[0])\n",
    "    neg = np.where(y == type_list[1])\n",
    "    mid = np.where(y == type_list[2])\n",
    "    p1, = plt.plot(np.ravel(X[pos, 0]), np.ravel(X[pos, 1]), 'o', color = 'lightpink', markersize=8)\n",
    "    p2, = plt.plot(np.ravel(X[neg, 0]), np.ravel(X[neg, 1]), 'o', color = 'lightblue', markersize=8)\n",
    "    p3, = plt.plot(np.ravel(X[mid, 0]), np.ravel(X[mid, 1]), 'o', color = 'lightgreen', markersize=8)\n",
    "    plt.xlabel(\"X1\")\n",
    "    plt.ylabel(\"X2\")\n",
    "    plt.legend([p1, p2, p3], [\"y==\"+str(type_list[0]), \"y==\"+str(type_list[1]), \"y==\"+str(type_list[2])])\n",
    "    return plt\n",
    "plot_data1(x, np.ravel(y), [0,1,2])"
   ]
  },
  {
   "cell_type": "code",
   "execution_count": 30,
   "metadata": {},
   "outputs": [
    {
     "data": {
      "text/html": [
       "<div>\n",
       "<style scoped>\n",
       "    .dataframe tbody tr th:only-of-type {\n",
       "        vertical-align: middle;\n",
       "    }\n",
       "\n",
       "    .dataframe tbody tr th {\n",
       "        vertical-align: top;\n",
       "    }\n",
       "\n",
       "    .dataframe thead th {\n",
       "        text-align: right;\n",
       "    }\n",
       "</style>\n",
       "<table border=\"1\" class=\"dataframe\">\n",
       "  <thead>\n",
       "    <tr style=\"text-align: right;\">\n",
       "      <th></th>\n",
       "      <th>predict 0</th>\n",
       "      <th>predict 1</th>\n",
       "      <th>predict 2</th>\n",
       "    </tr>\n",
       "  </thead>\n",
       "  <tbody>\n",
       "    <tr>\n",
       "      <th>truth 0</th>\n",
       "      <td>1</td>\n",
       "      <td>15</td>\n",
       "      <td>0</td>\n",
       "    </tr>\n",
       "    <tr>\n",
       "      <th>truth 1</th>\n",
       "      <td>0</td>\n",
       "      <td>203</td>\n",
       "      <td>0</td>\n",
       "    </tr>\n",
       "    <tr>\n",
       "      <th>truth 2</th>\n",
       "      <td>0</td>\n",
       "      <td>6</td>\n",
       "      <td>25</td>\n",
       "    </tr>\n",
       "  </tbody>\n",
       "</table>\n",
       "</div>"
      ],
      "text/plain": [
       "         predict 0  predict 1  predict 2\n",
       "truth 0          1         15          0\n",
       "truth 1          0        203          0\n",
       "truth 2          0          6         25"
      ]
     },
     "execution_count": 30,
     "metadata": {},
     "output_type": "execute_result"
    }
   ],
   "source": [
    "model = OneVsRestClassifier(svm.SVC(C=10, kernel='rbf', gamma = 1,probability=True))\n",
    "clt = model.fit(x,y)\n",
    "yhat = clt.predict(x)\n",
    "\n",
    "pd.DataFrame(confusion_matrix(y, yhat), index = ['truth 0','truth 1','truth 2'], columns = ['predict 0','predict 1','predict 2'])"
   ]
  },
  {
   "cell_type": "markdown",
   "metadata": {},
   "source": [
    "### 9.6.5 Application to Gene Expression Data"
   ]
  },
  {
   "cell_type": "code",
   "execution_count": 31,
   "metadata": {},
   "outputs": [
    {
     "name": "stdout",
     "output_type": "stream",
     "text": [
      "shape of Khan_xtrain: (63, 2308)\n",
      "shape of Khan_xtrain: (20, 2308)\n",
      "length of Khan_xtrain: 63\n",
      "length of Khan_ytest: 20\n"
     ]
    }
   ],
   "source": [
    "Khan_xtrain = pd.read_csv(\"Khan_xtrain.csv\", index_col = 0)\n",
    "Khan_ytrain = pd.read_csv(\"Khan_ytrain.csv\", index_col = 0)\n",
    "Khan_xtest = pd.read_csv(\"Khan_xtest.csv\", index_col = 0)\n",
    "Khan_ytest = pd.read_csv(\"Khan_ytest.csv\", index_col = 0)\n",
    "\n",
    "print('shape of Khan_xtrain:', np.shape(Khan_xtrain))\n",
    "print('shape of Khan_xtrain:', np.shape(Khan_xtest))\n",
    "print('length of Khan_xtrain:', len(Khan_ytrain))\n",
    "print('length of Khan_ytest:', len(Khan_ytest))"
   ]
  },
  {
   "cell_type": "code",
   "execution_count": 32,
   "metadata": {},
   "outputs": [
    {
     "name": "stdout",
     "output_type": "stream",
     "text": [
      "1     8\n",
      "2    23\n",
      "3    12\n",
      "4    20\n",
      "Name: x, dtype: int64\n",
      "1    3\n",
      "2    6\n",
      "3    6\n",
      "4    5\n",
      "Name: x, dtype: int64\n"
     ]
    }
   ],
   "source": [
    "print(Khan_ytrain['x'].value_counts().sort_index())\n",
    "print(Khan_ytest['x'].value_counts().sort_index())"
   ]
  },
  {
   "cell_type": "code",
   "execution_count": 33,
   "metadata": {},
   "outputs": [
    {
     "data": {
      "text/html": [
       "<div>\n",
       "<style scoped>\n",
       "    .dataframe tbody tr th:only-of-type {\n",
       "        vertical-align: middle;\n",
       "    }\n",
       "\n",
       "    .dataframe tbody tr th {\n",
       "        vertical-align: top;\n",
       "    }\n",
       "\n",
       "    .dataframe thead th {\n",
       "        text-align: right;\n",
       "    }\n",
       "</style>\n",
       "<table border=\"1\" class=\"dataframe\">\n",
       "  <thead>\n",
       "    <tr style=\"text-align: right;\">\n",
       "      <th></th>\n",
       "      <th>predict 1</th>\n",
       "      <th>predict 2</th>\n",
       "      <th>predict 3</th>\n",
       "      <th>predict 4</th>\n",
       "    </tr>\n",
       "  </thead>\n",
       "  <tbody>\n",
       "    <tr>\n",
       "      <th>truth 1</th>\n",
       "      <td>8</td>\n",
       "      <td>0</td>\n",
       "      <td>0</td>\n",
       "      <td>0</td>\n",
       "    </tr>\n",
       "    <tr>\n",
       "      <th>truth 2</th>\n",
       "      <td>0</td>\n",
       "      <td>23</td>\n",
       "      <td>0</td>\n",
       "      <td>0</td>\n",
       "    </tr>\n",
       "    <tr>\n",
       "      <th>truth 3</th>\n",
       "      <td>0</td>\n",
       "      <td>0</td>\n",
       "      <td>12</td>\n",
       "      <td>0</td>\n",
       "    </tr>\n",
       "    <tr>\n",
       "      <th>truth 4</th>\n",
       "      <td>0</td>\n",
       "      <td>0</td>\n",
       "      <td>0</td>\n",
       "      <td>20</td>\n",
       "    </tr>\n",
       "  </tbody>\n",
       "</table>\n",
       "</div>"
      ],
      "text/plain": [
       "         predict 1  predict 2  predict 3  predict 4\n",
       "truth 1          8          0          0          0\n",
       "truth 2          0         23          0          0\n",
       "truth 3          0          0         12          0\n",
       "truth 4          0          0          0         20"
      ]
     },
     "execution_count": 33,
     "metadata": {},
     "output_type": "execute_result"
    }
   ],
   "source": [
    "model = svm.SVC(C = 10, kernel='linear').fit(Khan_xtrain, np.ravel(Khan_ytrain))\n",
    "\n",
    "yhat = model.predict(Khan_xtrain)\n",
    "Khan_ytrain = Khan_ytrain.reset_index(drop = True)\n",
    "pd.DataFrame(confusion_matrix(Khan_ytrain, yhat), index = ['truth 1','truth 2', 'truth 3', 'truth 4'], columns = ['predict 1','predict 2','predict 3','predict 4'])"
   ]
  },
  {
   "cell_type": "code",
   "execution_count": 34,
   "metadata": {},
   "outputs": [
    {
     "data": {
      "text/html": [
       "<div>\n",
       "<style scoped>\n",
       "    .dataframe tbody tr th:only-of-type {\n",
       "        vertical-align: middle;\n",
       "    }\n",
       "\n",
       "    .dataframe tbody tr th {\n",
       "        vertical-align: top;\n",
       "    }\n",
       "\n",
       "    .dataframe thead th {\n",
       "        text-align: right;\n",
       "    }\n",
       "</style>\n",
       "<table border=\"1\" class=\"dataframe\">\n",
       "  <thead>\n",
       "    <tr style=\"text-align: right;\">\n",
       "      <th></th>\n",
       "      <th>predict 1</th>\n",
       "      <th>predict 2</th>\n",
       "      <th>predict 3</th>\n",
       "      <th>predict 4</th>\n",
       "    </tr>\n",
       "  </thead>\n",
       "  <tbody>\n",
       "    <tr>\n",
       "      <th>truth 1</th>\n",
       "      <td>3</td>\n",
       "      <td>0</td>\n",
       "      <td>0</td>\n",
       "      <td>0</td>\n",
       "    </tr>\n",
       "    <tr>\n",
       "      <th>truth 2</th>\n",
       "      <td>0</td>\n",
       "      <td>6</td>\n",
       "      <td>0</td>\n",
       "      <td>0</td>\n",
       "    </tr>\n",
       "    <tr>\n",
       "      <th>truth 3</th>\n",
       "      <td>0</td>\n",
       "      <td>2</td>\n",
       "      <td>4</td>\n",
       "      <td>0</td>\n",
       "    </tr>\n",
       "    <tr>\n",
       "      <th>truth 4</th>\n",
       "      <td>0</td>\n",
       "      <td>0</td>\n",
       "      <td>0</td>\n",
       "      <td>5</td>\n",
       "    </tr>\n",
       "  </tbody>\n",
       "</table>\n",
       "</div>"
      ],
      "text/plain": [
       "         predict 1  predict 2  predict 3  predict 4\n",
       "truth 1          3          0          0          0\n",
       "truth 2          0          6          0          0\n",
       "truth 3          0          2          4          0\n",
       "truth 4          0          0          0          5"
      ]
     },
     "execution_count": 34,
     "metadata": {},
     "output_type": "execute_result"
    }
   ],
   "source": [
    "yhat = model.predict(Khan_xtest)\n",
    "Khan_ytest = Khan_ytest.reset_index(drop = True)\n",
    "\n",
    "pd.DataFrame(confusion_matrix(Khan_ytest, yhat), index = ['truth 1','truth 2', 'truth 3', 'truth 4'], columns = ['predict 1','predict 2','predict 3','predict 4'])    "
   ]
  }
 ],
 "metadata": {
  "kernelspec": {
   "display_name": "Python 3",
   "language": "python",
   "name": "python3"
  },
  "language_info": {
   "codemirror_mode": {
    "name": "ipython",
    "version": 3
   },
   "file_extension": ".py",
   "mimetype": "text/x-python",
   "name": "python",
   "nbconvert_exporter": "python",
   "pygments_lexer": "ipython3",
   "version": "3.8.5"
  }
 },
 "nbformat": 4,
 "nbformat_minor": 4
}
