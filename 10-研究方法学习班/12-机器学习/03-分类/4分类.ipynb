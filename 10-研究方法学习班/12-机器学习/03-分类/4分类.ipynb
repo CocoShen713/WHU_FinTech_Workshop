{
 "cells": [
  {
   "cell_type": "markdown",
   "metadata": {},
   "source": [
    "2021.3.18"
   ]
  },
  {
   "cell_type": "markdown",
   "metadata": {},
   "source": [
    "# 4：Classification"
   ]
  },
  {
   "cell_type": "markdown",
   "metadata": {},
   "source": [
    "What is classification？\n",
    "qualitative\n",
    "classiﬁcation：Predicting a qualitative response for an observation can be referred to as classifying that observation, since it involves assigning the observation to a category, or class.\n",
    "How to classify？\n",
    "* logistic regression\n",
    "* linear discriminant/Quadratic analysis 线性判别分析\n",
    "* K-nearest neighbors."
   ]
  },
  {
   "cell_type": "markdown",
   "metadata": {},
   "source": [
    "## 4.1 An Overview of Classiﬁcation：default.csv 信用卡违约数据\n",
    "- aim：predicting whether an individual will default on his or her credit card payment, on the basis of annual income and monthly credit card balance.\n",
    "- data set display"
   ]
  },
  {
   "cell_type": "code",
   "execution_count": 30,
   "metadata": {},
   "outputs": [],
   "source": [
    "#包和数据的载入\n",
    "import pandas as pd\n",
    "import matplotlib.pyplot as plt\n",
    "import seaborn as sns\n",
    "import statsmodels.api as sm\n",
    "import numpy as np\n",
    "import sklearn.metrics\n",
    "import sklearn\n",
    "from sklearn.metrics import accuracy_score,confusion_matrix\n",
    "import matplotlib.gridspec as gridspec"
   ]
  },
  {
   "cell_type": "code",
   "execution_count": 31,
   "metadata": {},
   "outputs": [
    {
     "data": {
      "text/html": [
       "<div>\n",
       "<style scoped>\n",
       "    .dataframe tbody tr th:only-of-type {\n",
       "        vertical-align: middle;\n",
       "    }\n",
       "\n",
       "    .dataframe tbody tr th {\n",
       "        vertical-align: top;\n",
       "    }\n",
       "\n",
       "    .dataframe thead th {\n",
       "        text-align: right;\n",
       "    }\n",
       "</style>\n",
       "<table border=\"1\" class=\"dataframe\">\n",
       "  <thead>\n",
       "    <tr style=\"text-align: right;\">\n",
       "      <th></th>\n",
       "      <th>balance</th>\n",
       "      <th>income</th>\n",
       "    </tr>\n",
       "  </thead>\n",
       "  <tbody>\n",
       "    <tr>\n",
       "      <th>count</th>\n",
       "      <td>10000.000000</td>\n",
       "      <td>10000.000000</td>\n",
       "    </tr>\n",
       "    <tr>\n",
       "      <th>mean</th>\n",
       "      <td>835.374886</td>\n",
       "      <td>33516.981876</td>\n",
       "    </tr>\n",
       "    <tr>\n",
       "      <th>std</th>\n",
       "      <td>483.714985</td>\n",
       "      <td>13336.639563</td>\n",
       "    </tr>\n",
       "    <tr>\n",
       "      <th>min</th>\n",
       "      <td>0.000000</td>\n",
       "      <td>771.967729</td>\n",
       "    </tr>\n",
       "    <tr>\n",
       "      <th>25%</th>\n",
       "      <td>481.731105</td>\n",
       "      <td>21340.462903</td>\n",
       "    </tr>\n",
       "    <tr>\n",
       "      <th>50%</th>\n",
       "      <td>823.636973</td>\n",
       "      <td>34552.644802</td>\n",
       "    </tr>\n",
       "    <tr>\n",
       "      <th>75%</th>\n",
       "      <td>1166.308386</td>\n",
       "      <td>43807.729272</td>\n",
       "    </tr>\n",
       "    <tr>\n",
       "      <th>max</th>\n",
       "      <td>2654.322576</td>\n",
       "      <td>73554.233495</td>\n",
       "    </tr>\n",
       "  </tbody>\n",
       "</table>\n",
       "</div>"
      ],
      "text/plain": [
       "            balance        income\n",
       "count  10000.000000  10000.000000\n",
       "mean     835.374886  33516.981876\n",
       "std      483.714985  13336.639563\n",
       "min        0.000000    771.967729\n",
       "25%      481.731105  21340.462903\n",
       "50%      823.636973  34552.644802\n",
       "75%     1166.308386  43807.729272\n",
       "max     2654.322576  73554.233495"
      ]
     },
     "execution_count": 31,
     "metadata": {},
     "output_type": "execute_result"
    }
   ],
   "source": [
    "plt.close('all')\n",
    "file = pd.read_csv('Default.csv',encoding='unicode_escape')\n",
    "df = pd.DataFrame(file)\n",
    "df.describe()"
   ]
  },
  {
   "cell_type": "code",
   "execution_count": 47,
   "metadata": {},
   "outputs": [
    {
     "data": {
      "image/png": "[encoded data removed]",
      "text/plain": [
       "<Figure size 432x288 with 1 Axes>"
      ]
     },
     "metadata": {
      "needs_background": "light"
     },
     "output_type": "display_data"
    },
    {
     "data": {
      "image/png": "[encoded data removed]",
      "text/plain": [
       "<Figure size 432x288 with 1 Axes>"
      ]
     },
     "metadata": {
      "needs_background": "light"
     },
     "output_type": "display_data"
    }
   ],
   "source": [
    "bp2 =df.boxplot(by='default',column=['income'])\n",
    "bp3 = df.boxplot(by='default',column=['balance'])"
   ]
  },
  {
   "cell_type": "markdown",
   "metadata": {},
   "source": [
    "## 4.2 Why Not Linear Regression?\n",
    "medical condition of a patient in the emergency room on the basis of her symptoms.\n",
    "##### problem：\n",
    "If we use the linear regression model：\n"
   ]
  },
  {
   "cell_type": "markdown",
   "metadata": {},
   "source": [
    "$$Y=\\begin{cases}1,\\ if\\ stroke \\\\2,\\ if\\ drug overdose \\\\3 ,\\ if\\ epileptic seizure\\end{cases}$$"
   ]
  },
  {
   "cell_type": "markdown",
   "metadata": {},
   "source": [
    "* implies an ordering on the outcomes, putting **drug overdose in between stroke and epileptic seizure**\n",
    "* insists that the diﬀerence between stroke and drug overdose is the same as the diﬀerence between drug overdose and epileptic seizure.\n",
    "##### However, special example :dummy variable\n",
    "a binary (two level) qualitative response\n",
    "eg： \n",
    "code the response as follows\n",
    "$$Y\\begin{cases}1,if \\ stroke\\\\0,if \\  drug \\ overdose \\end{cases}$$\n",
    "fit and predict\n",
    "$$\\hat{Y}\\begin{cases}1,if \\ \\hat{Y}\\ge 0.5 \\\\0,if \\  \\hat{Y}<0.5\\end{cases}$$\n"
   ]
  },
  {
   "cell_type": "markdown",
   "metadata": {},
   "source": [
    "![title](fig1/1.png)"
   ]
  },
  {
   "cell_type": "markdown",
   "metadata": {},
   "source": [
    "sum：\n",
    "* 需要注意回归结果数据的序数性质：是/否\n",
    "* 问题分析的性质：定性问题/定量问题\n",
    "* solution：dummy variable"
   ]
  },
  {
   "cell_type": "markdown",
   "metadata": {},
   "source": [
    "## 4.3 Logistic Regression\n",
    "logistic regression models the probability that Y belongs to a particular category\n",
    "eg.the probability of default given balance\n",
    "$$Pr(default=Yes|balance)=p(balance)$$\n",
    "### 4.3.1 The Logistic Model\n",
    "\n",
    "\n"
   ]
  },
  {
   "cell_type": "markdown",
   "metadata": {},
   "source": [
    "![](fig1/2.png)\n",
    "\n"
   ]
  },
  {
   "cell_type": "markdown",
   "metadata": {},
   "source": [
    "### 4.3.2 Multiple Logistic Regression\n",
    "1. mechanism of MLE\n",
    "$$\\ell\\left(\\beta_{0}, \\beta\\right)=\\prod_{i: y_{i}=1} p\\left(x_{i}\\right) \\prod_{i^{\\prime}: y_{i^{\\prime}}=0}\\left(1-p\\left(x_{i^{\\prime}}\\right)\\right)$$\n",
    "2. interpretation\n",
    "\n"
   ]
  },
  {
   "cell_type": "code",
   "execution_count": 72,
   "metadata": {},
   "outputs": [
    {
     "name": "stdout",
     "output_type": "stream",
     "text": [
      "Optimization terminated successfully.\n",
      "         Current function value: 0.079823\n",
      "         Iterations 10\n"
     ]
    },
    {
     "data": {
      "text/html": [
       "<table class=\"simpletable\">\n",
       "<caption>Logit Regression Results</caption>\n",
       "<tr>\n",
       "  <th>Dep. Variable:</th>      <td>default</td>     <th>  No. Observations:  </th>   <td> 10000</td>  \n",
       "</tr>\n",
       "<tr>\n",
       "  <th>Model:</th>               <td>Logit</td>      <th>  Df Residuals:      </th>   <td>  9998</td>  \n",
       "</tr>\n",
       "<tr>\n",
       "  <th>Method:</th>               <td>MLE</td>       <th>  Df Model:          </th>   <td>     1</td>  \n",
       "</tr>\n",
       "<tr>\n",
       "  <th>Date:</th>          <td>Thu, 18 Mar 2021</td> <th>  Pseudo R-squ.:     </th>   <td>0.4534</td>  \n",
       "</tr>\n",
       "<tr>\n",
       "  <th>Time:</th>              <td>11:31:24</td>     <th>  Log-Likelihood:    </th>  <td> -798.23</td> \n",
       "</tr>\n",
       "<tr>\n",
       "  <th>converged:</th>           <td>True</td>       <th>  LL-Null:           </th>  <td> -1460.3</td> \n",
       "</tr>\n",
       "<tr>\n",
       "  <th> </th>                      <td> </td>        <th>  LLR p-value:       </th> <td>6.233e-290</td>\n",
       "</tr>\n",
       "</table>\n",
       "<table class=\"simpletable\">\n",
       "<tr>\n",
       "     <td></td>        <th>coef</th>     <th>std err</th>      <th>z</th>      <th>P>|z|</th>  <th>[0.025</th>    <th>0.975]</th>  \n",
       "</tr>\n",
       "<tr>\n",
       "  <th>const</th>   <td>  -10.6513</td> <td>    0.361</td> <td>  -29.491</td> <td> 0.000</td> <td>  -11.359</td> <td>   -9.943</td>\n",
       "</tr>\n",
       "<tr>\n",
       "  <th>balance</th> <td>    0.0055</td> <td>    0.000</td> <td>   24.952</td> <td> 0.000</td> <td>    0.005</td> <td>    0.006</td>\n",
       "</tr>\n",
       "</table><br/><br/>Possibly complete quasi-separation: A fraction 0.13 of observations can be<br/>perfectly predicted. This might indicate that there is complete<br/>quasi-separation. In this case some parameters will not be identified."
      ],
      "text/plain": [
       "<class 'statsmodels.iolib.summary.Summary'>\n",
       "\"\"\"\n",
       "                           Logit Regression Results                           \n",
       "==============================================================================\n",
       "Dep. Variable:                default   No. Observations:                10000\n",
       "Model:                          Logit   Df Residuals:                     9998\n",
       "Method:                           MLE   Df Model:                            1\n",
       "Date:                Thu, 18 Mar 2021   Pseudo R-squ.:                  0.4534\n",
       "Time:                        11:31:24   Log-Likelihood:                -798.23\n",
       "converged:                       True   LL-Null:                       -1460.3\n",
       "                                        LLR p-value:                6.233e-290\n",
       "==============================================================================\n",
       "                 coef    std err          z      P>|z|      [0.025      0.975]\n",
       "------------------------------------------------------------------------------\n",
       "const        -10.6513      0.361    -29.491      0.000     -11.359      -9.943\n",
       "balance        0.0055      0.000     24.952      0.000       0.005       0.006\n",
       "==============================================================================\n",
       "\n",
       "Possibly complete quasi-separation: A fraction 0.13 of observations can be\n",
       "perfectly predicted. This might indicate that there is complete\n",
       "quasi-separation. In this case some parameters will not be identified.\n",
       "\"\"\""
      ]
     },
     "execution_count": 72,
     "metadata": {},
     "output_type": "execute_result"
    }
   ],
   "source": [
    "y = df['default'].map({'Yes':1,'No':0})\n",
    "X = df.loc[:,'balance']\n",
    "X = sm.add_constant(X)\n",
    "results = sm.Logit(y,X).fit()\n",
    "results.summary()"
   ]
  },
  {
   "cell_type": "markdown",
   "metadata": {},
   "source": [
    "### 4.3.4 interpretation"
   ]
  },
  {
   "cell_type": "code",
   "execution_count": 64,
   "metadata": {},
   "outputs": [
    {
     "name": "stdout",
     "output_type": "stream",
     "text": [
      "Optimization terminated successfully.\n",
      "         Current function value: 0.145434\n",
      "         Iterations 7\n",
      "                           Logit Regression Results                           \n",
      "==============================================================================\n",
      "Dep. Variable:                default   No. Observations:                10000\n",
      "Model:                          Logit   Df Residuals:                     9998\n",
      "Method:                           MLE   Df Model:                            1\n",
      "Date:                Thu, 18 Mar 2021   Pseudo R-squ.:                0.004097\n",
      "Time:                        11:12:36   Log-Likelihood:                -1454.3\n",
      "converged:                       True   LL-Null:                       -1460.3\n",
      "                                        LLR p-value:                 0.0005416\n",
      "==============================================================================\n",
      "                 coef    std err          z      P>|z|      [0.025      0.975]\n",
      "------------------------------------------------------------------------------\n",
      "const         -3.5041      0.071    -49.554      0.000      -3.643      -3.366\n",
      "student        0.4049      0.115      3.520      0.000       0.179       0.630\n",
      "==============================================================================\n"
     ]
    }
   ],
   "source": [
    "X = df['student'].map({'Yes':1,'No':0})\n",
    "X = sm.add_constant(X)\n",
    "results = sm.Logit(y,X).fit()\n",
    "results.summary()"
   ]
  },
  {
   "cell_type": "markdown",
   "metadata": {},
   "source": [
    "- an increase in balance is associated with an increase in the probability of default. \n",
    "    - To be precise, a one-unit increase in balance is associated with an increase in the log odds of default by 0.0055 units."
   ]
  },
  {
   "cell_type": "code",
   "execution_count": 85,
   "metadata": {},
   "outputs": [
    {
     "name": "stdout",
     "output_type": "stream",
     "text": [
      "Optimization terminated successfully.\n",
      "         Current function value: 0.078948\n",
      "         Iterations 10\n"
     ]
    },
    {
     "data": {
      "text/html": [
       "<table class=\"simpletable\">\n",
       "<caption>Logit Regression Results</caption>\n",
       "<tr>\n",
       "  <th>Dep. Variable:</th>      <td>default</td>     <th>  No. Observations:  </th>   <td> 10000</td>  \n",
       "</tr>\n",
       "<tr>\n",
       "  <th>Model:</th>               <td>Logit</td>      <th>  Df Residuals:      </th>   <td>  9997</td>  \n",
       "</tr>\n",
       "<tr>\n",
       "  <th>Method:</th>               <td>MLE</td>       <th>  Df Model:          </th>   <td>     2</td>  \n",
       "</tr>\n",
       "<tr>\n",
       "  <th>Date:</th>          <td>Thu, 18 Mar 2021</td> <th>  Pseudo R-squ.:     </th>   <td>0.4594</td>  \n",
       "</tr>\n",
       "<tr>\n",
       "  <th>Time:</th>              <td>11:47:49</td>     <th>  Log-Likelihood:    </th>  <td> -789.48</td> \n",
       "</tr>\n",
       "<tr>\n",
       "  <th>converged:</th>           <td>True</td>       <th>  LL-Null:           </th>  <td> -1460.3</td> \n",
       "</tr>\n",
       "<tr>\n",
       "  <th> </th>                      <td> </td>        <th>  LLR p-value:       </th> <td>4.541e-292</td>\n",
       "</tr>\n",
       "</table>\n",
       "<table class=\"simpletable\">\n",
       "<tr>\n",
       "     <td></td>        <th>coef</th>     <th>std err</th>      <th>z</th>      <th>P>|z|</th>  <th>[0.025</th>    <th>0.975]</th>  \n",
       "</tr>\n",
       "<tr>\n",
       "  <th>const</th>   <td>   11.5405</td> <td>    0.435</td> <td>   26.544</td> <td> 0.000</td> <td>   10.688</td> <td>   12.393</td>\n",
       "</tr>\n",
       "<tr>\n",
       "  <th>balance</th> <td>   -0.0056</td> <td>    0.000</td> <td>  -24.835</td> <td> 0.000</td> <td>   -0.006</td> <td>   -0.005</td>\n",
       "</tr>\n",
       "<tr>\n",
       "  <th>income</th>  <td>-2.081e-05</td> <td> 4.99e-06</td> <td>   -4.174</td> <td> 0.000</td> <td>-3.06e-05</td> <td> -1.1e-05</td>\n",
       "</tr>\n",
       "</table><br/><br/>Possibly complete quasi-separation: A fraction 0.14 of observations can be<br/>perfectly predicted. This might indicate that there is complete<br/>quasi-separation. In this case some parameters will not be identified."
      ],
      "text/plain": [
       "<class 'statsmodels.iolib.summary.Summary'>\n",
       "\"\"\"\n",
       "                           Logit Regression Results                           \n",
       "==============================================================================\n",
       "Dep. Variable:                default   No. Observations:                10000\n",
       "Model:                          Logit   Df Residuals:                     9997\n",
       "Method:                           MLE   Df Model:                            2\n",
       "Date:                Thu, 18 Mar 2021   Pseudo R-squ.:                  0.4594\n",
       "Time:                        11:47:49   Log-Likelihood:                -789.48\n",
       "converged:                       True   LL-Null:                       -1460.3\n",
       "                                        LLR p-value:                4.541e-292\n",
       "==============================================================================\n",
       "                 coef    std err          z      P>|z|      [0.025      0.975]\n",
       "------------------------------------------------------------------------------\n",
       "const         11.5405      0.435     26.544      0.000      10.688      12.393\n",
       "balance       -0.0056      0.000    -24.835      0.000      -0.006      -0.005\n",
       "income     -2.081e-05   4.99e-06     -4.174      0.000   -3.06e-05    -1.1e-05\n",
       "==============================================================================\n",
       "\n",
       "Possibly complete quasi-separation: A fraction 0.14 of observations can be\n",
       "perfectly predicted. This might indicate that there is complete\n",
       "quasi-separation. In this case some parameters will not be identified.\n",
       "\"\"\""
      ]
     },
     "execution_count": 85,
     "metadata": {},
     "output_type": "execute_result"
    }
   ],
   "source": [
    "y = df['default'].map({'Yes':0,'No':1})\n",
    "X = df.loc[:,'balance':'income']\n",
    "X = sm.add_constant(X)\n",
    "results = sm.Logit(y,X).fit()\n",
    "results.summary()"
   ]
  },
  {
   "cell_type": "code",
   "execution_count": 86,
   "metadata": {},
   "outputs": [
    {
     "data": {
      "image/png": "[encoded data removed]",
      "text/plain": [
       "<Figure size 432x288 with 1 Axes>"
      ]
     },
     "metadata": {
      "needs_background": "light"
     },
     "output_type": "display_data"
    }
   ],
   "source": [
    "bp3= df.boxplot(by='student',column=['balance'])"
   ]
  },
  {
   "cell_type": "code",
   "execution_count": 88,
   "metadata": {},
   "outputs": [
    {
     "data": {
      "text/html": [
       "<div>\n",
       "<style scoped>\n",
       "    .dataframe tbody tr th:only-of-type {\n",
       "        vertical-align: middle;\n",
       "    }\n",
       "\n",
       "    .dataframe tbody tr th {\n",
       "        vertical-align: top;\n",
       "    }\n",
       "\n",
       "    .dataframe thead th {\n",
       "        text-align: right;\n",
       "    }\n",
       "</style>\n",
       "<table border=\"1\" class=\"dataframe\">\n",
       "  <thead>\n",
       "    <tr style=\"text-align: right;\">\n",
       "      <th></th>\n",
       "      <th>0</th>\n",
       "      <th>1</th>\n",
       "    </tr>\n",
       "  </thead>\n",
       "  <tbody>\n",
       "    <tr>\n",
       "      <th>const</th>\n",
       "      <td>10.688330</td>\n",
       "      <td>12.392607</td>\n",
       "    </tr>\n",
       "    <tr>\n",
       "      <th>balance</th>\n",
       "      <td>-0.006093</td>\n",
       "      <td>-0.005201</td>\n",
       "    </tr>\n",
       "    <tr>\n",
       "      <th>income</th>\n",
       "      <td>-0.000031</td>\n",
       "      <td>-0.000011</td>\n",
       "    </tr>\n",
       "  </tbody>\n",
       "</table>\n",
       "</div>"
      ],
      "text/plain": [
       "                 0          1\n",
       "const    10.688330  12.392607\n",
       "balance  -0.006093  -0.005201\n",
       "income   -0.000031  -0.000011"
      ]
     },
     "execution_count": 88,
     "metadata": {},
     "output_type": "execute_result"
    }
   ],
   "source": []
  },
  {
   "cell_type": "markdown",
   "metadata": {},
   "source": [
    "### 4.3.4 Multiple Logistic Regression\n",
    "$$\\log \\left(\\frac{p(X)}{1-p(X)}\\right)=\\beta_{0}+\\beta_{1} X_{1}+\\cdots+\\beta_{p} X_{p}$$\n",
    "$$p(X)=\\frac{e^{\\beta_{0}+\\beta_{1} X_{1}+\\cdots+\\beta_{p} X_{p}}}{1+e^{\\beta_{0}+\\beta_{1} X_{1}+\\cdots+\\beta_{p} X_{p}}}$$\n",
    "\n",
    "\n"
   ]
  },
  {
   "cell_type": "code",
   "execution_count": 70,
   "metadata": {},
   "outputs": [
    {
     "name": "stdout",
     "output_type": "stream",
     "text": [
      "Optimization terminated successfully.\n",
      "         Current function value: 0.078577\n",
      "         Iterations 10\n"
     ]
    },
    {
     "data": {
      "text/html": [
       "<table class=\"simpletable\">\n",
       "<caption>Logit Regression Results</caption>\n",
       "<tr>\n",
       "  <th>Dep. Variable:</th>      <td>default</td>     <th>  No. Observations:  </th>   <td> 10000</td>  \n",
       "</tr>\n",
       "<tr>\n",
       "  <th>Model:</th>               <td>Logit</td>      <th>  Df Residuals:      </th>   <td>  9996</td>  \n",
       "</tr>\n",
       "<tr>\n",
       "  <th>Method:</th>               <td>MLE</td>       <th>  Df Model:          </th>   <td>     3</td>  \n",
       "</tr>\n",
       "<tr>\n",
       "  <th>Date:</th>          <td>Thu, 18 Mar 2021</td> <th>  Pseudo R-squ.:     </th>   <td>0.4619</td>  \n",
       "</tr>\n",
       "<tr>\n",
       "  <th>Time:</th>              <td>11:30:58</td>     <th>  Log-Likelihood:    </th>  <td> -785.77</td> \n",
       "</tr>\n",
       "<tr>\n",
       "  <th>converged:</th>           <td>True</td>       <th>  LL-Null:           </th>  <td> -1460.3</td> \n",
       "</tr>\n",
       "<tr>\n",
       "  <th> </th>                      <td> </td>        <th>  LLR p-value:       </th> <td>3.257e-292</td>\n",
       "</tr>\n",
       "</table>\n",
       "<table class=\"simpletable\">\n",
       "<tr>\n",
       "     <td></td>        <th>coef</th>     <th>std err</th>      <th>z</th>      <th>P>|z|</th>  <th>[0.025</th>    <th>0.975]</th>  \n",
       "</tr>\n",
       "<tr>\n",
       "  <th>const</th>   <td>   10.8690</td> <td>    0.492</td> <td>   22.079</td> <td> 0.000</td> <td>    9.904</td> <td>   11.834</td>\n",
       "</tr>\n",
       "<tr>\n",
       "  <th>balance</th> <td>   -0.0057</td> <td>    0.000</td> <td>  -24.737</td> <td> 0.000</td> <td>   -0.006</td> <td>   -0.005</td>\n",
       "</tr>\n",
       "<tr>\n",
       "  <th>income</th>  <td>-3.033e-06</td> <td>  8.2e-06</td> <td>   -0.370</td> <td> 0.712</td> <td>-1.91e-05</td> <td>  1.3e-05</td>\n",
       "</tr>\n",
       "<tr>\n",
       "  <th>student</th> <td>    0.6468</td> <td>    0.236</td> <td>    2.738</td> <td> 0.006</td> <td>    0.184</td> <td>    1.110</td>\n",
       "</tr>\n",
       "</table><br/><br/>Possibly complete quasi-separation: A fraction 0.15 of observations can be<br/>perfectly predicted. This might indicate that there is complete<br/>quasi-separation. In this case some parameters will not be identified."
      ],
      "text/plain": [
       "<class 'statsmodels.iolib.summary.Summary'>\n",
       "\"\"\"\n",
       "                           Logit Regression Results                           \n",
       "==============================================================================\n",
       "Dep. Variable:                default   No. Observations:                10000\n",
       "Model:                          Logit   Df Residuals:                     9996\n",
       "Method:                           MLE   Df Model:                            3\n",
       "Date:                Thu, 18 Mar 2021   Pseudo R-squ.:                  0.4619\n",
       "Time:                        11:30:58   Log-Likelihood:                -785.77\n",
       "converged:                       True   LL-Null:                       -1460.3\n",
       "                                        LLR p-value:                3.257e-292\n",
       "==============================================================================\n",
       "                 coef    std err          z      P>|z|      [0.025      0.975]\n",
       "------------------------------------------------------------------------------\n",
       "const         10.8690      0.492     22.079      0.000       9.904      11.834\n",
       "balance       -0.0057      0.000    -24.737      0.000      -0.006      -0.005\n",
       "income     -3.033e-06    8.2e-06     -0.370      0.712   -1.91e-05     1.3e-05\n",
       "student        0.6468      0.236      2.738      0.006       0.184       1.110\n",
       "==============================================================================\n",
       "\n",
       "Possibly complete quasi-separation: A fraction 0.15 of observations can be\n",
       "perfectly predicted. This might indicate that there is complete\n",
       "quasi-separation. In this case some parameters will not be identified.\n",
       "\"\"\""
      ]
     },
     "execution_count": 70,
     "metadata": {},
     "output_type": "execute_result"
    }
   ],
   "source": [
    "\n",
    "X = df.loc[:,'balance':'income']\n",
    "Z = df['student'].map({'Yes':1,'No':0})\n",
    "X = pd.concat([X, Z], axis=1)\n",
    "X = sm.add_constant(X)\n",
    "results = sm.Logit(y,X).fit()\n",
    "results.summary()"
   ]
  },
  {
   "cell_type": "markdown",
   "metadata": {},
   "source": [
    "Q：explanation of confusing coefficient：Are Students more likely default？\n",
    "\n",
    "\n",
    "\n",
    "A：the correlation of the elements\n",
    "- Students are more likely to have large credit card balances, which, as we know from the left-hand panel of Figure 4.3, tend to be associated with high default rates.\n",
    "- Even though an individual student with a given credit card balance will tend to have a lower probability of default than a non-student with the same credit card balance, the fact that students on the whole tend to have higher credit card balances means that overall, students tend to default at a higher rate than non-students.\n",
    "\n"
   ]
  },
  {
   "cell_type": "markdown",
   "metadata": {},
   "source": [
    "### 4.3.5 Logistic Regression for > 2 Response Classes: possible but unusual\n",
    "eg: \n",
    "we had three categories of medical condition in the emergency room: \n",
    "model $Pr(Y=stroke|X),\\ Pr(Y=drug overdose|X)$, \n",
    "then$Pr(epileptic seizure|X)=1-Pr(Y=stroke|X)= Pr(Y=drug overdose|X)$\n",
    "remark：\n",
    "In practice they tend not to be used all that often.\n",
    "Discriminant analysis, is popular for multiple-class classiﬁcation."
   ]
  },
  {
   "cell_type": "markdown",
   "metadata": {},
   "source": [
    "##  4.4 Linear Discriminant Analysis\n",
    "\n",
    "We now consider an alternative and less direct approach to estimating these probabilities.\n",
    "\n",
    "We model the distribution of the predictors X separately in each of the response classes (i.e. given Y ), and then use Bayes’ theorem to flip these around into estimates for Pr(Y = k|X = x). When these distributions are assumed to be normal, it turns out that the model is very similar in formto logistic regression.\n",
    "\n",
    "Why do we need another method, when we have logistic regression? There are several reasons:\n",
    "* When the classes are well-separated, the parameter estimates for the logistic regression model are surprisingly unstable.\n",
    "* If n is small and the distribution of the predictors X is approximately normal in each of the classes, the linear discriminant model is again more stable than the logistic regression model.\n",
    "* As mentioned in Section 4.3.5, linear discriminant analysis is popular when we have more than two response classes.\n",
    "### 4.4.1 Using Bayes’ Theorem for Classification\n",
    "\n",
    "Suppose that we wish to classify an observation into one of K classes, where K ≥ 2. \n",
    "\n",
    "Let $ \\pi _{k}$represent the overall or prior probability that a randomly chosen observation comes from the kth class. This is the probability that a given observation is associated with the kth category of the response variable Y.  Let $f_{k}\\equiv Pr(X=x|Y=k)$ denote the density function of X for an observation that comes from the kth class. Then Bayes’theorem states that:\n",
    "$$\n",
    "Pr(X=x|Y=k)=\\frac{\\pi _{k}f_{k}(x)  }{ {\\textstyle \\sum_{l=1}^{K}\\pi _{l}f_{l}(x)  } }=p_{k}(X)    (4.10)\n",
    "$$\n",
    "This suggests that instead of directly computing $p_{k}(X)$ as in Section 4.3.1, we can simply plug in estimates of $\\pi _{k}$ and $f_{k}(X)$ into above equation. In general, estimating $\\pi _{k}$ is easy if we have a random sample of Y s from the population: we simply compute the fraction of the training observations that belong to the kth class. However, estimating $f_{k}(X)$ tends to be more challenging, unless we assume some simple forms for these densities.\n",
    "\n",
    "And we refer to $p_{k}(X)$ as the posterior probability that an observation X = x belongs to the kth class. That is, it is the probability that the observation belongs to the kth class, given the predictor value for that observation.\n",
    "\n",
    "We know from Chapter 2 that the Bayes classifier, which classifies an observation to the class for which $p_{k}(X)$ is largest, has the lowest possible error rate out of all classifiers. (This is of course only true if the terms in above equation are all correctly specified.) Therefore, if we can find a way to estimate $p_{k}(X)$, then we can develop a classifier that approximates the Bayes classifier. Such an approach is the topic of the following sections."
   ]
  },
  {
   "cell_type": "markdown",
   "metadata": {},
   "source": [
    "### 4.4.2 Linear Discriminant Analysis for p = 1\n",
    "For now, assume that p = 1, that is, we have only one predictor.We would like to obtain an estimate for $f_{k}(x)$ that we can plug into (4.10) in order to estimate $p_{k}(x)$. We will then classify an observation to the class for which $p_{k}(x)$ is greatest.\n",
    "\n",
    "In order to estimate $f_{k}(x)$, we will first make some assumptions about its form:\n",
    "$$\n",
    "f_{x} (x)=\\frac{1}{\\sqrt{2\\pi}\\sigma _{k}}exp(-\\frac{1}{2\\sigma _{k}^{2} }(x-\\mu _{k} )^2 ) (4.11)\n",
    "$$\n",
    "For now, let us further assume that $\\sigma _{1}^{2}= \\sigma _{2}^{2}=…=\\sigma _{K}^{2}$: that is, there is a shared variance term across all K classes, which for simplicity we can denote by $\\sigma ^{2}$\n",
    "\n",
    "Then:\n",
    "\n",
    "$$\n",
    "Pr(X=x|Y=k)=\\frac{\\pi _{k}\\frac{1}{\\sqrt{2\\pi}\\sigma }exp(-\\frac{1}{2\\sigma ^{2} }(x-\\mu _{k} )^2 )  }{ {\\textstyle \\sum_{l=1}^{K}\\pi _{l}\\frac{1}{\\sqrt{2\\pi}\\sigma }exp(-\\frac{1}{2\\sigma ^{2} }(x-\\mu _{l} )^2 ) } }(4.12)\n",
    "$$\n",
    "\n",
    "The Bayes classifier involves assigning an observation X = x to the class for which (4.12) is largest. Taking the log of (4.12) and rearranging the terms, it is not hard to show that this is equivalent to assigning the observation to the class for which\n",
    "$$\n",
    "\\delta _{k}(x)=x\\cdot \\frac{\\mu _{k}}{\\sigma^2}-  \\frac{\\mu _{k}^2}{2\\sigma^2}+log(\\pi_{k})(4.13)\n",
    "$$\n",
    "For instance, if K = 2 and $\\pi_{1}=\\pi_{2}$, then the Bayes classifier assigns an observation to class 1 if $2x(\\mu_{2}-\\mu_{2})>\\mu_{1}^2-\\mu_{2}^2$, and to class 2 otherwise. In this case, the Bayes decision boundary corresponds to the point where:\n",
    "\n",
    "$$\n",
    "x=\\frac{\\mu _{1}^2-\\mu_{2}^2}{2(\\mu_{1}-\\mu_{2})}=\\frac{\\mu_{1}+\\mu_{2}}{2}  (4.14)\n",
    "$$\n",
    "But in a real-life situation, we are not able to calculate the Bayes classifier.\n",
    "\n",
    "In practice, even if we are quite certain of our assumption that X is drawn from a Gaussian distribution within each class, we still have to estimate the many parameters. The linear discriminant analysis (LDA) method approximates the Bayes classifier by plugging estimate for $\\pi_{k}, \\mu_{k}, \\sigma^2$ and following estimates are used:\n",
    "$$\n",
    "\\hat{\\mu}_{k} =\\frac{1}{n_{k} }\\sum_{i:y_{i}=k}^{}x_{i}  \n",
    "$$\n",
    "\n",
    "$$\n",
    "\\hat{\\sigma}^2 =\\frac{1}{n-K }\\sum_{k=1}^{K}\\sum_{i:y_{i}=k}^{}(x_{i}-\\hat{\\mu}_{k})^2  (4.15) \n",
    "$$\n",
    "\n",
    "where n is the total number of training observations, and $n_{k}$ is the number of training observations in the kth class. In the absence of any additional information, LDA estimates $\\pi_{k}$ using the proportion of the training observations that belong to the kth class. In other words,\n",
    "$$\n",
    "\\hat{\\pi}_{k}=n_{k}/n(4.16)\n",
    "$$\n",
    "and the delta is :\n",
    "$$\n",
    "\\hat{\\delta} _{k}(x)=x\\cdot \\frac{\\hat{\\mu} _{k}}{\\hat{\\sigma}^2}-  \\frac{\\hat{\\mu} _{k}^2}{2\\hat{\\sigma}^2}+log(\\hat{\\pi}_{k})(4.17)\n",
    "$$\n",
    "The word linear in the classifier’s name stems from the fact that the discriminant functions $\\hat{\\delta}_{k}(x)$ in (4.17) are linear functions of x (as discriminant function opposed to a more complex function of x).\n",
    "![title](fig/fig1.png)\n",
    "\n",
    "### 4.4.3 Linear Discriminant Analysis for p > 1\n",
    "\n",
    "We now extend the LDA classifier to the case of multiple predictors. To do this, we will assume that X = (X1, X2,…, Xp) is drawn from a multivariate Gaussian (or multivariate normal) distribution, with a class-specific\n",
    "multivariate Gaussian mean vector and a common covariance matrix.\n",
    "\n",
    "The multivariate Gaussian distribution assumes that each individual predictor follows a one-dimensional normal distribution, with some correlation between each pair of predictors. Two examples of multivariate Gaussian distributions with p = 2 are shown in following figure:\n",
    "![title](fig/fig2.png)\n",
    "\n",
    "To indicate that a p-dimensional random variable X has a multvariate Gaussian distribution, we write $X ∼ N(\\mu, \\sum)$. Formally, the multivariate Gaussian density is defined as:\n",
    "$$\n",
    "f(x)=\\frac{1}{(2\\pi)^{p/2}|\\sum|^{1/2}} exp(-\\frac{1}{2}(x-\\mu)^T\\Sigma^{-1} (x-\\mu) )(4.18)\n",
    "$$\n",
    "Plugging the density function for the kth class, fk(X = x), into (4.10) and performing a little bit of algebra reveals that the Bayes classifier assigns an observation X = x to the class for which\n",
    "$$\n",
    "\\delta_{k}(x)=x^T\\Sigma^{-1}\\mu_{k}-\\frac{1}{2}\\mu_{k}^T\\Sigma^{-1}\\mu_{k}+log\\pi_{k} (4.19)\n",
    "$$\n",
    "is largest. This is the vector/matrix version of (4.13).\n",
    "\n",
    "An example is shown in the following figure:\n",
    "![title](fig/fig3.png)\n",
    "The three ellipses represent regions that contain 95% of the probability for each of the three classes. The dashed lines are the Bayes decision boundaries. In other words, they represent the set of values x for which $\\delta_{k}(x) = \\delta{l}(x)$; i.e.\n",
    "$$\n",
    "x^T\\Sigma^{-1}\\mu_{k}-\\frac{1}{2}\\mu_{k}^T\\Sigma^{-1}\\mu_{k}=x^T\\Sigma^{-1}\\mu_{l}-\\frac{1}{2}\\mu_{l}^T\\Sigma^{-1}\\mu_{l}(4.20)\n",
    "$$\n",
    "for $k\\neq l$. (The log πk term from (4.19) has disappeared because each of the three classes has the same number of training observations;\n",
    "\n",
    "\n",
    "We can perform LDA on the Default data in order to predict whether or not an individual will default on the basis of credit card balance and\n",
    "student status. The LDA model fit to the 10, 000 training samples results in a training error rate of 2.75%. \n",
    "\n",
    "\n",
    "\n"
   ]
  },
  {
   "cell_type": "code",
   "execution_count": 7,
   "metadata": {},
   "outputs": [
    {
     "name": "stdout",
     "output_type": "stream",
     "text": [
      "error rate is: 0.0275 \n"
     ]
    }
   ],
   "source": [
    "import pandas as pd\n",
    "import numpy as np\n",
    "import matplotlib.pyplot as plt\n",
    "import seaborn as sns\n",
    "from sklearn.discriminant_analysis import LinearDiscriminantAnalysis,QuadraticDiscriminantAnalysis\n",
    "from sklearn.metrics import roc_auc_score, roc_curve, confusion_matrix,recall_score,accuracy_score\n",
    "\n",
    "file=open('Default.csv')\n",
    "Default=pd.read_csv(file)\n",
    "file.close()\n",
    "\n",
    "map_=pd.Series([0,1],index=['No','Yes'])\n",
    "Default['var_student']=Default['student'].map(map_)\n",
    "Default['var_default']=Default['default'].map(map_)\n",
    "\n",
    "X_train=Default[['balance','var_student']]\n",
    "y_train=Default['var_default']\n",
    "\n",
    "lda=LinearDiscriminantAnalysis().fit(X_train,y_train)\n",
    "score=lda.score(X_train,y_train)\n",
    "\n",
    "print('error rate is: %.4f '%(1-score))"
   ]
  },
  {
   "cell_type": "markdown",
   "metadata": {},
   "source": [
    "This sounds like a low error rate, but two caveats must be noted:\n",
    "* First of all, training error rates will usually be lower than test error rates, which are the real quantity of interest. In other words, we might expect this classifier to perform worse if we use it to predict whether or not a new set of individuals will default. The reason is that we specifically adjust the parameters of our model to do well on the training data. The higher the ratio of parameters p to number of samples n, the more we expect this overfitting to play a role. For overfitting these data we don’t expect this to be a problem, since p = 4 and n = 10, 000.\n",
    "* Second, since only 3.33% of the individuals in the training sample defaulted, a simple but useless classifier that always predicts that each individual will not default, regardless of his or her credit card balance and student status, will result in an error rate of 3.33%. In other words, the trivial null classifier will achieve an error rate that null is only a bit higher than the LDA training set error rate.\n",
    "\n",
    "\n",
    "In practice, a binary classifier such as this one can make two types of errors: it can incorrectly assign an individual who defaults to the no default category, or it can incorrectly assign an individual who does not default to the default category. A confusion matrix, shown for the Default confusion matrix data in Table, is a convenient way to display this information："
   ]
  },
  {
   "cell_type": "code",
   "execution_count": 8,
   "metadata": {},
   "outputs": [
    {
     "data": {
      "text/html": [
       "<div>\n",
       "<style scoped>\n",
       "    .dataframe tbody tr th:only-of-type {\n",
       "        vertical-align: middle;\n",
       "    }\n",
       "\n",
       "    .dataframe tbody tr th {\n",
       "        vertical-align: top;\n",
       "    }\n",
       "\n",
       "    .dataframe thead th {\n",
       "        text-align: right;\n",
       "    }\n",
       "</style>\n",
       "<table border=\"1\" class=\"dataframe\">\n",
       "  <thead>\n",
       "    <tr style=\"text-align: right;\">\n",
       "      <th></th>\n",
       "      <th>true_0</th>\n",
       "      <th>true_1</th>\n",
       "      <th>total</th>\n",
       "    </tr>\n",
       "  </thead>\n",
       "  <tbody>\n",
       "    <tr>\n",
       "      <th>pred_0</th>\n",
       "      <td>9644</td>\n",
       "      <td>252</td>\n",
       "      <td>9896</td>\n",
       "    </tr>\n",
       "    <tr>\n",
       "      <th>pred_1</th>\n",
       "      <td>23</td>\n",
       "      <td>81</td>\n",
       "      <td>104</td>\n",
       "    </tr>\n",
       "    <tr>\n",
       "      <th>total</th>\n",
       "      <td>9667</td>\n",
       "      <td>333</td>\n",
       "      <td>10000</td>\n",
       "    </tr>\n",
       "  </tbody>\n",
       "</table>\n",
       "</div>"
      ],
      "text/plain": [
       "        true_0  true_1  total\n",
       "pred_0    9644     252   9896\n",
       "pred_1      23      81    104\n",
       "total     9667     333  10000"
      ]
     },
     "execution_count": 8,
     "metadata": {},
     "output_type": "execute_result"
    }
   ],
   "source": [
    "def confusion_table(column='pred_default'):\n",
    "    res=pd.DataFrame({})\n",
    "    list_=[]\n",
    "    for i in [0,1]:\n",
    "        for j in [0,1]:    \n",
    "            list_.append(len(Default[(Default[column]==j) &\n",
    "                                 (Default['var_default']==i)]))\n",
    "        list_.append(list_[0]+list_[1])    \n",
    "        res['%s'%i]=list_\n",
    "        list_=[]\n",
    "    res.index=['pred_0','pred_1','total']\n",
    "    res.columns=['true_0','true_1']\n",
    "    res['total']=res.apply(lambda x:x[0]+x[1],axis=1)\n",
    "    return res\n",
    "\n",
    "y_pred=lda.predict(X_train)\n",
    "y_prob=lda.predict_proba(X_train)[:,1]\n",
    "Default['pred_default']=y_pred\n",
    "confusion_table(column='pred_default')"
   ]
  },
  {
   "cell_type": "code",
   "execution_count": 9,
   "metadata": {},
   "outputs": [
    {
     "data": {
      "text/html": [
       "<div>\n",
       "<style scoped>\n",
       "    .dataframe tbody tr th:only-of-type {\n",
       "        vertical-align: middle;\n",
       "    }\n",
       "\n",
       "    .dataframe tbody tr th {\n",
       "        vertical-align: top;\n",
       "    }\n",
       "\n",
       "    .dataframe thead th {\n",
       "        text-align: right;\n",
       "    }\n",
       "</style>\n",
       "<table border=\"1\" class=\"dataframe\">\n",
       "  <thead>\n",
       "    <tr style=\"text-align: right;\">\n",
       "      <th></th>\n",
       "      <th>true_0</th>\n",
       "      <th>true_1</th>\n",
       "    </tr>\n",
       "  </thead>\n",
       "  <tbody>\n",
       "    <tr>\n",
       "      <th>pred_0</th>\n",
       "      <td>9644</td>\n",
       "      <td>252</td>\n",
       "    </tr>\n",
       "    <tr>\n",
       "      <th>pred_1</th>\n",
       "      <td>23</td>\n",
       "      <td>81</td>\n",
       "    </tr>\n",
       "  </tbody>\n",
       "</table>\n",
       "</div>"
      ],
      "text/plain": [
       "        true_0  true_1\n",
       "pred_0    9644     252\n",
       "pred_1      23      81"
      ]
     },
     "execution_count": 9,
     "metadata": {},
     "output_type": "execute_result"
    }
   ],
   "source": [
    "def confusion_df(classifier,X_test,y_test):\n",
    "    confusion=confusion_matrix(y_test,classifier.predict(X_test))\n",
    "    res=pd.DataFrame(confusion.T,index=['pred_0','pred_1'],columns=['true_0','true_1'])\n",
    "    return res\n",
    "\n",
    "confusion_df(lda,X_train,y_train)"
   ]
  },
  {
   "cell_type": "markdown",
   "metadata": {},
   "source": [
    "Class-specific performance is also important in medicine and biology, where the terms sensitivity and specificity characterize the performance of sensitivity specificity a classifier or screening test.Why does LDA do such a poor job of classifying the customers who default? In other words, why does it have such a low sensitivity?\n",
    "\n",
    "As we have seen, LDA is trying to approximate the Bayes classifier, which has the lowest total error rate out of all classifiers (if the Gaussian model is correct).That is, the Bayes classifier will yield the smallest possible total number of misclassified observations, irrespective of which class the errors come from.\n",
    "\n",
    "The Bayes classifier works by assigning an observation to the class for which the posterior probability pk(X) is greatest. In the two-class case, this amounts to assigning an observation to the default class if:\n",
    "\n",
    "$$\n",
    "Pr(default=Yes|X=x)>0.5(4.21)\n",
    "$$\n",
    "\n",
    "Thus, the Bayes classifier, and by extension LDA, uses a threshold of 50% for the posterior probability of default in order to assign an observation to the default class. However, if we are concerned about incorrectly predicting the default status for individuals who default, then we can consider lowering this threshold. For instance,\n",
    "\n",
    "$$\n",
    "Pr(default=Yes|X=x)>0.2(4.22)\n",
    "$$\n",
    "\n",
    "The error rates that result from taking this approach are shown in the following table:"
   ]
  },
  {
   "cell_type": "markdown",
   "metadata": {},
   "source": []
  },
  {
   "cell_type": "code",
   "execution_count": 11,
   "metadata": {},
   "outputs": [
    {
     "data": {
      "text/html": [
       "<div>\n",
       "<style scoped>\n",
       "    .dataframe tbody tr th:only-of-type {\n",
       "        vertical-align: middle;\n",
       "    }\n",
       "\n",
       "    .dataframe tbody tr th {\n",
       "        vertical-align: top;\n",
       "    }\n",
       "\n",
       "    .dataframe thead th {\n",
       "        text-align: right;\n",
       "    }\n",
       "</style>\n",
       "<table border=\"1\" class=\"dataframe\">\n",
       "  <thead>\n",
       "    <tr style=\"text-align: right;\">\n",
       "      <th></th>\n",
       "      <th>true_0</th>\n",
       "      <th>true_1</th>\n",
       "      <th>total</th>\n",
       "    </tr>\n",
       "  </thead>\n",
       "  <tbody>\n",
       "    <tr>\n",
       "      <th>pred_0</th>\n",
       "      <td>9432</td>\n",
       "      <td>138</td>\n",
       "      <td>9570</td>\n",
       "    </tr>\n",
       "    <tr>\n",
       "      <th>pred_1</th>\n",
       "      <td>235</td>\n",
       "      <td>195</td>\n",
       "      <td>430</td>\n",
       "    </tr>\n",
       "    <tr>\n",
       "      <th>total</th>\n",
       "      <td>9667</td>\n",
       "      <td>333</td>\n",
       "      <td>10000</td>\n",
       "    </tr>\n",
       "  </tbody>\n",
       "</table>\n",
       "</div>"
      ],
      "text/plain": [
       "        true_0  true_1  total\n",
       "pred_0    9432     138   9570\n",
       "pred_1     235     195    430\n",
       "total     9667     333  10000"
      ]
     },
     "execution_count": 11,
     "metadata": {},
     "output_type": "execute_result"
    }
   ],
   "source": [
    "y_pred_lower_threshould=lda.predict_proba(X_train)[:,1]>0.2\n",
    "Default['pred2_default']=y_pred_lower_threshould\n",
    "confusion_table('pred2_default')"
   ]
  },
  {
   "cell_type": "markdown",
   "metadata": {},
   "source": [
    "Following figure illustrates the trade-off that results from modifying the threshold value for the posterior probability of default.Using a threshold of 0.5, as in (4.21), minimizes the overall error rate, shown as a black solid line. But when a threshold of 0.5 is used, the error rate among the individuals who default is quite high (blue dashed line)."
   ]
  },
  {
   "cell_type": "code",
   "execution_count": 12,
   "metadata": {},
   "outputs": [
    {
     "data": {
      "image/png": "[encoded data removed]",
      "text/plain": [
       "<Figure size 432x288 with 1 Axes>"
      ]
     },
     "metadata": {
      "needs_background": "light"
     },
     "output_type": "display_data"
    }
   ],
   "source": [
    "thresholds=[]\n",
    "errors=[]\n",
    "sensitivities=[]\n",
    "for i in np.linspace(0.00,0.60,61):\n",
    "    y_pred_lower_threshould=lda.predict_proba(X_train)[:,1]>i\n",
    "    sensitivity=recall_score(y_train,y_pred_lower_threshould)\n",
    "    error=1-accuracy_score(y_train,y_pred_lower_threshould)\n",
    "    errors.append(error)\n",
    "    thresholds.append(i)\n",
    "    sensitivities.append(sensitivity)\n",
    "data=pd.DataFrame({'thresholds':thresholds,'errors':errors,'sensitivities':sensitivities})\n",
    "data['err_sensitivities']=1-data['sensitivities']\n",
    "\n",
    "fig,ax=plt.subplots(1,1)\n",
    "sns.lineplot(x='thresholds',y='errors',data=data,ax=ax)\n",
    "sns.lineplot(x='thresholds',y='err_sensitivities',data=data,ax=ax)\n",
    "plt.show()"
   ]
  },
  {
   "cell_type": "markdown",
   "metadata": {},
   "source": [
    "The ROC curve is a popular graphic for simultaneously displaying the ROC curve two types of errors for all possible thresholds. The following figure displays the ROC curve for the LDA classifier on the training data. The overall performance of a classifier, summarized over all possible thresholds, is given by the area under the (ROC) curve (AUC). An ideal ROC curve will hug the top left corner, so the larger area under the (ROC) curve the AUC the better the classifier. For this data the AUC is 0.95, which is close to the maximum of one so would be considered very good. We expect a classifier that performs no better than chance to have an AUC of 0.5 (when evaluated on an independent test set not used in model training)."
   ]
  },
  {
   "cell_type": "code",
   "execution_count": 13,
   "metadata": {},
   "outputs": [
    {
     "name": "stderr",
     "output_type": "stream",
     "text": [
      "/Applications/anaconda3/lib/python3.7/site-packages/scipy/stats/stats.py:1713: FutureWarning: Using a non-tuple sequence for multidimensional indexing is deprecated; use `arr[tuple(seq)]` instead of `arr[seq]`. In the future this will be interpreted as an array index, `arr[np.array(seq)]`, which will result either in an error or a different result.\n",
      "  return np.add.reduce(sorted[indexer] * weights, axis=axis) / sumval\n"
     ]
    },
    {
     "data": {
      "image/png": "[encoded data removed]",
      "text/plain": [
       "<Figure size 432x288 with 1 Axes>"
      ]
     },
     "metadata": {
      "needs_background": "light"
     },
     "output_type": "display_data"
    }
   ],
   "source": [
    "fpr,tpr,thresholds=roc_curve(y_train,y_prob)\n",
    "data=pd.DataFrame({'fpr':fpr,'tpr':tpr}) \n",
    "\n",
    "fig,ax=plt.subplots(1,1)\n",
    "sns.lineplot(x='fpr',y='tpr',data=data,ax=ax)\n",
    "plt.show()"
   ]
  },
  {
   "cell_type": "code",
   "execution_count": 14,
   "metadata": {},
   "outputs": [
    {
     "name": "stdout",
     "output_type": "stream",
     "text": [
      "auc is: 0.95 \n"
     ]
    }
   ],
   "source": [
    "auc=roc_auc_score(y_train,y_prob)\n",
    "print('auc is: %.2f '%auc)"
   ]
  },
  {
   "cell_type": "markdown",
   "metadata": {},
   "source": [
    "As we have seen above, varying the classifier threshold changes its true positive and false positive rate. These are also called the sensitivity and one sensitivity minus the specificity of our classifier. Since there is an almost bewildering specificity array of terms used in this context, we now give a summary. Following table shows the possible results when applying a classifier (or diagnostic test) to a population.\n",
    "![title](fig/fig9.png)\n",
    "\n",
    "And the following table lists many of the popular performance measures that are used in this context. The denominators for the false positive and true positive rates are the actual population counts in each class. In contrast, the denominators for the positive predictive value and the negative predictive value are the total predicted counts for each class.\n",
    "![title](fig/fig10.png)\n",
    "### 4.4.4 Quadratic Discriminant Analysis\n",
    "\n",
    "As we have discussed, LDA assumes that the observations within each class are drawn from a multivariate Gaussian distribution with a class specific mean vector and a covariance matrix that is common to all K classes. Quadratic discriminant analysis (QDA) provides an alternative approach.\n",
    "\n",
    "Like LDA, the QDA classifier results from assuming that the observations from each class are drawn from a Gaussian distribution, and plugging estimates for the parameters into Bayes’theorem in order to perform prediction.\n",
    "\n",
    "However, unlike LDA, QDA assumes that each class has its own covariance matrix. That is, it assumes that an observation from the kth class is of the form $X \\sim N(\\mu_{k}, \\Sigma_{k})$, where $\\Sigma_{k}$ is a covariance matrix for the kth class. Under this assumption, the Bayes classifier assigns an observation $X = x$ to the class for which:\n",
    "\n",
    "$$\n",
    "\\delta_{k}(x)=x^T\\Sigma^{-1}\\mu_{k}-\\frac{1}{2}\\mu_{k}^T\\Sigma_{k}^{-1}\\mu_{k}+log\\pi_{k}(4.23)\n",
    "$$\n",
    "\n",
    "is largest. So the QDA classifier involves plugging estimates for $\\Sigma_{k}, \\mu_{k}$, and $\\pi_{k}$ into (4.23), and then assigning an observation X = x to the class for which this quantity is largest. Unlike in (4.19), the quantity x appears as a quadratic function in (4.23). This is where QDA gets its name.\n",
    "\n",
    "Why does it matter whether or not we assume that the K classes share a common covariance matrix? In other words, why would one prefer LDA to\n",
    "QDA, or vice-versa? The answer lies in the bias-variance trade-off. When there are p predictors, then estimating a covariance matrix requires estimating p(p+1)/2 parameters. QDA estimates a separate covariance matrix for each class, for a total of Kp(p+1)/2 parameters. With 50 predictors this is some multiple of 1,225, which is a lot of parameters. By instead assuming that the K classes share a common covariance matrix, the LDA model becomes linear in x, which means there are Kp linear coefficients to estimate. \n",
    "\n",
    "Consequently, LDA is a much less flexible classifier than QDA, and so has substantially lower variance. This can potentially lead to improved prediction performance. But there is a trade-off: if LDA’s assumption that the K classes share a common covariance matrix is badly off, then LDA can suffer from high bias. \n",
    "\n",
    "Roughly speaking, LDA tends to be a better bet than QDA if there are relatively few training observations and so reducing variance is crucial. In contrast, QDA is recommended if the training set is very large, so that the variance of the classifier is not a major concern, or if the assumption of a common covariance matrix for the K classes is clearly untenable.\n",
    "\n",
    "The following figure illustrates the performances of LDA and QDA in two scenarios. In the left-hand panel, the two Gaussian classes have a common correlation of 0.7 between $X_{1}$ and $X_{2}$\n",
    "![title](fig/fig11.png)\n",
    "\n",
    "PS:The Bayes (purple dashed), LDA (black dotted), and QDA (green solid)\n",
    "\n",
    "\n",
    "## 4.5 A Comparison of Classification Methods"
   ]
  },
  {
   "cell_type": "markdown",
   "metadata": {},
   "source": [
    "In this chapter, we have considered three different classification approaches: logistic regression, LDA, and QDA. In Chapter 2, we also discussed the K-nearest neighbors (KNN) method. We now consider the types of scenarios in which one approach might dominate the others.\n",
    "\n",
    "Though their motivations differ, the logistic regression and LDA methods are closely connected.\n",
    "\n",
    "Consider the two-class setting with $p = 1$ predictor, and let p_{1}(x) and $p_{2}(x) = 1 - p_{1}(x)$ be the probabilities that the observation X = x belongs to class 1 and class 2, respectively. In the LDA framework, we can see from (4.12) and (4.13) (and a bit of simple algebra) that the log odds is given by:\n",
    "\n",
    "$$\n",
    "log(\\frac{p_{1}(x)}{1-p_{1}(x)} )=c_{0}+c_{1}x(4.24)\n",
    "$$\n",
    "\n",
    "where $c_{0}$ and $c_{1}$ are functions of $\\mu_{1}, \\mu_{2}$, and $\\sigma^2$. From (4.4), we know that in logistic regression,\n",
    "\n",
    "$$\n",
    "log(\\frac{p_{1}}{1-p_{1}} )=\\beta_{0}+\\beta_{1}x(4.25)\n",
    "$$\n",
    "\n",
    "Both (4.24) and (4.25) are linear functions of x. Hence, both logistic rgression and LDA produce linear decision boundaries. The only difference between the two approaches lies in the fact that $\\beta_{0}$ and $\\beta_{1}$ are estimated using maximum likelihood, whereas $c_{0}$ and $c_{1}$ are computed using the estimated mean and variance from a normal distribution.\n",
    "\n",
    "Recall from Chapter 2 that KNN takes a completely different approach from the classifiers seen in this chapter.KNN is a completely non-parametric approach: no assumptions are made about the shape of the decision boundary. Therefore, we can expect this approach to dominate LDA and logistic regression when the decision boundary is highly non-linear. On the other hand, KNN does not tell us which predictors are important.\n",
    "\n",
    "Finally, QDA serves as a compromise between the non-parametric KNN method and the linear LDA and logistic regression approaches. Since QDA\n",
    "assumes a quadratic decision boundary, it can accurately model a wider range of problems than can the linear methods. Though not as flexible\n",
    "as KNN, QDA can perform better in the presence of a limited number of training observations because it does make some assumptions about the form of the decision boundary.\n",
    "\n",
    "\n",
    "---------------------------------------------------------------------------------------------------------------------------------------------\n",
    "\n",
    "\n",
    "To illustrate the performances of these four classification approaches, we generated data from six different scenarios.In three of the scenarios, the Bayes decision boundary is linear, and in the remaining scenarios it is non-linear. For each scenario, we produced 100 random training data sets. On each of these training sets, we fit each method to the data and computed the resulting test error rate on a large test set.\n",
    "![title](fig/fig12.png)\n",
    "![title](fig/fig13.png)\n",
    "\n",
    "* Scenario 1: There were 20 training observations in each of two classes. The observations within each class were uncorrelated random normal variables with a different mean in each class.\n",
    "* Scenario 2: Details are as in Scenario 1, except that within each class, the two predictors had a correlation of 0.5.\n",
    "* Scenario 3: We generated X1 and X2 from the t-distribution, with t-distribution 50 observations per class.\n",
    "* Scenario 4: The data were generated from a normal distribution, with a correlation of 0.5 between the predictors in the first class, and correlation of -0.5 between the predictors in the second class.\n",
    "* Scenario 5: Within each class, the observations were generated from a normal distribution with uncorrelated predictors. However, the responses were sampled from the logistic function using $X_{1}^2, X_{2}^2$, and $X_{1} × X_{2}$ as predictors.\n",
    "* Details are as in the previous scenario, but the responses were sampled from a more complicated non-linear function.\n",
    "\n",
    "These six examples illustrate that no one method will dominate the others in every situation.\n",
    "\n",
    "When the true decision boundaries are linear, then the LDA and logistic regression approaches will tend to perform well. When the boundaries are moderately non-linear, QDA may give better results. Finally, for much more complicated decision boundaries, a non-parametric approach such as KNN can be superior."
   ]
  },
  {
   "cell_type": "markdown",
   "metadata": {},
   "source": [
    "# LAB:Logistic Regression"
   ]
  },
  {
   "cell_type": "code",
   "execution_count": null,
   "metadata": {},
   "outputs": [],
   "source": []
  },
  {
   "cell_type": "code",
   "execution_count": null,
   "metadata": {},
   "outputs": [],
   "source": []
  },
  {
   "cell_type": "code",
   "execution_count": 84,
   "metadata": {},
   "outputs": [],
   "source": [
    "# 1导入股票市场数据,df2：float,df3：string类型\n",
    "df2 = pd.read_csv('Smarket.csv')\n",
    "index=df2.columns\n",
    "df3=pd.read_csv('Smarket.csv', dtype={'code':str})"
   ]
  },
  {
   "cell_type": "code",
   "execution_count": 85,
   "metadata": {
    "scrolled": true
   },
   "outputs": [
    {
     "data": {
      "text/plain": [
       "<matplotlib.axes._subplots.AxesSubplot at 0x7fc882bc1048>"
      ]
     },
     "execution_count": 85,
     "metadata": {},
     "output_type": "execute_result"
    },
    {
     "data": {
      "image/png": "[encoded data removed]",
      "text/plain": [
       "<Figure size 576x360 with 2 Axes>"
      ]
     },
     "metadata": {
      "needs_background": "light"
     },
     "output_type": "display_data"
    }
   ],
   "source": [
    "# 2观察相关性\n",
    "corr = df2.corr()\n",
    "plt.figure(figsize = (8,5))\n",
    "sns.heatmap(corr,annot=True,cmap=\"YlGnBu\",vmin=-0.2,linewidths=.5)"
   ]
  },
  {
   "cell_type": "code",
   "execution_count": 86,
   "metadata": {},
   "outputs": [
    {
     "ename": "SyntaxError",
     "evalue": "invalid syntax (<ipython-input-86-c882ecd172a8>, line 1)",
     "output_type": "error",
     "traceback": [
      "\u001b[0;36m  File \u001b[0;32m\"<ipython-input-86-c882ecd172a8>\"\u001b[0;36m, line \u001b[0;32m1\u001b[0m\n\u001b[0;31m    df3[].plot.box()\u001b[0m\n\u001b[0m        ^\u001b[0m\n\u001b[0;31mSyntaxError\u001b[0m\u001b[0;31m:\u001b[0m invalid syntax\n"
     ]
    }
   ],
   "source": [
    "df3[].plot.box()"
   ]
  },
  {
   "cell_type": "code",
   "execution_count": 87,
   "metadata": {},
   "outputs": [
    {
     "data": {
      "text/plain": [
       "<matplotlib.collections.PathCollection at 0x7fc882a9f400>"
      ]
     },
     "execution_count": 87,
     "metadata": {},
     "output_type": "execute_result"
    },
    {
     "data": {
      "image/png": "[encoded data removed]",
      "text/plain": [
       "<Figure size 576x360 with 1 Axes>"
      ]
     },
     "metadata": {
      "needs_background": "light"
     },
     "output_type": "display_data"
    }
   ],
   "source": [
    "# 3画趋势图 https://github.com/matplotlib/matplotlib/issues/14603/\n",
    "plt.figure(figsize = (8,5))\n",
    "plt.scatter(df2.index,df2['Volume'],c=\"b\")"
   ]
  },
  {
   "cell_type": "code",
   "execution_count": 88,
   "metadata": {},
   "outputs": [
    {
     "name": "stdout",
     "output_type": "stream",
     "text": [
      "Optimization terminated successfully.\n",
      "         Current function value: 0.691034\n",
      "         Iterations 4\n",
      "                           Logit Regression Results                           \n",
      "==============================================================================\n",
      "Dep. Variable:              Direction   No. Observations:                 1250\n",
      "Model:                          Logit   Df Residuals:                     1243\n",
      "Method:                           MLE   Df Model:                            6\n",
      "Date:                Wed, 17 Mar 2021   Pseudo R-squ.:                0.002074\n",
      "Time:                        23:45:13   Log-Likelihood:                -863.79\n",
      "converged:                       True   LL-Null:                       -865.59\n",
      "                                        LLR p-value:                    0.7319\n",
      "==============================================================================\n",
      "                 coef    std err          z      P>|z|      [0.025      0.975]\n",
      "------------------------------------------------------------------------------\n",
      "const         -0.1260      0.241     -0.523      0.601      -0.598       0.346\n",
      "Lag1          -0.0731      0.050     -1.457      0.145      -0.171       0.025\n",
      "Lag2          -0.0423      0.050     -0.845      0.398      -0.140       0.056\n",
      "Lag3           0.0111      0.050      0.222      0.824      -0.087       0.109\n",
      "Lag4           0.0094      0.050      0.187      0.851      -0.089       0.107\n",
      "Lag5           0.0103      0.050      0.208      0.835      -0.087       0.107\n",
      "Volume         0.1354      0.158      0.855      0.392      -0.175       0.446\n",
      "==============================================================================\n"
     ]
    }
   ],
   "source": [
    "# 4使用映射转化为二值变量\n",
    "df2_orig = df2.copy()\n",
    "y = df3['Direction'].map({'Down':0,'Up':1})\n",
    "X = df2.iloc[:,1:-2]\n",
    "X = sm.add_constant(X)\n",
    "results = sm.Logit(y,X).fit()\n",
    "print(results.summary())"
   ]
  },
  {
   "cell_type": "code",
   "execution_count": 89,
   "metadata": {},
   "outputs": [
    {
     "data": {
      "text/html": [
       "<div>\n",
       "<style scoped>\n",
       "    .dataframe tbody tr th:only-of-type {\n",
       "        vertical-align: middle;\n",
       "    }\n",
       "\n",
       "    .dataframe tbody tr th {\n",
       "        vertical-align: top;\n",
       "    }\n",
       "\n",
       "    .dataframe thead th {\n",
       "        text-align: right;\n",
       "    }\n",
       "</style>\n",
       "<table border=\"1\" class=\"dataframe\">\n",
       "  <thead>\n",
       "    <tr style=\"text-align: right;\">\n",
       "      <th></th>\n",
       "      <th>2.5%</th>\n",
       "      <th>97.5%</th>\n",
       "      <th>OR</th>\n",
       "    </tr>\n",
       "  </thead>\n",
       "  <tbody>\n",
       "    <tr>\n",
       "      <th>const</th>\n",
       "      <td>0.550000</td>\n",
       "      <td>1.413171</td>\n",
       "      <td>0.881615</td>\n",
       "    </tr>\n",
       "    <tr>\n",
       "      <th>Lag1</th>\n",
       "      <td>0.842484</td>\n",
       "      <td>1.025575</td>\n",
       "      <td>0.929532</td>\n",
       "    </tr>\n",
       "    <tr>\n",
       "      <th>Lag2</th>\n",
       "      <td>0.868951</td>\n",
       "      <td>1.057456</td>\n",
       "      <td>0.958581</td>\n",
       "    </tr>\n",
       "    <tr>\n",
       "      <th>Lag3</th>\n",
       "      <td>0.916867</td>\n",
       "      <td>1.115121</td>\n",
       "      <td>1.011147</td>\n",
       "    </tr>\n",
       "    <tr>\n",
       "      <th>Lag4</th>\n",
       "      <td>0.915222</td>\n",
       "      <td>1.113276</td>\n",
       "      <td>1.009403</td>\n",
       "    </tr>\n",
       "    <tr>\n",
       "      <th>Lag5</th>\n",
       "      <td>0.916926</td>\n",
       "      <td>1.113329</td>\n",
       "      <td>1.010366</td>\n",
       "    </tr>\n",
       "    <tr>\n",
       "      <th>Volume</th>\n",
       "      <td>0.839507</td>\n",
       "      <td>1.561774</td>\n",
       "      <td>1.145041</td>\n",
       "    </tr>\n",
       "  </tbody>\n",
       "</table>\n",
       "</div>"
      ],
      "text/plain": [
       "            2.5%     97.5%        OR\n",
       "const   0.550000  1.413171  0.881615\n",
       "Lag1    0.842484  1.025575  0.929532\n",
       "Lag2    0.868951  1.057456  0.958581\n",
       "Lag3    0.916867  1.115121  1.011147\n",
       "Lag4    0.915222  1.113276  1.009403\n",
       "Lag5    0.916926  1.113329  1.010366\n",
       "Volume  0.839507  1.561774  1.145041"
      ]
     },
     "execution_count": 89,
     "metadata": {},
     "output_type": "execute_result"
    }
   ],
   "source": [
    "#使用置信区间来计算系数的影响，来更好地估计一个变量影响录取率的不确定性\n",
    "params = results.params\n",
    "conf = results.conf_int()\n",
    "conf['OR'] = params\n",
    "conf.columns = ['2.5%', '97.5%', 'OR']\n",
    "np.exp(conf)"
   ]
  },
  {
   "cell_type": "code",
   "execution_count": 91,
   "metadata": {},
   "outputs": [
    {
     "data": {
      "text/html": [
       "<div>\n",
       "<style scoped>\n",
       "    .dataframe tbody tr th:only-of-type {\n",
       "        vertical-align: middle;\n",
       "    }\n",
       "\n",
       "    .dataframe tbody tr th {\n",
       "        vertical-align: top;\n",
       "    }\n",
       "\n",
       "    .dataframe thead th {\n",
       "        text-align: right;\n",
       "    }\n",
       "</style>\n",
       "<table border=\"1\" class=\"dataframe\">\n",
       "  <thead>\n",
       "    <tr style=\"text-align: right;\">\n",
       "      <th></th>\n",
       "      <th>Probabilities</th>\n",
       "      <th>Classes</th>\n",
       "    </tr>\n",
       "  </thead>\n",
       "  <tbody>\n",
       "    <tr>\n",
       "      <th>1</th>\n",
       "      <td>0.481468</td>\n",
       "      <td>Down</td>\n",
       "    </tr>\n",
       "    <tr>\n",
       "      <th>2</th>\n",
       "      <td>0.481139</td>\n",
       "      <td>Down</td>\n",
       "    </tr>\n",
       "    <tr>\n",
       "      <th>3</th>\n",
       "      <td>0.515222</td>\n",
       "      <td>Up</td>\n",
       "    </tr>\n",
       "    <tr>\n",
       "      <th>4</th>\n",
       "      <td>0.510781</td>\n",
       "      <td>Up</td>\n",
       "    </tr>\n",
       "    <tr>\n",
       "      <th>5</th>\n",
       "      <td>0.506956</td>\n",
       "      <td>Up</td>\n",
       "    </tr>\n",
       "    <tr>\n",
       "      <th>6</th>\n",
       "      <td>0.492651</td>\n",
       "      <td>Down</td>\n",
       "    </tr>\n",
       "    <tr>\n",
       "      <th>7</th>\n",
       "      <td>0.509229</td>\n",
       "      <td>Up</td>\n",
       "    </tr>\n",
       "    <tr>\n",
       "      <th>8</th>\n",
       "      <td>0.517614</td>\n",
       "      <td>Up</td>\n",
       "    </tr>\n",
       "    <tr>\n",
       "      <th>9</th>\n",
       "      <td>0.488838</td>\n",
       "      <td>Down</td>\n",
       "    </tr>\n",
       "    <tr>\n",
       "      <th>10</th>\n",
       "      <td>0.496521</td>\n",
       "      <td>Down</td>\n",
       "    </tr>\n",
       "  </tbody>\n",
       "</table>\n",
       "</div>"
      ],
      "text/plain": [
       "    Probabilities Classes\n",
       "1        0.481468    Down\n",
       "2        0.481139    Down\n",
       "3        0.515222      Up\n",
       "4        0.510781      Up\n",
       "5        0.506956      Up\n",
       "6        0.492651    Down\n",
       "7        0.509229      Up\n",
       "8        0.517614      Up\n",
       "9        0.488838    Down\n",
       "10       0.496521    Down"
      ]
     },
     "execution_count": 91,
     "metadata": {},
     "output_type": "execute_result"
    }
   ],
   "source": [
    "# 预测前10位\n",
    "prob = results.predict(X)[1:11]\n",
    "predicted_classes = np.where(prob <=0.5,'Down','Up')\n",
    "pd.DataFrame({'Probabilities':prob,'Classes':predicted_classes})"
   ]
  },
  {
   "cell_type": "code",
   "execution_count": 92,
   "metadata": {},
   "outputs": [
    {
     "data": {
      "text/plain": [
       "array([[145., 457.],\n",
       "       [141., 507.]])"
      ]
     },
     "execution_count": 92,
     "metadata": {},
     "output_type": "execute_result"
    }
   ],
   "source": [
    "#confusion matrix\n",
    "table = results.pred_table(threshold=0.5)\n",
    "table"
   ]
  },
  {
   "cell_type": "code",
   "execution_count": 93,
   "metadata": {},
   "outputs": [
    {
     "data": {
      "text/plain": [
       "0.5216"
      ]
     },
     "execution_count": 93,
     "metadata": {},
     "output_type": "execute_result"
    }
   ],
   "source": [
    "# the fraction of days for which the prediction was correct:\n",
    "(145+507)/1250\n"
   ]
  },
  {
   "cell_type": "markdown",
   "metadata": {},
   "source": [
    "## train & test"
   ]
  },
  {
   "cell_type": "code",
   "execution_count": 120,
   "metadata": {},
   "outputs": [],
   "source": [
    "# 选取test/train,Shape of train is (998, 9),Shape of test is  (252, 9)\n",
    "del df2['Direction']\n",
    "df2 = pd.concat([df2, y], axis=1)\n",
    "train = df2[df2['Year']<2005]\n",
    "test = df2[df2['Year'] >= 2005]\n",
    "X_train = train.iloc[:,1:-2]\n",
    "X_train = sm.add_constant(X_train)\n",
    "X_test = test.iloc[:,1:-2]\n",
    "X_test = sm.add_constant(X_test)\n",
    "y_train = train['Direction']\n",
    "y_test = test['Direction']"
   ]
  },
  {
   "cell_type": "code",
   "execution_count": 121,
   "metadata": {},
   "outputs": [
    {
     "data": {
      "text/html": [
       "<div>\n",
       "<style scoped>\n",
       "    .dataframe tbody tr th:only-of-type {\n",
       "        vertical-align: middle;\n",
       "    }\n",
       "\n",
       "    .dataframe tbody tr th {\n",
       "        vertical-align: top;\n",
       "    }\n",
       "\n",
       "    .dataframe thead th {\n",
       "        text-align: right;\n",
       "    }\n",
       "</style>\n",
       "<table border=\"1\" class=\"dataframe\">\n",
       "  <thead>\n",
       "    <tr style=\"text-align: right;\">\n",
       "      <th></th>\n",
       "      <th>Year</th>\n",
       "      <th>Lag1</th>\n",
       "      <th>Lag2</th>\n",
       "      <th>Lag3</th>\n",
       "      <th>Lag4</th>\n",
       "      <th>Lag5</th>\n",
       "      <th>Volume</th>\n",
       "      <th>Today</th>\n",
       "      <th>Direction</th>\n",
       "    </tr>\n",
       "  </thead>\n",
       "  <tbody>\n",
       "    <tr>\n",
       "      <th>0</th>\n",
       "      <td>2001</td>\n",
       "      <td>0.381</td>\n",
       "      <td>-0.192</td>\n",
       "      <td>-2.624</td>\n",
       "      <td>-1.055</td>\n",
       "      <td>5.010</td>\n",
       "      <td>1.19130</td>\n",
       "      <td>0.959</td>\n",
       "      <td>1</td>\n",
       "    </tr>\n",
       "    <tr>\n",
       "      <th>1</th>\n",
       "      <td>2001</td>\n",
       "      <td>0.959</td>\n",
       "      <td>0.381</td>\n",
       "      <td>-0.192</td>\n",
       "      <td>-2.624</td>\n",
       "      <td>-1.055</td>\n",
       "      <td>1.29650</td>\n",
       "      <td>1.032</td>\n",
       "      <td>1</td>\n",
       "    </tr>\n",
       "    <tr>\n",
       "      <th>2</th>\n",
       "      <td>2001</td>\n",
       "      <td>1.032</td>\n",
       "      <td>0.959</td>\n",
       "      <td>0.381</td>\n",
       "      <td>-0.192</td>\n",
       "      <td>-2.624</td>\n",
       "      <td>1.41120</td>\n",
       "      <td>-0.623</td>\n",
       "      <td>0</td>\n",
       "    </tr>\n",
       "    <tr>\n",
       "      <th>3</th>\n",
       "      <td>2001</td>\n",
       "      <td>-0.623</td>\n",
       "      <td>1.032</td>\n",
       "      <td>0.959</td>\n",
       "      <td>0.381</td>\n",
       "      <td>-0.192</td>\n",
       "      <td>1.27600</td>\n",
       "      <td>0.614</td>\n",
       "      <td>1</td>\n",
       "    </tr>\n",
       "    <tr>\n",
       "      <th>4</th>\n",
       "      <td>2001</td>\n",
       "      <td>0.614</td>\n",
       "      <td>-0.623</td>\n",
       "      <td>1.032</td>\n",
       "      <td>0.959</td>\n",
       "      <td>0.381</td>\n",
       "      <td>1.20570</td>\n",
       "      <td>0.213</td>\n",
       "      <td>1</td>\n",
       "    </tr>\n",
       "    <tr>\n",
       "      <th>5</th>\n",
       "      <td>2001</td>\n",
       "      <td>0.213</td>\n",
       "      <td>0.614</td>\n",
       "      <td>-0.623</td>\n",
       "      <td>1.032</td>\n",
       "      <td>0.959</td>\n",
       "      <td>1.34910</td>\n",
       "      <td>1.392</td>\n",
       "      <td>1</td>\n",
       "    </tr>\n",
       "    <tr>\n",
       "      <th>6</th>\n",
       "      <td>2001</td>\n",
       "      <td>1.392</td>\n",
       "      <td>0.213</td>\n",
       "      <td>0.614</td>\n",
       "      <td>-0.623</td>\n",
       "      <td>1.032</td>\n",
       "      <td>1.44500</td>\n",
       "      <td>-0.403</td>\n",
       "      <td>0</td>\n",
       "    </tr>\n",
       "    <tr>\n",
       "      <th>7</th>\n",
       "      <td>2001</td>\n",
       "      <td>-0.403</td>\n",
       "      <td>1.392</td>\n",
       "      <td>0.213</td>\n",
       "      <td>0.614</td>\n",
       "      <td>-0.623</td>\n",
       "      <td>1.40780</td>\n",
       "      <td>0.027</td>\n",
       "      <td>1</td>\n",
       "    </tr>\n",
       "    <tr>\n",
       "      <th>8</th>\n",
       "      <td>2001</td>\n",
       "      <td>0.027</td>\n",
       "      <td>-0.403</td>\n",
       "      <td>1.392</td>\n",
       "      <td>0.213</td>\n",
       "      <td>0.614</td>\n",
       "      <td>1.16400</td>\n",
       "      <td>1.303</td>\n",
       "      <td>1</td>\n",
       "    </tr>\n",
       "    <tr>\n",
       "      <th>9</th>\n",
       "      <td>2001</td>\n",
       "      <td>1.303</td>\n",
       "      <td>0.027</td>\n",
       "      <td>-0.403</td>\n",
       "      <td>1.392</td>\n",
       "      <td>0.213</td>\n",
       "      <td>1.23260</td>\n",
       "      <td>0.287</td>\n",
       "      <td>1</td>\n",
       "    </tr>\n",
       "    <tr>\n",
       "      <th>10</th>\n",
       "      <td>2001</td>\n",
       "      <td>0.287</td>\n",
       "      <td>1.303</td>\n",
       "      <td>0.027</td>\n",
       "      <td>-0.403</td>\n",
       "      <td>1.392</td>\n",
       "      <td>1.30900</td>\n",
       "      <td>-0.498</td>\n",
       "      <td>0</td>\n",
       "    </tr>\n",
       "    <tr>\n",
       "      <th>11</th>\n",
       "      <td>2001</td>\n",
       "      <td>-0.498</td>\n",
       "      <td>0.287</td>\n",
       "      <td>1.303</td>\n",
       "      <td>0.027</td>\n",
       "      <td>-0.403</td>\n",
       "      <td>1.25800</td>\n",
       "      <td>-0.189</td>\n",
       "      <td>0</td>\n",
       "    </tr>\n",
       "    <tr>\n",
       "      <th>12</th>\n",
       "      <td>2001</td>\n",
       "      <td>-0.189</td>\n",
       "      <td>-0.498</td>\n",
       "      <td>0.287</td>\n",
       "      <td>1.303</td>\n",
       "      <td>0.027</td>\n",
       "      <td>1.09800</td>\n",
       "      <td>0.680</td>\n",
       "      <td>1</td>\n",
       "    </tr>\n",
       "    <tr>\n",
       "      <th>13</th>\n",
       "      <td>2001</td>\n",
       "      <td>0.680</td>\n",
       "      <td>-0.189</td>\n",
       "      <td>-0.498</td>\n",
       "      <td>0.287</td>\n",
       "      <td>1.303</td>\n",
       "      <td>1.05310</td>\n",
       "      <td>0.701</td>\n",
       "      <td>1</td>\n",
       "    </tr>\n",
       "    <tr>\n",
       "      <th>14</th>\n",
       "      <td>2001</td>\n",
       "      <td>0.701</td>\n",
       "      <td>0.680</td>\n",
       "      <td>-0.189</td>\n",
       "      <td>-0.498</td>\n",
       "      <td>0.287</td>\n",
       "      <td>1.14980</td>\n",
       "      <td>-0.562</td>\n",
       "      <td>0</td>\n",
       "    </tr>\n",
       "    <tr>\n",
       "      <th>15</th>\n",
       "      <td>2001</td>\n",
       "      <td>-0.562</td>\n",
       "      <td>0.701</td>\n",
       "      <td>0.680</td>\n",
       "      <td>-0.189</td>\n",
       "      <td>-0.498</td>\n",
       "      <td>1.29530</td>\n",
       "      <td>0.546</td>\n",
       "      <td>1</td>\n",
       "    </tr>\n",
       "    <tr>\n",
       "      <th>16</th>\n",
       "      <td>2001</td>\n",
       "      <td>0.546</td>\n",
       "      <td>-0.562</td>\n",
       "      <td>0.701</td>\n",
       "      <td>0.680</td>\n",
       "      <td>-0.189</td>\n",
       "      <td>1.11880</td>\n",
       "      <td>-1.747</td>\n",
       "      <td>0</td>\n",
       "    </tr>\n",
       "    <tr>\n",
       "      <th>17</th>\n",
       "      <td>2001</td>\n",
       "      <td>-1.747</td>\n",
       "      <td>0.546</td>\n",
       "      <td>-0.562</td>\n",
       "      <td>0.701</td>\n",
       "      <td>0.680</td>\n",
       "      <td>1.04840</td>\n",
       "      <td>0.359</td>\n",
       "      <td>1</td>\n",
       "    </tr>\n",
       "    <tr>\n",
       "      <th>18</th>\n",
       "      <td>2001</td>\n",
       "      <td>0.359</td>\n",
       "      <td>-1.747</td>\n",
       "      <td>0.546</td>\n",
       "      <td>-0.562</td>\n",
       "      <td>0.701</td>\n",
       "      <td>1.01300</td>\n",
       "      <td>-0.151</td>\n",
       "      <td>0</td>\n",
       "    </tr>\n",
       "    <tr>\n",
       "      <th>19</th>\n",
       "      <td>2001</td>\n",
       "      <td>-0.151</td>\n",
       "      <td>0.359</td>\n",
       "      <td>-1.747</td>\n",
       "      <td>0.546</td>\n",
       "      <td>-0.562</td>\n",
       "      <td>1.05960</td>\n",
       "      <td>-0.841</td>\n",
       "      <td>0</td>\n",
       "    </tr>\n",
       "    <tr>\n",
       "      <th>20</th>\n",
       "      <td>2001</td>\n",
       "      <td>-0.841</td>\n",
       "      <td>-0.151</td>\n",
       "      <td>0.359</td>\n",
       "      <td>-1.747</td>\n",
       "      <td>0.546</td>\n",
       "      <td>1.15830</td>\n",
       "      <td>-0.623</td>\n",
       "      <td>0</td>\n",
       "    </tr>\n",
       "    <tr>\n",
       "      <th>21</th>\n",
       "      <td>2001</td>\n",
       "      <td>-0.623</td>\n",
       "      <td>-0.841</td>\n",
       "      <td>-0.151</td>\n",
       "      <td>0.359</td>\n",
       "      <td>-1.747</td>\n",
       "      <td>1.10720</td>\n",
       "      <td>-1.334</td>\n",
       "      <td>0</td>\n",
       "    </tr>\n",
       "    <tr>\n",
       "      <th>22</th>\n",
       "      <td>2001</td>\n",
       "      <td>-1.334</td>\n",
       "      <td>-0.623</td>\n",
       "      <td>-0.841</td>\n",
       "      <td>-0.151</td>\n",
       "      <td>0.359</td>\n",
       "      <td>1.07550</td>\n",
       "      <td>1.183</td>\n",
       "      <td>1</td>\n",
       "    </tr>\n",
       "    <tr>\n",
       "      <th>23</th>\n",
       "      <td>2001</td>\n",
       "      <td>1.183</td>\n",
       "      <td>-1.334</td>\n",
       "      <td>-0.623</td>\n",
       "      <td>-0.841</td>\n",
       "      <td>-0.151</td>\n",
       "      <td>1.03910</td>\n",
       "      <td>-0.865</td>\n",
       "      <td>0</td>\n",
       "    </tr>\n",
       "    <tr>\n",
       "      <th>24</th>\n",
       "      <td>2001</td>\n",
       "      <td>-0.865</td>\n",
       "      <td>1.183</td>\n",
       "      <td>-1.334</td>\n",
       "      <td>-0.623</td>\n",
       "      <td>-0.841</td>\n",
       "      <td>1.07520</td>\n",
       "      <td>-0.218</td>\n",
       "      <td>0</td>\n",
       "    </tr>\n",
       "    <tr>\n",
       "      <th>25</th>\n",
       "      <td>2001</td>\n",
       "      <td>-0.218</td>\n",
       "      <td>-0.865</td>\n",
       "      <td>1.183</td>\n",
       "      <td>-1.334</td>\n",
       "      <td>-0.623</td>\n",
       "      <td>1.15030</td>\n",
       "      <td>0.812</td>\n",
       "      <td>1</td>\n",
       "    </tr>\n",
       "    <tr>\n",
       "      <th>26</th>\n",
       "      <td>2001</td>\n",
       "      <td>0.812</td>\n",
       "      <td>-0.218</td>\n",
       "      <td>-0.865</td>\n",
       "      <td>1.183</td>\n",
       "      <td>-1.334</td>\n",
       "      <td>1.15370</td>\n",
       "      <td>-1.891</td>\n",
       "      <td>0</td>\n",
       "    </tr>\n",
       "    <tr>\n",
       "      <th>27</th>\n",
       "      <td>2001</td>\n",
       "      <td>-1.891</td>\n",
       "      <td>0.812</td>\n",
       "      <td>-0.218</td>\n",
       "      <td>-0.865</td>\n",
       "      <td>1.183</td>\n",
       "      <td>1.25720</td>\n",
       "      <td>-1.736</td>\n",
       "      <td>0</td>\n",
       "    </tr>\n",
       "    <tr>\n",
       "      <th>28</th>\n",
       "      <td>2001</td>\n",
       "      <td>-1.736</td>\n",
       "      <td>-1.891</td>\n",
       "      <td>0.812</td>\n",
       "      <td>-0.218</td>\n",
       "      <td>-0.865</td>\n",
       "      <td>1.11220</td>\n",
       "      <td>-1.851</td>\n",
       "      <td>0</td>\n",
       "    </tr>\n",
       "    <tr>\n",
       "      <th>29</th>\n",
       "      <td>2001</td>\n",
       "      <td>-1.851</td>\n",
       "      <td>-1.736</td>\n",
       "      <td>-1.891</td>\n",
       "      <td>0.812</td>\n",
       "      <td>-0.218</td>\n",
       "      <td>1.20850</td>\n",
       "      <td>-0.195</td>\n",
       "      <td>0</td>\n",
       "    </tr>\n",
       "    <tr>\n",
       "      <th>...</th>\n",
       "      <td>...</td>\n",
       "      <td>...</td>\n",
       "      <td>...</td>\n",
       "      <td>...</td>\n",
       "      <td>...</td>\n",
       "      <td>...</td>\n",
       "      <td>...</td>\n",
       "      <td>...</td>\n",
       "      <td>...</td>\n",
       "    </tr>\n",
       "    <tr>\n",
       "      <th>1220</th>\n",
       "      <td>2005</td>\n",
       "      <td>0.179</td>\n",
       "      <td>-0.385</td>\n",
       "      <td>-0.078</td>\n",
       "      <td>0.305</td>\n",
       "      <td>0.845</td>\n",
       "      <td>2.12158</td>\n",
       "      <td>0.941</td>\n",
       "      <td>1</td>\n",
       "    </tr>\n",
       "    <tr>\n",
       "      <th>1221</th>\n",
       "      <td>2005</td>\n",
       "      <td>0.941</td>\n",
       "      <td>0.179</td>\n",
       "      <td>-0.385</td>\n",
       "      <td>-0.078</td>\n",
       "      <td>0.305</td>\n",
       "      <td>2.29804</td>\n",
       "      <td>0.440</td>\n",
       "      <td>1</td>\n",
       "    </tr>\n",
       "    <tr>\n",
       "      <th>1222</th>\n",
       "      <td>2005</td>\n",
       "      <td>0.440</td>\n",
       "      <td>0.941</td>\n",
       "      <td>0.179</td>\n",
       "      <td>-0.385</td>\n",
       "      <td>-0.078</td>\n",
       "      <td>2.45329</td>\n",
       "      <td>0.527</td>\n",
       "      <td>1</td>\n",
       "    </tr>\n",
       "    <tr>\n",
       "      <th>1223</th>\n",
       "      <td>2005</td>\n",
       "      <td>0.527</td>\n",
       "      <td>0.440</td>\n",
       "      <td>0.941</td>\n",
       "      <td>0.179</td>\n",
       "      <td>-0.385</td>\n",
       "      <td>2.11735</td>\n",
       "      <td>0.508</td>\n",
       "      <td>1</td>\n",
       "    </tr>\n",
       "    <tr>\n",
       "      <th>1224</th>\n",
       "      <td>2005</td>\n",
       "      <td>0.508</td>\n",
       "      <td>0.527</td>\n",
       "      <td>0.440</td>\n",
       "      <td>0.941</td>\n",
       "      <td>0.179</td>\n",
       "      <td>2.29142</td>\n",
       "      <td>0.347</td>\n",
       "      <td>1</td>\n",
       "    </tr>\n",
       "    <tr>\n",
       "      <th>1225</th>\n",
       "      <td>2005</td>\n",
       "      <td>0.347</td>\n",
       "      <td>0.508</td>\n",
       "      <td>0.527</td>\n",
       "      <td>0.440</td>\n",
       "      <td>0.941</td>\n",
       "      <td>1.98540</td>\n",
       "      <td>0.209</td>\n",
       "      <td>1</td>\n",
       "    </tr>\n",
       "    <tr>\n",
       "      <th>1226</th>\n",
       "      <td>2005</td>\n",
       "      <td>0.209</td>\n",
       "      <td>0.347</td>\n",
       "      <td>0.508</td>\n",
       "      <td>0.527</td>\n",
       "      <td>0.440</td>\n",
       "      <td>0.72494</td>\n",
       "      <td>-0.851</td>\n",
       "      <td>0</td>\n",
       "    </tr>\n",
       "    <tr>\n",
       "      <th>1227</th>\n",
       "      <td>2005</td>\n",
       "      <td>-0.851</td>\n",
       "      <td>0.209</td>\n",
       "      <td>0.347</td>\n",
       "      <td>0.508</td>\n",
       "      <td>0.527</td>\n",
       "      <td>2.01690</td>\n",
       "      <td>0.002</td>\n",
       "      <td>1</td>\n",
       "    </tr>\n",
       "    <tr>\n",
       "      <th>1228</th>\n",
       "      <td>2005</td>\n",
       "      <td>0.002</td>\n",
       "      <td>-0.851</td>\n",
       "      <td>0.209</td>\n",
       "      <td>0.347</td>\n",
       "      <td>0.508</td>\n",
       "      <td>2.26834</td>\n",
       "      <td>-0.636</td>\n",
       "      <td>0</td>\n",
       "    </tr>\n",
       "    <tr>\n",
       "      <th>1229</th>\n",
       "      <td>2005</td>\n",
       "      <td>-0.636</td>\n",
       "      <td>0.002</td>\n",
       "      <td>-0.851</td>\n",
       "      <td>0.209</td>\n",
       "      <td>0.347</td>\n",
       "      <td>2.37469</td>\n",
       "      <td>1.216</td>\n",
       "      <td>1</td>\n",
       "    </tr>\n",
       "    <tr>\n",
       "      <th>1230</th>\n",
       "      <td>2005</td>\n",
       "      <td>1.216</td>\n",
       "      <td>-0.636</td>\n",
       "      <td>0.002</td>\n",
       "      <td>-0.851</td>\n",
       "      <td>0.209</td>\n",
       "      <td>2.61483</td>\n",
       "      <td>0.032</td>\n",
       "      <td>1</td>\n",
       "    </tr>\n",
       "    <tr>\n",
       "      <th>1231</th>\n",
       "      <td>2005</td>\n",
       "      <td>0.032</td>\n",
       "      <td>1.216</td>\n",
       "      <td>-0.636</td>\n",
       "      <td>0.002</td>\n",
       "      <td>-0.851</td>\n",
       "      <td>2.12558</td>\n",
       "      <td>-0.236</td>\n",
       "      <td>0</td>\n",
       "    </tr>\n",
       "    <tr>\n",
       "      <th>1232</th>\n",
       "      <td>2005</td>\n",
       "      <td>-0.236</td>\n",
       "      <td>0.032</td>\n",
       "      <td>1.216</td>\n",
       "      <td>-0.636</td>\n",
       "      <td>0.002</td>\n",
       "      <td>2.32584</td>\n",
       "      <td>0.128</td>\n",
       "      <td>1</td>\n",
       "    </tr>\n",
       "    <tr>\n",
       "      <th>1233</th>\n",
       "      <td>2005</td>\n",
       "      <td>0.128</td>\n",
       "      <td>-0.236</td>\n",
       "      <td>0.032</td>\n",
       "      <td>1.216</td>\n",
       "      <td>-0.636</td>\n",
       "      <td>2.11074</td>\n",
       "      <td>-0.501</td>\n",
       "      <td>0</td>\n",
       "    </tr>\n",
       "    <tr>\n",
       "      <th>1234</th>\n",
       "      <td>2005</td>\n",
       "      <td>-0.501</td>\n",
       "      <td>0.128</td>\n",
       "      <td>-0.236</td>\n",
       "      <td>0.032</td>\n",
       "      <td>1.216</td>\n",
       "      <td>2.09383</td>\n",
       "      <td>-0.122</td>\n",
       "      <td>0</td>\n",
       "    </tr>\n",
       "    <tr>\n",
       "      <th>1235</th>\n",
       "      <td>2005</td>\n",
       "      <td>-0.122</td>\n",
       "      <td>-0.501</td>\n",
       "      <td>0.128</td>\n",
       "      <td>-0.236</td>\n",
       "      <td>0.032</td>\n",
       "      <td>2.17830</td>\n",
       "      <td>0.281</td>\n",
       "      <td>1</td>\n",
       "    </tr>\n",
       "    <tr>\n",
       "      <th>1236</th>\n",
       "      <td>2005</td>\n",
       "      <td>0.281</td>\n",
       "      <td>-0.122</td>\n",
       "      <td>-0.501</td>\n",
       "      <td>0.128</td>\n",
       "      <td>-0.236</td>\n",
       "      <td>1.89629</td>\n",
       "      <td>0.084</td>\n",
       "      <td>1</td>\n",
       "    </tr>\n",
       "    <tr>\n",
       "      <th>1237</th>\n",
       "      <td>2005</td>\n",
       "      <td>0.084</td>\n",
       "      <td>0.281</td>\n",
       "      <td>-0.122</td>\n",
       "      <td>-0.501</td>\n",
       "      <td>0.128</td>\n",
       "      <td>1.87655</td>\n",
       "      <td>0.555</td>\n",
       "      <td>1</td>\n",
       "    </tr>\n",
       "    <tr>\n",
       "      <th>1238</th>\n",
       "      <td>2005</td>\n",
       "      <td>0.555</td>\n",
       "      <td>0.084</td>\n",
       "      <td>0.281</td>\n",
       "      <td>-0.122</td>\n",
       "      <td>-0.501</td>\n",
       "      <td>2.39002</td>\n",
       "      <td>0.419</td>\n",
       "      <td>1</td>\n",
       "    </tr>\n",
       "    <tr>\n",
       "      <th>1239</th>\n",
       "      <td>2005</td>\n",
       "      <td>0.419</td>\n",
       "      <td>0.555</td>\n",
       "      <td>0.084</td>\n",
       "      <td>0.281</td>\n",
       "      <td>-0.122</td>\n",
       "      <td>2.14552</td>\n",
       "      <td>-0.141</td>\n",
       "      <td>0</td>\n",
       "    </tr>\n",
       "    <tr>\n",
       "      <th>1240</th>\n",
       "      <td>2005</td>\n",
       "      <td>-0.141</td>\n",
       "      <td>0.419</td>\n",
       "      <td>0.555</td>\n",
       "      <td>0.084</td>\n",
       "      <td>0.281</td>\n",
       "      <td>2.18059</td>\n",
       "      <td>-0.285</td>\n",
       "      <td>0</td>\n",
       "    </tr>\n",
       "    <tr>\n",
       "      <th>1241</th>\n",
       "      <td>2005</td>\n",
       "      <td>-0.285</td>\n",
       "      <td>-0.141</td>\n",
       "      <td>0.419</td>\n",
       "      <td>0.555</td>\n",
       "      <td>0.084</td>\n",
       "      <td>2.58419</td>\n",
       "      <td>-0.584</td>\n",
       "      <td>0</td>\n",
       "    </tr>\n",
       "    <tr>\n",
       "      <th>1242</th>\n",
       "      <td>2005</td>\n",
       "      <td>-0.584</td>\n",
       "      <td>-0.285</td>\n",
       "      <td>-0.141</td>\n",
       "      <td>0.419</td>\n",
       "      <td>0.555</td>\n",
       "      <td>2.20881</td>\n",
       "      <td>-0.024</td>\n",
       "      <td>0</td>\n",
       "    </tr>\n",
       "    <tr>\n",
       "      <th>1243</th>\n",
       "      <td>2005</td>\n",
       "      <td>-0.024</td>\n",
       "      <td>-0.584</td>\n",
       "      <td>-0.285</td>\n",
       "      <td>-0.141</td>\n",
       "      <td>0.419</td>\n",
       "      <td>1.99669</td>\n",
       "      <td>0.252</td>\n",
       "      <td>1</td>\n",
       "    </tr>\n",
       "    <tr>\n",
       "      <th>1244</th>\n",
       "      <td>2005</td>\n",
       "      <td>0.252</td>\n",
       "      <td>-0.024</td>\n",
       "      <td>-0.584</td>\n",
       "      <td>-0.285</td>\n",
       "      <td>-0.141</td>\n",
       "      <td>2.06517</td>\n",
       "      <td>0.422</td>\n",
       "      <td>1</td>\n",
       "    </tr>\n",
       "    <tr>\n",
       "      <th>1245</th>\n",
       "      <td>2005</td>\n",
       "      <td>0.422</td>\n",
       "      <td>0.252</td>\n",
       "      <td>-0.024</td>\n",
       "      <td>-0.584</td>\n",
       "      <td>-0.285</td>\n",
       "      <td>1.88850</td>\n",
       "      <td>0.043</td>\n",
       "      <td>1</td>\n",
       "    </tr>\n",
       "    <tr>\n",
       "      <th>1246</th>\n",
       "      <td>2005</td>\n",
       "      <td>0.043</td>\n",
       "      <td>0.422</td>\n",
       "      <td>0.252</td>\n",
       "      <td>-0.024</td>\n",
       "      <td>-0.584</td>\n",
       "      <td>1.28581</td>\n",
       "      <td>-0.955</td>\n",
       "      <td>0</td>\n",
       "    </tr>\n",
       "    <tr>\n",
       "      <th>1247</th>\n",
       "      <td>2005</td>\n",
       "      <td>-0.955</td>\n",
       "      <td>0.043</td>\n",
       "      <td>0.422</td>\n",
       "      <td>0.252</td>\n",
       "      <td>-0.024</td>\n",
       "      <td>1.54047</td>\n",
       "      <td>0.130</td>\n",
       "      <td>1</td>\n",
       "    </tr>\n",
       "    <tr>\n",
       "      <th>1248</th>\n",
       "      <td>2005</td>\n",
       "      <td>0.130</td>\n",
       "      <td>-0.955</td>\n",
       "      <td>0.043</td>\n",
       "      <td>0.422</td>\n",
       "      <td>0.252</td>\n",
       "      <td>1.42236</td>\n",
       "      <td>-0.298</td>\n",
       "      <td>0</td>\n",
       "    </tr>\n",
       "    <tr>\n",
       "      <th>1249</th>\n",
       "      <td>2005</td>\n",
       "      <td>-0.298</td>\n",
       "      <td>0.130</td>\n",
       "      <td>-0.955</td>\n",
       "      <td>0.043</td>\n",
       "      <td>0.422</td>\n",
       "      <td>1.38254</td>\n",
       "      <td>-0.489</td>\n",
       "      <td>0</td>\n",
       "    </tr>\n",
       "  </tbody>\n",
       "</table>\n",
       "<p>1250 rows × 9 columns</p>\n",
       "</div>"
      ],
      "text/plain": [
       "      Year   Lag1   Lag2   Lag3   Lag4   Lag5   Volume  Today  Direction\n",
       "0     2001  0.381 -0.192 -2.624 -1.055  5.010  1.19130  0.959          1\n",
       "1     2001  0.959  0.381 -0.192 -2.624 -1.055  1.29650  1.032          1\n",
       "2     2001  1.032  0.959  0.381 -0.192 -2.624  1.41120 -0.623          0\n",
       "3     2001 -0.623  1.032  0.959  0.381 -0.192  1.27600  0.614          1\n",
       "4     2001  0.614 -0.623  1.032  0.959  0.381  1.20570  0.213          1\n",
       "5     2001  0.213  0.614 -0.623  1.032  0.959  1.34910  1.392          1\n",
       "6     2001  1.392  0.213  0.614 -0.623  1.032  1.44500 -0.403          0\n",
       "7     2001 -0.403  1.392  0.213  0.614 -0.623  1.40780  0.027          1\n",
       "8     2001  0.027 -0.403  1.392  0.213  0.614  1.16400  1.303          1\n",
       "9     2001  1.303  0.027 -0.403  1.392  0.213  1.23260  0.287          1\n",
       "10    2001  0.287  1.303  0.027 -0.403  1.392  1.30900 -0.498          0\n",
       "11    2001 -0.498  0.287  1.303  0.027 -0.403  1.25800 -0.189          0\n",
       "12    2001 -0.189 -0.498  0.287  1.303  0.027  1.09800  0.680          1\n",
       "13    2001  0.680 -0.189 -0.498  0.287  1.303  1.05310  0.701          1\n",
       "14    2001  0.701  0.680 -0.189 -0.498  0.287  1.14980 -0.562          0\n",
       "15    2001 -0.562  0.701  0.680 -0.189 -0.498  1.29530  0.546          1\n",
       "16    2001  0.546 -0.562  0.701  0.680 -0.189  1.11880 -1.747          0\n",
       "17    2001 -1.747  0.546 -0.562  0.701  0.680  1.04840  0.359          1\n",
       "18    2001  0.359 -1.747  0.546 -0.562  0.701  1.01300 -0.151          0\n",
       "19    2001 -0.151  0.359 -1.747  0.546 -0.562  1.05960 -0.841          0\n",
       "20    2001 -0.841 -0.151  0.359 -1.747  0.546  1.15830 -0.623          0\n",
       "21    2001 -0.623 -0.841 -0.151  0.359 -1.747  1.10720 -1.334          0\n",
       "22    2001 -1.334 -0.623 -0.841 -0.151  0.359  1.07550  1.183          1\n",
       "23    2001  1.183 -1.334 -0.623 -0.841 -0.151  1.03910 -0.865          0\n",
       "24    2001 -0.865  1.183 -1.334 -0.623 -0.841  1.07520 -0.218          0\n",
       "25    2001 -0.218 -0.865  1.183 -1.334 -0.623  1.15030  0.812          1\n",
       "26    2001  0.812 -0.218 -0.865  1.183 -1.334  1.15370 -1.891          0\n",
       "27    2001 -1.891  0.812 -0.218 -0.865  1.183  1.25720 -1.736          0\n",
       "28    2001 -1.736 -1.891  0.812 -0.218 -0.865  1.11220 -1.851          0\n",
       "29    2001 -1.851 -1.736 -1.891  0.812 -0.218  1.20850 -0.195          0\n",
       "...    ...    ...    ...    ...    ...    ...      ...    ...        ...\n",
       "1220  2005  0.179 -0.385 -0.078  0.305  0.845  2.12158  0.941          1\n",
       "1221  2005  0.941  0.179 -0.385 -0.078  0.305  2.29804  0.440          1\n",
       "1222  2005  0.440  0.941  0.179 -0.385 -0.078  2.45329  0.527          1\n",
       "1223  2005  0.527  0.440  0.941  0.179 -0.385  2.11735  0.508          1\n",
       "1224  2005  0.508  0.527  0.440  0.941  0.179  2.29142  0.347          1\n",
       "1225  2005  0.347  0.508  0.527  0.440  0.941  1.98540  0.209          1\n",
       "1226  2005  0.209  0.347  0.508  0.527  0.440  0.72494 -0.851          0\n",
       "1227  2005 -0.851  0.209  0.347  0.508  0.527  2.01690  0.002          1\n",
       "1228  2005  0.002 -0.851  0.209  0.347  0.508  2.26834 -0.636          0\n",
       "1229  2005 -0.636  0.002 -0.851  0.209  0.347  2.37469  1.216          1\n",
       "1230  2005  1.216 -0.636  0.002 -0.851  0.209  2.61483  0.032          1\n",
       "1231  2005  0.032  1.216 -0.636  0.002 -0.851  2.12558 -0.236          0\n",
       "1232  2005 -0.236  0.032  1.216 -0.636  0.002  2.32584  0.128          1\n",
       "1233  2005  0.128 -0.236  0.032  1.216 -0.636  2.11074 -0.501          0\n",
       "1234  2005 -0.501  0.128 -0.236  0.032  1.216  2.09383 -0.122          0\n",
       "1235  2005 -0.122 -0.501  0.128 -0.236  0.032  2.17830  0.281          1\n",
       "1236  2005  0.281 -0.122 -0.501  0.128 -0.236  1.89629  0.084          1\n",
       "1237  2005  0.084  0.281 -0.122 -0.501  0.128  1.87655  0.555          1\n",
       "1238  2005  0.555  0.084  0.281 -0.122 -0.501  2.39002  0.419          1\n",
       "1239  2005  0.419  0.555  0.084  0.281 -0.122  2.14552 -0.141          0\n",
       "1240  2005 -0.141  0.419  0.555  0.084  0.281  2.18059 -0.285          0\n",
       "1241  2005 -0.285 -0.141  0.419  0.555  0.084  2.58419 -0.584          0\n",
       "1242  2005 -0.584 -0.285 -0.141  0.419  0.555  2.20881 -0.024          0\n",
       "1243  2005 -0.024 -0.584 -0.285 -0.141  0.419  1.99669  0.252          1\n",
       "1244  2005  0.252 -0.024 -0.584 -0.285 -0.141  2.06517  0.422          1\n",
       "1245  2005  0.422  0.252 -0.024 -0.584 -0.285  1.88850  0.043          1\n",
       "1246  2005  0.043  0.422  0.252 -0.024 -0.584  1.28581 -0.955          0\n",
       "1247  2005 -0.955  0.043  0.422  0.252 -0.024  1.54047  0.130          1\n",
       "1248  2005  0.130 -0.955  0.043  0.422  0.252  1.42236 -0.298          0\n",
       "1249  2005 -0.298  0.130 -0.955  0.043  0.422  1.38254 -0.489          0\n",
       "\n",
       "[1250 rows x 9 columns]"
      ]
     },
     "execution_count": 121,
     "metadata": {},
     "output_type": "execute_result"
    }
   ],
   "source": [
    "# 如果多attach了请删除\n",
    "# del df2['Direction']\n",
    "df2"
   ]
  },
  {
   "cell_type": "code",
   "execution_count": 96,
   "metadata": {},
   "outputs": [
    {
     "name": "stdout",
     "output_type": "stream",
     "text": [
      "Optimization terminated successfully.\n",
      "         Current function value: 0.691936\n",
      "         Iterations 4\n",
      "                           Logit Regression Results                           \n",
      "==============================================================================\n",
      "Dep. Variable:              Direction   No. Observations:                  998\n",
      "Model:                          Logit   Df Residuals:                      991\n",
      "Method:                           MLE   Df Model:                            6\n",
      "Date:                Wed, 17 Mar 2021   Pseudo R-squ.:                0.001562\n",
      "Time:                        23:45:29   Log-Likelihood:                -690.55\n",
      "converged:                       True   LL-Null:                       -691.63\n",
      "                                        LLR p-value:                    0.9044\n",
      "==============================================================================\n",
      "                 coef    std err          z      P>|z|      [0.025      0.975]\n",
      "------------------------------------------------------------------------------\n",
      "const          0.1912      0.334      0.573      0.567      -0.463       0.845\n",
      "Lag1          -0.0542      0.052     -1.046      0.295      -0.156       0.047\n",
      "Lag2          -0.0458      0.052     -0.884      0.377      -0.147       0.056\n",
      "Lag3           0.0072      0.052      0.139      0.889      -0.094       0.108\n",
      "Lag4           0.0064      0.052      0.125      0.901      -0.095       0.108\n",
      "Lag5          -0.0042      0.051     -0.083      0.934      -0.104       0.096\n",
      "Volume        -0.1163      0.240     -0.485      0.628      -0.586       0.353\n",
      "==============================================================================\n"
     ]
    }
   ],
   "source": [
    "results2 = sm.Logit(y_train,X_train).fit()\n",
    "print(results2.summary())"
   ]
  },
  {
   "cell_type": "code",
   "execution_count": 122,
   "metadata": {},
   "outputs": [],
   "source": [
    "pred_test = results2.predict(X_test)"
   ]
  },
  {
   "cell_type": "code",
   "execution_count": 123,
   "metadata": {},
   "outputs": [
    {
     "name": "stdout",
     "output_type": "stream",
     "text": [
      "Optimization terminated successfully.\n",
      "         Current function value: 0.691936\n",
      "         Iterations 4\n"
     ]
    }
   ],
   "source": [
    "results2 = sm.Logit(y_train,X_train).fit()"
   ]
  },
  {
   "cell_type": "markdown",
   "metadata": {},
   "source": [
    "### Performance on test set\n",
    "| PRED\\TRUE | Down | UP  |\n",
    "|-----------|------|-----|\n",
    "| DOWN      | 77  | 97  |\n",
    "| UP        | 34  | 44|\n",
    "accuracy=0.4802\n",
    "\n",
    "⚠️The results are rather disappointing: the test error rate is 52%, which is worse than random guessing!"
   ]
  },
  {
   "cell_type": "code",
   "execution_count": 124,
   "metadata": {},
   "outputs": [
    {
     "name": "stdout",
     "output_type": "stream",
     "text": [
      "       DOWN  UP\n",
      "DOWN    77  34\n",
      "UP      97  44\n",
      "accuracy= 0.4801587301587302\n"
     ]
    }
   ],
   "source": [
    "pred_classes = np.where(pred_test > 0.5,1,0)\n",
    "cm = confusion_matrix(y_test,pred_classes)\n",
    "print(\"\",pd.DataFrame(cm,columns = ['DOWN','UP'],index = ['DOWN','UP']))\n",
    "print(\"accuracy=\",accuracy2)"
   ]
  },
  {
   "cell_type": "code",
   "execution_count": 125,
   "metadata": {},
   "outputs": [],
   "source": [
    "accuracy2 = accuracy_score(y_test,pred_classes)\n"
   ]
  },
  {
   "cell_type": "markdown",
   "metadata": {},
   "source": [
    "### Reﬁt of the logistic regression using just Lag1 and Lag2\n",
    "| PRED\\TRUE | Down | UP  |\n",
    "|-----------|------|-----|\n",
    "| DOWN      | 35   | 34  |\n",
    "| UP        | 35   | 106 |\n",
    "accuracy=0.5595"
   ]
  },
  {
   "cell_type": "code",
   "execution_count": 126,
   "metadata": {},
   "outputs": [],
   "source": [
    "\n",
    "predictors = ['Lag1','Lag2']\n",
    "X_train = train[predictors]\n",
    "X_train = sm.add_constant(X_train)\n",
    "\n",
    "X_test = test[predictors]\n",
    "X_test = sm.add_constant(X_test)\n",
    "# y_train and y_test remains the same"
   ]
  },
  {
   "cell_type": "code",
   "execution_count": 127,
   "metadata": {},
   "outputs": [
    {
     "name": "stdout",
     "output_type": "stream",
     "text": [
      "Optimization terminated successfully.\n",
      "         Current function value: 0.692085\n",
      "         Iterations 3\n"
     ]
    }
   ],
   "source": [
    "results3 = sm.Logit(y_train,X_train).fit()\n",
    "pred_test3 = results3.predict(X_test)"
   ]
  },
  {
   "cell_type": "code",
   "execution_count": 131,
   "metadata": {},
   "outputs": [],
   "source": [
    "pred_classes3 = np.where(pred_test3 > 0.5,1,0)\n",
    "cm3 = confusion_matrix(y_test,pred_classes3)\n",
    "accuracy3 = accuracy_score(y_test,pred_classes3)"
   ]
  },
  {
   "cell_type": "code",
   "execution_count": 132,
   "metadata": {},
   "outputs": [
    {
     "name": "stdout",
     "output_type": "stream",
     "text": [
      "       DOWN   UP\n",
      "DOWN    35   76\n",
      "UP      35  106\n",
      "accuracy= 0.5595238095238095\n"
     ]
    }
   ],
   "source": [
    "print(\"\",pd.DataFrame(cm3,columns = ['DOWN','UP'],index = ['DOWN','UP']))\n",
    "print(\"accuracy=\",accuracy3)\n"
   ]
  },
  {
   "cell_type": "markdown",
   "metadata": {},
   "source": [
    "### 4.6.3 Linear Discriminant Analysis\n",
    "Now we will perform LDA on the Smarket data. We fit the model using only the observations before 2005."
   ]
  },
  {
   "cell_type": "code",
   "execution_count": 18,
   "metadata": {},
   "outputs": [
    {
     "name": "stdout",
     "output_type": "stream",
     "text": [
      "Prior probabilities of groups :\n",
      "['Down' 'Up']\n",
      "[0.49198397 0.50801603]\n",
      "Group means: (index=[Down,Up]),columns=[Lag1,Lag2]\n",
      "[[ 0.04279022  0.03389409]\n",
      " [-0.03954635 -0.03132544]]\n",
      "Coeffficients: \n",
      "[[-0.05544078 -0.0443452 ]]\n"
     ]
    }
   ],
   "source": [
    "file=open('Smarket.csv')\n",
    "Smarket=pd.read_csv(file)\n",
    "file.close()\n",
    "Smarket=Smarket.set_index('Year')\n",
    "\n",
    "data_train=Smarket[Smarket.index<2005]\n",
    "y_train=data_train['Direction']\n",
    "X_train=data_train[['Lag1','Lag2']]\n",
    "\n",
    "data_test=Smarket[Smarket.index==2005]\n",
    "y_test=data_test['Direction']\n",
    "X_test=data_test[['Lag1','Lag2']]\n",
    "\n",
    "lda=LinearDiscriminantAnalysis().fit(X_train,y_train)\n",
    "classes=lda.classes_\n",
    "priors=lda.priors_\n",
    "means=lda.means_\n",
    "coef=lda.coef_\n",
    "print('Prior probabilities of groups :')\n",
    "print(classes)\n",
    "print(priors)\n",
    "print('Group means: (index=[Down,Up]),columns=[Lag1,Lag2]')\n",
    "print(means)\n",
    "print('Coeffficients: ')\n",
    "print(coef)"
   ]
  },
  {
   "cell_type": "code",
   "execution_count": 19,
   "metadata": {},
   "outputs": [
    {
     "name": "stdout",
     "output_type": "stream",
     "text": [
      "        true_0  true_1\n",
      "pred_0      35      35\n",
      "pred_1      76     106\n",
      "Accuracy is: 0.5595238095238095\n"
     ]
    }
   ],
   "source": [
    "y_pred=lda.predict(X_test)\n",
    "print(confusion_df(lda,X_test,y_test))\n",
    "print('Accuracy is: {}'.format(accuracy_score(y_test,y_pred)))"
   ]
  },
  {
   "cell_type": "markdown",
   "metadata": {},
   "source": [
    "Applying a 50% threshold to the posterior probabilities allows us to recreate the predictions."
   ]
  },
  {
   "cell_type": "code",
   "execution_count": 21,
   "metadata": {},
   "outputs": [
    {
     "name": "stdout",
     "output_type": "stream",
     "text": [
      "70\n",
      "182\n"
     ]
    }
   ],
   "source": [
    "y_pred_threshould=(lda.predict_proba(X_test)>=0.5)[:,0]\n",
    "print(y_pred_threshould.sum())\n",
    "y_pred_threshould=(lda.predict_proba(X_test)<0.5)[:,0]\n",
    "print(y_pred_threshould.sum())"
   ]
  },
  {
   "cell_type": "markdown",
   "metadata": {},
   "source": [
    "If we wanted to use a posterior probability threshold other than 50% in order to make predictions, then we could easily do so. For instance, suppose that we wish to predict a market decrease only if we are very certain that the market will indeed decrease on that day — say, if the posterior probability is at least 90%."
   ]
  },
  {
   "cell_type": "code",
   "execution_count": 22,
   "metadata": {},
   "outputs": [
    {
     "name": "stdout",
     "output_type": "stream",
     "text": [
      "0\n"
     ]
    }
   ],
   "source": [
    "y_pred_threshould=(lda.predict_proba(X_test)>0.9)[:,0]\n",
    "print(y_pred_threshould.sum())"
   ]
  },
  {
   "cell_type": "markdown",
   "metadata": {},
   "source": [
    "### 4.6.4 Quadratic Discriminant Analysis\n",
    "We will now fit a QDA model to the Smarket data."
   ]
  },
  {
   "cell_type": "code",
   "execution_count": 23,
   "metadata": {},
   "outputs": [
    {
     "name": "stdout",
     "output_type": "stream",
     "text": [
      "Prior probabilities of groups :\n",
      "['Down' 'Up']\n",
      "[0.49198397 0.50801603]\n",
      "Group means: (index=[Down,Up]),columns=[Lag1,Lag2]\n",
      "[[ 0.04279022  0.03389409]\n",
      " [-0.03954635 -0.03132544]]\n"
     ]
    }
   ],
   "source": [
    "qda=QuadraticDiscriminantAnalysis().fit(X_train,y_train)\n",
    "classes=qda.classes_\n",
    "priors=qda.priors_\n",
    "means=qda.means_\n",
    "\n",
    "print('Prior probabilities of groups :')\n",
    "print(classes)\n",
    "print(priors)\n",
    "print('Group means: (index=[Down,Up]),columns=[Lag1,Lag2]')\n",
    "print(means)"
   ]
  },
  {
   "cell_type": "markdown",
   "metadata": {},
   "source": [
    "The output contains the group means. But it does not contain the coefficients of the linear discriminants, because the QDA classifier involves a quadratic, rather than a linear, function of the predictors."
   ]
  },
  {
   "cell_type": "code",
   "execution_count": 24,
   "metadata": {},
   "outputs": [
    {
     "name": "stdout",
     "output_type": "stream",
     "text": [
      "        true_0  true_1\n",
      "pred_0      30      20\n",
      "pred_1      81     121\n",
      "Accuracy is: 0.5992063492063492\n"
     ]
    }
   ],
   "source": [
    "y_pred=qda.predict(X_test)\n",
    "print(confusion_df(qda,X_test,y_test))\n",
    "print('Accuracy is: {}'.format(accuracy_score(y_test,y_pred)))"
   ]
  },
  {
   "cell_type": "markdown",
   "metadata": {},
   "source": [
    "### 4.6.5 K-Nearest Neighbors"
   ]
  },
  {
   "cell_type": "code",
   "execution_count": 25,
   "metadata": {},
   "outputs": [
    {
     "data": {
      "text/plain": [
       "0.5"
      ]
     },
     "execution_count": 25,
     "metadata": {},
     "output_type": "execute_result"
    }
   ],
   "source": [
    "# neighbor=1,accuracy=0.5\n",
    "from sklearn.neighbors import KNeighborsClassifier\n",
    "model = KNeighborsClassifier(n_neighbors=1)\n",
    "model.fit(X_train,y_train)\n",
    "pred_test4 = model.predict(X_test)\n",
    "accuracy_score(y_test,pred_test4)"
   ]
  },
  {
   "cell_type": "code",
   "execution_count": 26,
   "metadata": {},
   "outputs": [
    {
     "data": {
      "text/plain": [
       "0.5317460317460317"
      ]
     },
     "execution_count": 26,
     "metadata": {},
     "output_type": "execute_result"
    }
   ],
   "source": [
    "# neighbor=3,accuracy=0.5317460317460317\n",
    "knn = KNeighborsClassifier(n_neighbors=3)\n",
    "knn.fit(X_train,y_train)\n",
    "pred_test4 = knn.predict(X_test)\n",
    "accuracy_score(y_test,pred_test4)"
   ]
  },
  {
   "cell_type": "code",
   "execution_count": 27,
   "metadata": {},
   "outputs": [
    {
     "data": {
      "text/plain": [
       "0.5324444444444444"
      ]
     },
     "execution_count": 27,
     "metadata": {},
     "output_type": "execute_result"
    }
   ],
   "source": [
    "# 交叉验证最合适邻居数量\n",
    "from sklearn.model_selection import cross_val_score\n",
    "knn = KNeighborsClassifier()\n",
    "score = cross_val_score(knn,X_test,y_test,scoring='accuracy',cv = 10) #评分标准 分类标准 cv就是分成几份\n",
    "score.mean()\n"
   ]
  },
  {
   "cell_type": "markdown",
   "metadata": {},
   "source": [
    "### 4.6.6 Caravan Insurance Data\n"
   ]
  },
  {
   "cell_type": "code",
   "execution_count": 139,
   "metadata": {},
   "outputs": [],
   "source": [
    "df4 = pd.read_csv('Caravan.csv')\n",
    "index4=df4.columns\n",
    "df5=pd.read_csv('Caravan.csv', dtype={'code':str})\n",
    "#df5"
   ]
  },
  {
   "cell_type": "code",
   "execution_count": 140,
   "metadata": {},
   "outputs": [
    {
     "data": {
      "text/html": [
       "<div>\n",
       "<style scoped>\n",
       "    .dataframe tbody tr th:only-of-type {\n",
       "        vertical-align: middle;\n",
       "    }\n",
       "\n",
       "    .dataframe tbody tr th {\n",
       "        vertical-align: top;\n",
       "    }\n",
       "\n",
       "    .dataframe thead th {\n",
       "        text-align: right;\n",
       "    }\n",
       "</style>\n",
       "<table border=\"1\" class=\"dataframe\">\n",
       "  <thead>\n",
       "    <tr style=\"text-align: right;\">\n",
       "      <th></th>\n",
       "      <th>MOSTYPE</th>\n",
       "      <th>MAANTHUI</th>\n",
       "      <th>MGEMOMV</th>\n",
       "      <th>MGEMLEEF</th>\n",
       "      <th>MOSHOOFD</th>\n",
       "      <th>MGODRK</th>\n",
       "      <th>MGODPR</th>\n",
       "      <th>MGODOV</th>\n",
       "      <th>MGODGE</th>\n",
       "      <th>MRELGE</th>\n",
       "      <th>...</th>\n",
       "      <th>APERSONG</th>\n",
       "      <th>AGEZONG</th>\n",
       "      <th>AWAOREG</th>\n",
       "      <th>ABRAND</th>\n",
       "      <th>AZEILPL</th>\n",
       "      <th>APLEZIER</th>\n",
       "      <th>AFIETS</th>\n",
       "      <th>AINBOED</th>\n",
       "      <th>ABYSTAND</th>\n",
       "      <th>Purchase</th>\n",
       "    </tr>\n",
       "  </thead>\n",
       "  <tbody>\n",
       "    <tr>\n",
       "      <th>count</th>\n",
       "      <td>5822.000000</td>\n",
       "      <td>5822.000000</td>\n",
       "      <td>5822.000000</td>\n",
       "      <td>5822.000000</td>\n",
       "      <td>5822.000000</td>\n",
       "      <td>5822.000000</td>\n",
       "      <td>5822.000000</td>\n",
       "      <td>5822.000000</td>\n",
       "      <td>5822.000000</td>\n",
       "      <td>5822.000000</td>\n",
       "      <td>...</td>\n",
       "      <td>5822.000000</td>\n",
       "      <td>5822.000000</td>\n",
       "      <td>5822.000000</td>\n",
       "      <td>5822.000000</td>\n",
       "      <td>5822.000000</td>\n",
       "      <td>5822.000000</td>\n",
       "      <td>5822.000000</td>\n",
       "      <td>5822.000000</td>\n",
       "      <td>5822.000000</td>\n",
       "      <td>5822.000000</td>\n",
       "    </tr>\n",
       "    <tr>\n",
       "      <th>mean</th>\n",
       "      <td>24.253349</td>\n",
       "      <td>1.110615</td>\n",
       "      <td>2.678805</td>\n",
       "      <td>2.991240</td>\n",
       "      <td>5.773617</td>\n",
       "      <td>0.696496</td>\n",
       "      <td>4.626932</td>\n",
       "      <td>1.069907</td>\n",
       "      <td>3.258502</td>\n",
       "      <td>6.183442</td>\n",
       "      <td>...</td>\n",
       "      <td>0.005325</td>\n",
       "      <td>0.006527</td>\n",
       "      <td>0.004638</td>\n",
       "      <td>0.570079</td>\n",
       "      <td>0.000515</td>\n",
       "      <td>0.006012</td>\n",
       "      <td>0.031776</td>\n",
       "      <td>0.007901</td>\n",
       "      <td>0.014256</td>\n",
       "      <td>0.059773</td>\n",
       "    </tr>\n",
       "    <tr>\n",
       "      <th>std</th>\n",
       "      <td>12.846706</td>\n",
       "      <td>0.405842</td>\n",
       "      <td>0.789835</td>\n",
       "      <td>0.814589</td>\n",
       "      <td>2.856760</td>\n",
       "      <td>1.003234</td>\n",
       "      <td>1.715843</td>\n",
       "      <td>1.017503</td>\n",
       "      <td>1.597647</td>\n",
       "      <td>1.909482</td>\n",
       "      <td>...</td>\n",
       "      <td>0.072782</td>\n",
       "      <td>0.080532</td>\n",
       "      <td>0.077403</td>\n",
       "      <td>0.562058</td>\n",
       "      <td>0.022696</td>\n",
       "      <td>0.081632</td>\n",
       "      <td>0.210986</td>\n",
       "      <td>0.090463</td>\n",
       "      <td>0.119996</td>\n",
       "      <td>0.237087</td>\n",
       "    </tr>\n",
       "    <tr>\n",
       "      <th>min</th>\n",
       "      <td>1.000000</td>\n",
       "      <td>1.000000</td>\n",
       "      <td>1.000000</td>\n",
       "      <td>1.000000</td>\n",
       "      <td>1.000000</td>\n",
       "      <td>0.000000</td>\n",
       "      <td>0.000000</td>\n",
       "      <td>0.000000</td>\n",
       "      <td>0.000000</td>\n",
       "      <td>0.000000</td>\n",
       "      <td>...</td>\n",
       "      <td>0.000000</td>\n",
       "      <td>0.000000</td>\n",
       "      <td>0.000000</td>\n",
       "      <td>0.000000</td>\n",
       "      <td>0.000000</td>\n",
       "      <td>0.000000</td>\n",
       "      <td>0.000000</td>\n",
       "      <td>0.000000</td>\n",
       "      <td>0.000000</td>\n",
       "      <td>0.000000</td>\n",
       "    </tr>\n",
       "    <tr>\n",
       "      <th>25%</th>\n",
       "      <td>10.000000</td>\n",
       "      <td>1.000000</td>\n",
       "      <td>2.000000</td>\n",
       "      <td>2.000000</td>\n",
       "      <td>3.000000</td>\n",
       "      <td>0.000000</td>\n",
       "      <td>4.000000</td>\n",
       "      <td>0.000000</td>\n",
       "      <td>2.000000</td>\n",
       "      <td>5.000000</td>\n",
       "      <td>...</td>\n",
       "      <td>0.000000</td>\n",
       "      <td>0.000000</td>\n",
       "      <td>0.000000</td>\n",
       "      <td>0.000000</td>\n",
       "      <td>0.000000</td>\n",
       "      <td>0.000000</td>\n",
       "      <td>0.000000</td>\n",
       "      <td>0.000000</td>\n",
       "      <td>0.000000</td>\n",
       "      <td>0.000000</td>\n",
       "    </tr>\n",
       "    <tr>\n",
       "      <th>50%</th>\n",
       "      <td>30.000000</td>\n",
       "      <td>1.000000</td>\n",
       "      <td>3.000000</td>\n",
       "      <td>3.000000</td>\n",
       "      <td>7.000000</td>\n",
       "      <td>0.000000</td>\n",
       "      <td>5.000000</td>\n",
       "      <td>1.000000</td>\n",
       "      <td>3.000000</td>\n",
       "      <td>6.000000</td>\n",
       "      <td>...</td>\n",
       "      <td>0.000000</td>\n",
       "      <td>0.000000</td>\n",
       "      <td>0.000000</td>\n",
       "      <td>1.000000</td>\n",
       "      <td>0.000000</td>\n",
       "      <td>0.000000</td>\n",
       "      <td>0.000000</td>\n",
       "      <td>0.000000</td>\n",
       "      <td>0.000000</td>\n",
       "      <td>0.000000</td>\n",
       "    </tr>\n",
       "    <tr>\n",
       "      <th>75%</th>\n",
       "      <td>35.000000</td>\n",
       "      <td>1.000000</td>\n",
       "      <td>3.000000</td>\n",
       "      <td>3.000000</td>\n",
       "      <td>8.000000</td>\n",
       "      <td>1.000000</td>\n",
       "      <td>6.000000</td>\n",
       "      <td>2.000000</td>\n",
       "      <td>4.000000</td>\n",
       "      <td>7.000000</td>\n",
       "      <td>...</td>\n",
       "      <td>0.000000</td>\n",
       "      <td>0.000000</td>\n",
       "      <td>0.000000</td>\n",
       "      <td>1.000000</td>\n",
       "      <td>0.000000</td>\n",
       "      <td>0.000000</td>\n",
       "      <td>0.000000</td>\n",
       "      <td>0.000000</td>\n",
       "      <td>0.000000</td>\n",
       "      <td>0.000000</td>\n",
       "    </tr>\n",
       "    <tr>\n",
       "      <th>max</th>\n",
       "      <td>41.000000</td>\n",
       "      <td>10.000000</td>\n",
       "      <td>5.000000</td>\n",
       "      <td>6.000000</td>\n",
       "      <td>10.000000</td>\n",
       "      <td>9.000000</td>\n",
       "      <td>9.000000</td>\n",
       "      <td>5.000000</td>\n",
       "      <td>9.000000</td>\n",
       "      <td>9.000000</td>\n",
       "      <td>...</td>\n",
       "      <td>1.000000</td>\n",
       "      <td>1.000000</td>\n",
       "      <td>2.000000</td>\n",
       "      <td>7.000000</td>\n",
       "      <td>1.000000</td>\n",
       "      <td>2.000000</td>\n",
       "      <td>3.000000</td>\n",
       "      <td>2.000000</td>\n",
       "      <td>2.000000</td>\n",
       "      <td>1.000000</td>\n",
       "    </tr>\n",
       "  </tbody>\n",
       "</table>\n",
       "<p>8 rows × 86 columns</p>\n",
       "</div>"
      ],
      "text/plain": [
       "           MOSTYPE     MAANTHUI      MGEMOMV     MGEMLEEF     MOSHOOFD  \\\n",
       "count  5822.000000  5822.000000  5822.000000  5822.000000  5822.000000   \n",
       "mean     24.253349     1.110615     2.678805     2.991240     5.773617   \n",
       "std      12.846706     0.405842     0.789835     0.814589     2.856760   \n",
       "min       1.000000     1.000000     1.000000     1.000000     1.000000   \n",
       "25%      10.000000     1.000000     2.000000     2.000000     3.000000   \n",
       "50%      30.000000     1.000000     3.000000     3.000000     7.000000   \n",
       "75%      35.000000     1.000000     3.000000     3.000000     8.000000   \n",
       "max      41.000000    10.000000     5.000000     6.000000    10.000000   \n",
       "\n",
       "            MGODRK       MGODPR       MGODOV       MGODGE       MRELGE  \\\n",
       "count  5822.000000  5822.000000  5822.000000  5822.000000  5822.000000   \n",
       "mean      0.696496     4.626932     1.069907     3.258502     6.183442   \n",
       "std       1.003234     1.715843     1.017503     1.597647     1.909482   \n",
       "min       0.000000     0.000000     0.000000     0.000000     0.000000   \n",
       "25%       0.000000     4.000000     0.000000     2.000000     5.000000   \n",
       "50%       0.000000     5.000000     1.000000     3.000000     6.000000   \n",
       "75%       1.000000     6.000000     2.000000     4.000000     7.000000   \n",
       "max       9.000000     9.000000     5.000000     9.000000     9.000000   \n",
       "\n",
       "          ...          APERSONG      AGEZONG      AWAOREG       ABRAND  \\\n",
       "count     ...       5822.000000  5822.000000  5822.000000  5822.000000   \n",
       "mean      ...          0.005325     0.006527     0.004638     0.570079   \n",
       "std       ...          0.072782     0.080532     0.077403     0.562058   \n",
       "min       ...          0.000000     0.000000     0.000000     0.000000   \n",
       "25%       ...          0.000000     0.000000     0.000000     0.000000   \n",
       "50%       ...          0.000000     0.000000     0.000000     1.000000   \n",
       "75%       ...          0.000000     0.000000     0.000000     1.000000   \n",
       "max       ...          1.000000     1.000000     2.000000     7.000000   \n",
       "\n",
       "           AZEILPL     APLEZIER       AFIETS      AINBOED     ABYSTAND  \\\n",
       "count  5822.000000  5822.000000  5822.000000  5822.000000  5822.000000   \n",
       "mean      0.000515     0.006012     0.031776     0.007901     0.014256   \n",
       "std       0.022696     0.081632     0.210986     0.090463     0.119996   \n",
       "min       0.000000     0.000000     0.000000     0.000000     0.000000   \n",
       "25%       0.000000     0.000000     0.000000     0.000000     0.000000   \n",
       "50%       0.000000     0.000000     0.000000     0.000000     0.000000   \n",
       "75%       0.000000     0.000000     0.000000     0.000000     0.000000   \n",
       "max       1.000000     2.000000     3.000000     2.000000     2.000000   \n",
       "\n",
       "          Purchase  \n",
       "count  5822.000000  \n",
       "mean      0.059773  \n",
       "std       0.237087  \n",
       "min       0.000000  \n",
       "25%       0.000000  \n",
       "50%       0.000000  \n",
       "75%       0.000000  \n",
       "max       1.000000  \n",
       "\n",
       "[8 rows x 86 columns]"
      ]
     },
     "execution_count": 140,
     "metadata": {},
     "output_type": "execute_result"
    }
   ],
   "source": [
    "# 简单的数据汇报\n",
    "del df4['Purchase']\n",
    "y = df5['Purchase'].map({'No':0,'Yes':1})\n",
    "df4 = pd.concat([df4, y], axis=1)\n",
    "df4.describe()"
   ]
  },
  {
   "cell_type": "code",
   "execution_count": 141,
   "metadata": {},
   "outputs": [],
   "source": [
    "# 切分数据集\n",
    "X_test = df4.iloc[:1000,:]\n",
    "X_train = df4.iloc[1000:,:]\n",
    "\n",
    "y_train = X_train['Purchase']\n",
    "y_test = X_test['Purchase']\n",
    "del X_train['Purchase']\n",
    "del X_test['Purchase']"
   ]
  },
  {
   "cell_type": "code",
   "execution_count": 142,
   "metadata": {},
   "outputs": [],
   "source": [
    "#标准化\n",
    "from sklearn.preprocessing import StandardScaler\n",
    "scaler = StandardScaler()\n",
    "X_test=scaler.fit_transform(X_test)\n",
    "X_train=scaler.fit_transform(X_train)"
   ]
  },
  {
   "cell_type": "code",
   "execution_count": 143,
   "metadata": {},
   "outputs": [
    {
     "data": {
      "text/plain": [
       "array([[ 1.2308091 , -0.27590228,  2.93614908, ..., -0.15427936,\n",
       "        -0.08805137, -0.11780156],\n",
       "       [ 0.13836043, -0.27590228, -2.12438559, ..., -0.15427936,\n",
       "        -0.08805137, -0.11780156],\n",
       "       [-1.11015233, -0.27590228,  1.67101541, ..., -0.15427936,\n",
       "        -0.08805137, -0.11780156],\n",
       "       ...,\n",
       "       [ 0.68458477, -0.27590228,  0.40588175, ..., -0.15427936,\n",
       "        -0.08805137, -0.11780156],\n",
       "       [ 0.76261681, -0.27590228,  0.40588175, ..., -0.15427936,\n",
       "        -0.08805137, -0.11780156],\n",
       "       [ 0.68458477, -0.27590228,  0.40588175, ..., -0.15427936,\n",
       "        -0.08805137, -0.11780156]])"
      ]
     },
     "execution_count": 143,
     "metadata": {},
     "output_type": "execute_result"
    }
   ],
   "source": [
    "X_train"
   ]
  },
  {
   "cell_type": "code",
   "execution_count": 144,
   "metadata": {},
   "outputs": [
    {
     "data": {
      "text/plain": [
       "KNeighborsClassifier(algorithm='auto', leaf_size=30, metric='minkowski',\n",
       "           metric_params=None, n_jobs=1, n_neighbors=1, p=2,\n",
       "           weights='uniform')"
      ]
     },
     "execution_count": 144,
     "metadata": {},
     "output_type": "execute_result"
    }
   ],
   "source": [
    "# KNN, n_neighbors = 1\n",
    "knn = KNeighborsClassifier(n_neighbors=1)\n",
    "knn.fit(X_train,y_train)"
   ]
  },
  {
   "cell_type": "code",
   "execution_count": 151,
   "metadata": {},
   "outputs": [
    {
     "name": "stdout",
     "output_type": "stream",
     "text": [
      "KNN, n_neighbors = 1:\n",
      " accuracy 0.88\n",
      "       No  Yes\n",
      "No   872   69\n",
      "Yes   51    8\n"
     ]
    }
   ],
   "source": [
    "pred = knn.predict(X_test)\n",
    "cm = confusion_matrix(y_test,pred)\n",
    "print(\"KNN, n_neighbors = 1:\\n accuracy\",accuracy_score(y_test,pred))\n",
    "print(\"\",pd.DataFrame(cm,columns = ['No','Yes'],index = ['No','Yes']))"
   ]
  },
  {
   "cell_type": "code",
   "execution_count": 152,
   "metadata": {},
   "outputs": [
    {
     "name": "stdout",
     "output_type": "stream",
     "text": [
      "KNN, n_neighbors = 3:\n",
      " accuracy 0.926\n",
      "       No  Yes\n",
      "No   921   20\n",
      "Yes   54    5\n"
     ]
    }
   ],
   "source": [
    "knn = KNeighborsClassifier(n_neighbors=3)\n",
    "knn.fit(X_train,y_train)\n",
    "pred = knn.predict(X_test)\n",
    "cm = confusion_matrix(y_test,pred)\n",
    "print(\"KNN, n_neighbors = 3:\\n accuracy\",accuracy_score(y_test,pred))\n",
    "print(\"\",pd.DataFrame(cm,columns = ['No','Yes'],index = ['No','Yes']))"
   ]
  },
  {
   "cell_type": "code",
   "execution_count": 154,
   "metadata": {},
   "outputs": [
    {
     "name": "stdout",
     "output_type": "stream",
     "text": [
      "KNN, n_neighbors = 5:\n",
      " accuracy 0.937\n",
      "       No  Yes\n",
      "No   934    7\n",
      "Yes   56    3\n"
     ]
    }
   ],
   "source": [
    "knn = KNeighborsClassifier(n_neighbors=5)\n",
    "knn.fit(X_train,y_train)\n",
    "pred = knn.predict(X_test)\n",
    "cm = confusion_matrix(y_test,pred)\n",
    "print(\"KNN, n_neighbors = 5:\\n accuracy\",accuracy_score(y_test,pred))\n",
    "print(\"\",pd.DataFrame(cm,columns = ['No','Yes'],index = ['No','Yes']))"
   ]
  },
  {
   "cell_type": "code",
   "execution_count": null,
   "metadata": {},
   "outputs": [],
   "source": []
  }
 ],
 "metadata": {
  "kernelspec": {
   "display_name": "Python 3",
   "language": "python",
   "name": "python3"
  },
  "language_info": {
   "codemirror_mode": {
    "name": "ipython",
    "version": 3
   },
   "file_extension": ".py",
   "mimetype": "text/x-python",
   "name": "python",
   "nbconvert_exporter": "python",
   "pygments_lexer": "ipython3",
   "version": "3.7.0"
  }
 },
 "nbformat": 4,
 "nbformat_minor": 2
}
