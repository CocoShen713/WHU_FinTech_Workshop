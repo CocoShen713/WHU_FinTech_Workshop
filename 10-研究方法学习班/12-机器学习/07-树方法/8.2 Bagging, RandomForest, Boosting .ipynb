{
 "cells": [
  {
   "cell_type": "markdown",
   "metadata": {},
   "source": [
    "# 8.2 Bagging, Random Froest, Boosting"
   ]
  },
  {
   "cell_type": "code",
   "execution_count": 24,
   "metadata": {},
   "outputs": [],
   "source": [
    "# Usual Packages\n",
    "import pandas as pd\n",
    "import numpy as np\n",
    "import random\n",
    "import os\n",
    "import math\n",
    "os.chdir(r'E:\\python3\\2020_Seminar\\2021春季学习班\\自行实现文档\\07_树方法\\4.15讲解文档')"
   ]
  },
  {
   "cell_type": "code",
   "execution_count": 25,
   "metadata": {},
   "outputs": [],
   "source": [
    "# Machine Learning Packages\n",
    "\n",
    "# Train & Test Split\n",
    "from sklearn.model_selection import train_test_split, cross_val_score, GridSearchCV\n",
    "# Single Tree\n",
    "from sklearn.tree import DecisionTreeClassifier, DecisionTreeRegressor, plot_tree\n",
    "# Bagging \n",
    "from sklearn.ensemble import BaggingClassifier,BaggingRegressor\n",
    "# Random Forest\n",
    "from sklearn.ensemble import RandomForestClassifier,RandomForestRegressor\n",
    "# Boosting\n",
    "from sklearn.ensemble import GradientBoostingClassifier,GradientBoostingRegressor\n",
    "# Evaluation Metrics\n",
    "from sklearn import metrics\n",
    "# draw figures\n",
    "import matplotlib.pyplot as plt "
   ]
  },
  {
   "cell_type": "code",
   "execution_count": 53,
   "metadata": {
    "scrolled": true
   },
   "outputs": [
    {
     "data": {
      "text/html": [
       "<div>\n",
       "<style scoped>\n",
       "    .dataframe tbody tr th:only-of-type {\n",
       "        vertical-align: middle;\n",
       "    }\n",
       "\n",
       "    .dataframe tbody tr th {\n",
       "        vertical-align: top;\n",
       "    }\n",
       "\n",
       "    .dataframe thead th {\n",
       "        text-align: right;\n",
       "    }\n",
       "</style>\n",
       "<table border=\"1\" class=\"dataframe\">\n",
       "  <thead>\n",
       "    <tr style=\"text-align: right;\">\n",
       "      <th></th>\n",
       "      <th>Age</th>\n",
       "      <th>Sex</th>\n",
       "      <th>ChestPain</th>\n",
       "      <th>RestBP</th>\n",
       "      <th>Chol</th>\n",
       "      <th>Fbs</th>\n",
       "      <th>RestECG</th>\n",
       "      <th>MaxHR</th>\n",
       "      <th>ExAng</th>\n",
       "      <th>Oldpeak</th>\n",
       "      <th>Slope</th>\n",
       "      <th>Ca</th>\n",
       "      <th>Thal</th>\n",
       "      <th>AHD</th>\n",
       "    </tr>\n",
       "  </thead>\n",
       "  <tbody>\n",
       "    <tr>\n",
       "      <th>1</th>\n",
       "      <td>63</td>\n",
       "      <td>1</td>\n",
       "      <td>3</td>\n",
       "      <td>145</td>\n",
       "      <td>233</td>\n",
       "      <td>1</td>\n",
       "      <td>2</td>\n",
       "      <td>150</td>\n",
       "      <td>0</td>\n",
       "      <td>2.3</td>\n",
       "      <td>3</td>\n",
       "      <td>0.0</td>\n",
       "      <td>0</td>\n",
       "      <td>0</td>\n",
       "    </tr>\n",
       "    <tr>\n",
       "      <th>2</th>\n",
       "      <td>67</td>\n",
       "      <td>1</td>\n",
       "      <td>0</td>\n",
       "      <td>160</td>\n",
       "      <td>286</td>\n",
       "      <td>0</td>\n",
       "      <td>2</td>\n",
       "      <td>108</td>\n",
       "      <td>1</td>\n",
       "      <td>1.5</td>\n",
       "      <td>2</td>\n",
       "      <td>3.0</td>\n",
       "      <td>1</td>\n",
       "      <td>1</td>\n",
       "    </tr>\n",
       "    <tr>\n",
       "      <th>3</th>\n",
       "      <td>67</td>\n",
       "      <td>1</td>\n",
       "      <td>0</td>\n",
       "      <td>120</td>\n",
       "      <td>229</td>\n",
       "      <td>0</td>\n",
       "      <td>2</td>\n",
       "      <td>129</td>\n",
       "      <td>1</td>\n",
       "      <td>2.6</td>\n",
       "      <td>2</td>\n",
       "      <td>2.0</td>\n",
       "      <td>2</td>\n",
       "      <td>1</td>\n",
       "    </tr>\n",
       "    <tr>\n",
       "      <th>4</th>\n",
       "      <td>37</td>\n",
       "      <td>1</td>\n",
       "      <td>1</td>\n",
       "      <td>130</td>\n",
       "      <td>250</td>\n",
       "      <td>0</td>\n",
       "      <td>0</td>\n",
       "      <td>187</td>\n",
       "      <td>0</td>\n",
       "      <td>3.5</td>\n",
       "      <td>3</td>\n",
       "      <td>0.0</td>\n",
       "      <td>1</td>\n",
       "      <td>0</td>\n",
       "    </tr>\n",
       "    <tr>\n",
       "      <th>5</th>\n",
       "      <td>41</td>\n",
       "      <td>0</td>\n",
       "      <td>2</td>\n",
       "      <td>130</td>\n",
       "      <td>204</td>\n",
       "      <td>0</td>\n",
       "      <td>2</td>\n",
       "      <td>172</td>\n",
       "      <td>0</td>\n",
       "      <td>1.4</td>\n",
       "      <td>1</td>\n",
       "      <td>0.0</td>\n",
       "      <td>1</td>\n",
       "      <td>0</td>\n",
       "    </tr>\n",
       "  </tbody>\n",
       "</table>\n",
       "</div>"
      ],
      "text/plain": [
       "   Age  Sex  ChestPain  RestBP  Chol  Fbs  RestECG  MaxHR  ExAng  Oldpeak  \\\n",
       "1   63    1          3     145   233    1        2    150      0      2.3   \n",
       "2   67    1          0     160   286    0        2    108      1      1.5   \n",
       "3   67    1          0     120   229    0        2    129      1      2.6   \n",
       "4   37    1          1     130   250    0        0    187      0      3.5   \n",
       "5   41    0          2     130   204    0        2    172      0      1.4   \n",
       "\n",
       "   Slope   Ca  Thal  AHD  \n",
       "1      3  0.0     0    0  \n",
       "2      2  3.0     1    1  \n",
       "3      2  2.0     2    1  \n",
       "4      3  0.0     1    0  \n",
       "5      1  0.0     1    0  "
      ]
     },
     "execution_count": 53,
     "metadata": {},
     "output_type": "execute_result"
    }
   ],
   "source": [
    "# Data processing\n",
    "Heart = pd.read_csv(r'数据\\Heart.csv',index_col=0).dropna()\n",
    "\n",
    "from sklearn import preprocessing\n",
    "le = preprocessing.LabelEncoder()\n",
    "\n",
    "qualitative_columns = ['ChestPain','Thal','AHD']\n",
    "for column in qualitative_columns:\n",
    "    Heart[column] = le.fit_transform(Heart[column])\n",
    "  \n",
    "X = Heart.drop('AHD',axis=1)\n",
    "y = Heart['AHD']\n",
    "\n",
    "Heart.head()"
   ]
  },
  {
   "cell_type": "code",
   "execution_count": 55,
   "metadata": {},
   "outputs": [
    {
     "name": "stdout",
     "output_type": "stream",
     "text": [
      "single_tree train_accuracy: 1.0\n",
      "single_tree test_accuracy: 0.697986577181208\n"
     ]
    }
   ],
   "source": [
    "# Single Classification Tree\n",
    "X_train, X_test, y_train, y_test = train_test_split(X, y, test_size=0.5, random_state=0)\n",
    "\n",
    "single_tree_clf = DecisionTreeClassifier(random_state=0)\n",
    "single_tree_clf.fit(X_train,y_train)\n",
    "print('single_tree train_accuracy: %s'%(single_tree_clf.score(X_train,y_train)))\n",
    "\n",
    "y_test_pred = single_tree_clf.predict(X_test)\n",
    "print('single_tree test_accuracy: %s'%(metrics.accuracy_score(y_test,y_test_pred)))"
   ]
  },
  {
   "cell_type": "markdown",
   "metadata": {},
   "source": [
    "## 8.2.1 Bagging"
   ]
  },
  {
   "cell_type": "markdown",
   "metadata": {},
   "source": [
    "*Bootstrap aggregation* , or *bagging*, is a general-purpose procedure for reducing the variance of a statistical learning method.\n",
    "\n",
    "The decision trees discussed in Section 8.1 suffer from high variance.This means that if we split the training data into two parts at random,and fit a decision tree to both halves, the results that we get could be\n",
    "quite different."
   ]
  },
  {
   "cell_type": "markdown",
   "metadata": {},
   "source": [
    "Hence a natural way to reduce the variance and hence increase the prediction\n",
    "accuracy of a statistical learning method is to take many training sets\n",
    "from the population, build a separate prediction model using each training\n",
    "set, and average the resulting predictions."
   ]
  },
  {
   "cell_type": "markdown",
   "metadata": {},
   "source": [
    "$$\n",
    "\\hat{f}_{\\text {bag }}(x)=\\frac{1}{B} \\sum_{b=1}^{B} \\hat{f}^{*b}(x)\n",
    "$$"
   ]
  },
  {
   "cell_type": "markdown",
   "metadata": {},
   "source": [
    "![title](img/bootstrap.PNG)"
   ]
  },
  {
   "cell_type": "markdown",
   "metadata": {},
   "source": [
    "相同评价指标，不同样本"
   ]
  },
  {
   "cell_type": "markdown",
   "metadata": {},
   "source": [
    "一、oob（Out - of - Bag）\n",
    "\n",
    "定义：放回取样导致一部分样本很有可能没有取到，这部分样本平均大约有 37% ，把这部分没有取到的样本称为 oob 数据集；\n",
    "\n",
    "使用OOB-袋外错误率时，可以不对数据集进行 train_test_split。也就是在全集随机有方回取样得到训练集（假设取样大小等于全集），使用没有取到的样本做测试集。"
   ]
  },
  {
   "cell_type": "markdown",
   "metadata": {},
   "source": [
    "![title](img/oob.PNG)"
   ]
  },
  {
   "cell_type": "markdown",
   "metadata": {},
   "source": [
    " 参数：OOB-袋外错误率"
   ]
  },
  {
   "cell_type": "markdown",
   "metadata": {},
   "source": [
    "1）对每个样本，计算它作为oob样本的树对它的分类情况（约1/3的树）；\n",
    "\n",
    "2）然后以简单多数投票作为该样本的分类结果；\n",
    "\n",
    "3）最后用误分个数占样本总数的比率作为随机森林的oob误分率。"
   ]
  },
  {
   "cell_type": "markdown",
   "metadata": {},
   "source": [
    "oob误分率是随机森林泛化误差的一个无偏估计，它的结果近似于需要大量计算的k折交叉验证。"
   ]
  },
  {
   "cell_type": "code",
   "execution_count": 27,
   "metadata": {
    "scrolled": false
   },
   "outputs": [
    {
     "name": "stdout",
     "output_type": "stream",
     "text": [
      "Bagging oob_score: 0.7777777777777778\n",
      "Bagging test_accuracy: 0.785234899328859\n"
     ]
    }
   ],
   "source": [
    "# Bagging\n",
    "# OOB_score\n",
    "X_train, X_test, y_train, y_test = train_test_split(X, y, test_size=0.5, random_state=0)\n",
    "\n",
    "bagging_clf_OOB = BaggingClassifier(DecisionTreeClassifier(),\n",
    "                               n_estimators=100,random_state=0,\n",
    "                               bootstrap=True, oob_score=True,n_jobs=-1)\n",
    "bagging_clf_OOB.fit(X,y)\n",
    "print('Bagging oob_score: %s'%(bagging_clf_OOB.oob_score_))\n",
    "\n",
    "# test_score\n",
    "bagging_clf_test = BaggingClassifier(DecisionTreeClassifier(),\n",
    "                               n_estimators=100,random_state=0,\n",
    "                               bootstrap=True, oob_score=False,n_jobs=-1)\n",
    "bagging_clf_test.fit(X_train,y_train)\n",
    "y_test_pred = bagging_clf_test.predict(X_test)\n",
    "print('Bagging test_accuracy: %s'%(metrics.accuracy_score(y_test,y_test_pred)))"
   ]
  },
  {
   "cell_type": "markdown",
   "metadata": {},
   "source": [
    "二、gini index"
   ]
  },
  {
   "cell_type": "markdown",
   "metadata": {},
   "source": [
    "基尼指数（Gini不纯度）表示在样本集合中一个随机选中的样本被分错的概率。\n",
    "\n",
    "Gini指数越小表示集合中被选中的样本被参错的概率越小，也就是说集合的纯度越高，反之，集合越不纯。当集合中所有样本为一个类时，基尼指数为0."
   ]
  },
  {
   "cell_type": "markdown",
   "metadata": {},
   "source": [
    "$$\n",
    "G(p)=\\sum_{k=1}^{K} p_{k}\\left(1-p_{k}\\right)=1-\\sum_{k=1}^{K} p_{k}^{2}\n",
    "$$\n",
    "\n",
    "其中，pk表示样本属于第k个类别的概率"
   ]
  },
  {
   "cell_type": "markdown",
   "metadata": {},
   "source": [
    "例子 **calculating the Gini Index for \"Past Trend\"**\n",
    "![title](img/gini.png)\n",
    "\n",
    "\n",
    "P(Past Trend=Positive): 6/10\n",
    "\n",
    "P(Past Trend=Negative): 4/10\n",
    "\n",
    "If (Past Trend = Positive & Return = Up), probability = 4/6\n",
    "\n",
    "If (Past Trend = Positive & Return = Down), probability = 2/6\n",
    "\n",
    "Gini index = 1 - ((4/6)^2 + (2/6)^2) = 0.45\n",
    "\n",
    "If (Past Trend = Negative & Return = Up), probability = 0\n",
    "\n",
    "If (Past Trend = Negative & Return = Down), probability = 4/4\n",
    "\n",
    "Gini index = 1 - ((0)^2 + (4/4)^2) = 0\n",
    "\n",
    "Weighted sum of the Gini Indices can be calculated as follows:\n",
    "\n",
    "Gini Index for Past Trend = (6/10)0.45 + (4/10)0 = 0.27"
   ]
  },
  {
   "cell_type": "code",
   "execution_count": 61,
   "metadata": {},
   "outputs": [
    {
     "data": {
      "text/plain": [
       "array([0.07989749, 0.02721767, 0.2538027 , 0.08467278, 0.08152659,\n",
       "       0.00813797, 0.00542056, 0.14332214, 0.07200713, 0.11322623,\n",
       "       0.01647739, 0.05451004, 0.05978129])"
      ]
     },
     "execution_count": 61,
     "metadata": {},
     "output_type": "execute_result"
    }
   ],
   "source": [
    "# 默认的变量特征重要性是在所有树的节点划分中，每个变量划分带来的基尼系数增益，\n",
    "# 并除总增益值使所有变量特征重要性和为1\n",
    "feature_importances = np.mean([tree.feature_importances_ for tree in bagging_clf_test.estimators_], axis=0)\n",
    "feature_importances"
   ]
  },
  {
   "cell_type": "code",
   "execution_count": 29,
   "metadata": {},
   "outputs": [
    {
     "data": {
      "image/png": "[encoded data removed]",
      "text/plain": [
       "<Figure size 432x288 with 1 Axes>"
      ]
     },
     "metadata": {
      "needs_background": "light"
     },
     "output_type": "display_data"
    }
   ],
   "source": [
    "Importance = pd.DataFrame({'Importance':feature_importances}, index = X.columns)\n",
    "Importance.sort_values('Importance', axis=0, ascending=True).plot(kind='barh', color='r', )\n",
    "plt.xlabel('Variable Importance')\n",
    "plt.gca().legend_ = None"
   ]
  },
  {
   "cell_type": "code",
   "execution_count": 30,
   "metadata": {
    "scrolled": true
   },
   "outputs": [
    {
     "name": "stdout",
     "output_type": "stream",
     "text": [
      "random_forest oob_score: 0.8080808080808081\n",
      "random_forest test_accuracy: 0.8187919463087249\n"
     ]
    }
   ],
   "source": [
    "# Random Forest\n",
    "X_train, X_test, y_train, y_test = train_test_split(X, y, test_size=0.5, random_state=0)\n",
    "\n",
    "random_forest_clf_OOB = RandomForestClassifier(n_estimators=100, max_features='auto',\n",
    "                                           random_state=0, oob_score=True)\n",
    "random_forest_clf_OOB.fit(X, y)\n",
    "print('random_forest oob_score: %s'%(random_forest_clf_OOB.oob_score_))\n",
    "\n",
    "# test_score\n",
    "random_forest_clf_test = RandomForestClassifier(n_estimators=100, max_features='auto',\n",
    "                                           random_state=0, oob_score=False)\n",
    "random_forest_clf_test.fit(X_train,y_train)\n",
    "y_test_pred = random_forest_clf_test.predict(X_test)\n",
    "print('random_forest test_accuracy: %s'%(metrics.accuracy_score(y_test,y_test_pred)))"
   ]
  },
  {
   "cell_type": "code",
   "execution_count": 32,
   "metadata": {
    "scrolled": true
   },
   "outputs": [
    {
     "name": "stderr",
     "output_type": "stream",
     "text": [
      "C:\\Users\\W\\Anaconda3\\lib\\site-packages\\sklearn\\ensemble\\_bagging.py:638: UserWarning: Some inputs do not have OOB scores. This probably means too few estimators were used to compute any reliable oob estimates.\n",
      "  warn(\"Some inputs do not have OOB scores. \"\n",
      "C:\\Users\\W\\Anaconda3\\lib\\site-packages\\sklearn\\ensemble\\_bagging.py:643: RuntimeWarning: invalid value encountered in true_divide\n",
      "  predictions.sum(axis=1)[:, np.newaxis])\n",
      "C:\\Users\\W\\Anaconda3\\lib\\site-packages\\sklearn\\ensemble\\_bagging.py:638: UserWarning: Some inputs do not have OOB scores. This probably means too few estimators were used to compute any reliable oob estimates.\n",
      "  warn(\"Some inputs do not have OOB scores. \"\n",
      "C:\\Users\\W\\Anaconda3\\lib\\site-packages\\sklearn\\ensemble\\_bagging.py:643: RuntimeWarning: invalid value encountered in true_divide\n",
      "  predictions.sum(axis=1)[:, np.newaxis])\n",
      "C:\\Users\\W\\Anaconda3\\lib\\site-packages\\sklearn\\ensemble\\_forest.py:540: UserWarning: Some inputs do not have OOB scores. This probably means too few trees were used to compute any reliable oob estimates.\n",
      "  warn(\"Some inputs do not have OOB scores. \"\n",
      "C:\\Users\\W\\Anaconda3\\lib\\site-packages\\sklearn\\ensemble\\_forest.py:545: RuntimeWarning: invalid value encountered in true_divide\n",
      "  predictions[k].sum(axis=1)[:, np.newaxis])\n",
      "C:\\Users\\W\\Anaconda3\\lib\\site-packages\\sklearn\\ensemble\\_bagging.py:638: UserWarning: Some inputs do not have OOB scores. This probably means too few estimators were used to compute any reliable oob estimates.\n",
      "  warn(\"Some inputs do not have OOB scores. \"\n",
      "C:\\Users\\W\\Anaconda3\\lib\\site-packages\\sklearn\\ensemble\\_bagging.py:643: RuntimeWarning: invalid value encountered in true_divide\n",
      "  predictions.sum(axis=1)[:, np.newaxis])\n"
     ]
    },
    {
     "name": "stdout",
     "output_type": "stream",
     "text": [
      "1\n",
      "2\n",
      "3\n",
      "4\n",
      "5\n",
      "6\n",
      "7\n",
      "8\n",
      "9\n",
      "10\n",
      "11\n",
      "12\n",
      "13\n",
      "14\n",
      "15\n",
      "16\n",
      "17\n",
      "18\n",
      "19\n",
      "20\n",
      "21\n",
      "22\n",
      "23\n",
      "24\n",
      "25\n",
      "26\n",
      "27\n",
      "28\n",
      "29\n",
      "30\n"
     ]
    }
   ],
   "source": [
    "# 生成画图所需数据表格框架\n",
    "# 生成1到30整数序列（np.linspace生成的数字格式为numpy.float64，不能用于循环索引）\n",
    "Error_n_trees_frame_index = range(1,31) \n",
    "\n",
    "Error_n_trees_frame_columns = [ 'Number of Trees', 'Bagging_test', 'RandomForest_test',\n",
    "                              'Bagging_OOB', 'RandomForest_OOB','Single_test']\n",
    "Error_n_trees_frame = pd.DataFrame(index = Error_n_trees_frame_index, columns = Error_n_trees_frame_columns)\n",
    "Error_n_trees_frame['Number of Trees'] = np.linspace(10,300,30)\n",
    "\n",
    "# 把生成模型并获取指标封装到短函数\n",
    "def Bagging_test(tree_num):\n",
    "    Bagging_model = BaggingClassifier(DecisionTreeClassifier(),\n",
    "                    n_estimators= tree_num, random_state=0,\n",
    "                    bootstrap=True, oob_score=True,n_jobs=-1)\n",
    "    Bagging_model.fit(X_train,y_train)\n",
    "    \n",
    "    y_test_pred = Bagging_model.predict(X_test)\n",
    "    test_error = 1- metrics.accuracy_score(y_test,y_test_pred)\n",
    "    return test_error\n",
    "    \n",
    "def Bagging_oob(tree_num):\n",
    "    Bagging_model = BaggingClassifier(DecisionTreeClassifier(),\n",
    "                    n_estimators= tree_num, random_state=0,\n",
    "                    bootstrap=True, oob_score=True,n_jobs=-1)\n",
    "    Bagging_model.fit(X,y)\n",
    "    return 1 - Bagging_model.oob_score_\n",
    "    \n",
    "def RandomForest_test(tree_num):\n",
    "    RandomForest_model = RandomForestClassifier(n_estimators=tree_num, max_features='sqrt',\n",
    "                            random_state=0, oob_score=False)\n",
    "    RandomForest_model.fit(X_train,y_train)\n",
    "    \n",
    "    y_test_pred = RandomForest_model.predict(X_test)\n",
    "    test_error = 1- metrics.accuracy_score(y_test,y_test_pred)\n",
    "    return test_error\n",
    "\n",
    "def RandomForest_oob(tree_num):\n",
    "    RandomForest_model = RandomForestClassifier(n_estimators=tree_num, max_features='sqrt',\n",
    "                            random_state=0, oob_score=True)\n",
    "    RandomForest_model.fit(X,y)\n",
    "    return 1- RandomForest_model.oob_score_\n",
    "\n",
    "def Single_tree_test():\n",
    "    single_tree_model = DecisionTreeClassifier(random_state=0,max_depth=3)\n",
    "    single_tree_model.fit(X_train,y_train)\n",
    "    \n",
    "    y_test_pred = single_tree_model.predict(X_test)\n",
    "    test_error = 1- metrics.accuracy_score(y_test,y_test_pred)\n",
    "    return test_error\n",
    "    \n",
    "# 计算不同树个数下的分类错误率\n",
    "def generate_Error_n_trees_frame():\n",
    "    for i in Error_n_trees_frame_index:        \n",
    "        Error_n_trees_frame.loc[i,'Bagging_test'] = Bagging_test(10 * i)\n",
    "        Error_n_trees_frame.loc[i,'RandomForest_test'] = RandomForest_test(10 * i)\n",
    "        Error_n_trees_frame.loc[i,'Bagging_OOB'] = Bagging_oob(10 * i)\n",
    "        Error_n_trees_frame.loc[i,'RandomForest_OOB'] = RandomForest_oob(10 * i)\n",
    "        Error_n_trees_frame.loc[i,'Single_test'] = Single_tree_test()\n",
    "        print(i)\n",
    "generate_Error_n_trees_frame()"
   ]
  },
  {
   "cell_type": "code",
   "execution_count": 35,
   "metadata": {
    "scrolled": false
   },
   "outputs": [
    {
     "data": {
      "text/html": [
       "<div>\n",
       "<style scoped>\n",
       "    .dataframe tbody tr th:only-of-type {\n",
       "        vertical-align: middle;\n",
       "    }\n",
       "\n",
       "    .dataframe tbody tr th {\n",
       "        vertical-align: top;\n",
       "    }\n",
       "\n",
       "    .dataframe thead th {\n",
       "        text-align: right;\n",
       "    }\n",
       "</style>\n",
       "<table border=\"1\" class=\"dataframe\">\n",
       "  <thead>\n",
       "    <tr style=\"text-align: right;\">\n",
       "      <th></th>\n",
       "      <th>Number of Trees</th>\n",
       "      <th>Bagging_test</th>\n",
       "      <th>RandomForest_test</th>\n",
       "      <th>Bagging_OOB</th>\n",
       "      <th>RandomForest_OOB</th>\n",
       "      <th>Single_test</th>\n",
       "    </tr>\n",
       "  </thead>\n",
       "  <tbody>\n",
       "    <tr>\n",
       "      <th>1</th>\n",
       "      <td>10.0</td>\n",
       "      <td>0.201342</td>\n",
       "      <td>0.208054</td>\n",
       "      <td>0.262626</td>\n",
       "      <td>0.232323</td>\n",
       "      <td>0.281879</td>\n",
       "    </tr>\n",
       "    <tr>\n",
       "      <th>2</th>\n",
       "      <td>20.0</td>\n",
       "      <td>0.214765</td>\n",
       "      <td>0.187919</td>\n",
       "      <td>0.225589</td>\n",
       "      <td>0.205387</td>\n",
       "      <td>0.281879</td>\n",
       "    </tr>\n",
       "    <tr>\n",
       "      <th>3</th>\n",
       "      <td>30.0</td>\n",
       "      <td>0.208054</td>\n",
       "      <td>0.187919</td>\n",
       "      <td>0.23569</td>\n",
       "      <td>0.205387</td>\n",
       "      <td>0.281879</td>\n",
       "    </tr>\n",
       "    <tr>\n",
       "      <th>4</th>\n",
       "      <td>40.0</td>\n",
       "      <td>0.194631</td>\n",
       "      <td>0.181208</td>\n",
       "      <td>0.239057</td>\n",
       "      <td>0.191919</td>\n",
       "      <td>0.281879</td>\n",
       "    </tr>\n",
       "    <tr>\n",
       "      <th>5</th>\n",
       "      <td>50.0</td>\n",
       "      <td>0.214765</td>\n",
       "      <td>0.181208</td>\n",
       "      <td>0.222222</td>\n",
       "      <td>0.198653</td>\n",
       "      <td>0.281879</td>\n",
       "    </tr>\n",
       "  </tbody>\n",
       "</table>\n",
       "</div>"
      ],
      "text/plain": [
       "   Number of Trees Bagging_test RandomForest_test Bagging_OOB  \\\n",
       "1             10.0     0.201342          0.208054    0.262626   \n",
       "2             20.0     0.214765          0.187919    0.225589   \n",
       "3             30.0     0.208054          0.187919     0.23569   \n",
       "4             40.0     0.194631          0.181208    0.239057   \n",
       "5             50.0     0.214765          0.181208    0.222222   \n",
       "\n",
       "  RandomForest_OOB Single_test  \n",
       "1         0.232323    0.281879  \n",
       "2         0.205387    0.281879  \n",
       "3         0.205387    0.281879  \n",
       "4         0.191919    0.281879  \n",
       "5         0.198653    0.281879  "
      ]
     },
     "execution_count": 35,
     "metadata": {},
     "output_type": "execute_result"
    }
   ],
   "source": [
    "Error_n_trees_frame.head()"
   ]
  },
  {
   "cell_type": "code",
   "execution_count": 40,
   "metadata": {},
   "outputs": [
    {
     "data": {
      "text/plain": [
       "<matplotlib.legend.Legend at 0x1ad4aa44dd8>"
      ]
     },
     "execution_count": 40,
     "metadata": {},
     "output_type": "execute_result"
    },
    {
     "data": {
      "image/png": "[encoded data removed]",
      "text/plain": [
       "<Figure size 576x432 with 1 Axes>"
      ]
     },
     "metadata": {
      "needs_background": "light"
     },
     "output_type": "display_data"
    }
   ],
   "source": [
    "# 虚线是最大深度为3的单一决策树预测误差\n",
    "plt.figure(figsize=(8,6))\n",
    "colors = ['black','gold','dodgerblue','forestgreen']\n",
    "plt.plot(Error_n_trees_frame['Number of Trees'], Error_n_trees_frame['Single_test'] ,\n",
    "             label = '',linestyle = '--',linewidth = 0.7, color = 'grey')\n",
    "for i in range(4):\n",
    "    plt.plot(Error_n_trees_frame['Number of Trees'], Error_n_trees_frame[Error_n_trees_frame.columns[1:-1][i]] ,\n",
    "             label = Error_n_trees_frame.columns[1:-1][i],linestyle = '-',linewidth = 0.7, color = colors[i])\n",
    "plt.xlabel('Number of Trees')\n",
    "plt.ylabel('Test Classification Error')\n",
    "plt.legend(loc = 'upper right')"
   ]
  },
  {
   "cell_type": "markdown",
   "metadata": {},
   "source": [
    "## 8.2.2 Random Forest"
   ]
  },
  {
   "cell_type": "markdown",
   "metadata": {},
   "source": [
    "1. 用有抽样放回的方法（bootstrap）从样本集中选取n个样本作为一个训练集\n",
    "\n",
    "\n",
    "2. 用抽样得到的样本集生成一棵决策树。在生成的每一个结点：\n",
    "\n",
    "\n",
    "* 随机不重复地选择d个特征\n",
    "* 利用这d个特征分别对样本集进行划分，找到最佳的划分特征（可用基尼系数、增益率或者信息增益判别）\n",
    "\n",
    "\n",
    "3. 重复步骤1到步骤2共k次，k即为随机森林中决策树的个数。\n",
    "\n",
    "\n",
    "4. 用训练得到的随机森林对测试样本进行预测，并用票选法决定预测的结果。\n",
    "\n"
   ]
  },
  {
   "cell_type": "markdown",
   "metadata": {},
   "source": [
    "![title](img/Random_Forest.PNG)"
   ]
  },
  {
   "cell_type": "code",
   "execution_count": 277,
   "metadata": {
    "scrolled": true
   },
   "outputs": [
    {
     "name": "stdout",
     "output_type": "stream",
     "text": [
      "random_forest test_accuracy: 0.7986577181208053\n",
      "random_forest test_accuracy: 0.8053691275167785\n",
      "random_forest test_accuracy: 0.8187919463087249\n"
     ]
    }
   ],
   "source": [
    "# Random Forest\n",
    "X_train, X_test, y_train, y_test = train_test_split(X, y, test_size=0.5, random_state=0)\n",
    "\n",
    "random_forest_clf_p = RandomForestClassifier(n_estimators=100, max_features=None,\n",
    "                                           random_state=0, oob_score=False)\n",
    "random_forest_clf_half = RandomForestClassifier(n_estimators=100, max_features=0.5,\n",
    "                                           random_state=0, oob_score=False)\n",
    "random_forest_clf_sqrt = RandomForestClassifier(n_estimators=100, max_features='sqrt',\n",
    "                                           random_state=0, oob_score=False)\n",
    "\n",
    "random_forest_clf_p.fit(X_train,y_train)\n",
    "random_forest_clf_half.fit(X_train,y_train)\n",
    "random_forest_clf_sqrt.fit(X_train,y_train)\n",
    "\n",
    "y_test_pred_p = random_forest_clf_p.predict(X_test)\n",
    "y_test_pred_half = random_forest_clf_half.predict(X_test)\n",
    "y_test_pred_sqrt = random_forest_clf_sqrt.predict(X_test)\n",
    "\n",
    "print('random_forest test_accuracy: %s'%(metrics.accuracy_score(y_test,y_test_pred_p)))\n",
    "print('random_forest test_accuracy: %s'%(metrics.accuracy_score(y_test,y_test_pred_half)))\n",
    "print('random_forest test_accuracy: %s'%(metrics.accuracy_score(y_test,y_test_pred_sqrt)))"
   ]
  },
  {
   "cell_type": "code",
   "execution_count": 64,
   "metadata": {},
   "outputs": [],
   "source": [
    "# 生成画图所需数据表格框架\n",
    "frame_index = range(1,51) \n",
    "frame_columns = [ 'Number of Trees', 'm=p','m=p/2','m=sqrt(p)']\n",
    "frame = pd.DataFrame(index = frame_index, columns = frame_columns)\n",
    "frame['Number of Trees'] = np.linspace(10,500,50)"
   ]
  },
  {
   "cell_type": "code",
   "execution_count": 67,
   "metadata": {
    "scrolled": true
   },
   "outputs": [
    {
     "name": "stdout",
     "output_type": "stream",
     "text": [
      "1\n",
      "2\n",
      "3\n",
      "4\n",
      "5\n",
      "6\n",
      "7\n",
      "8\n",
      "9\n",
      "10\n",
      "11\n",
      "12\n",
      "13\n",
      "14\n",
      "15\n",
      "16\n",
      "17\n",
      "18\n",
      "19\n",
      "20\n",
      "21\n",
      "22\n",
      "23\n",
      "24\n",
      "25\n",
      "26\n",
      "27\n",
      "28\n",
      "29\n",
      "30\n",
      "31\n",
      "32\n",
      "33\n",
      "34\n",
      "35\n",
      "36\n",
      "37\n",
      "38\n",
      "39\n",
      "40\n",
      "41\n",
      "42\n",
      "43\n",
      "44\n",
      "45\n",
      "46\n",
      "47\n",
      "48\n",
      "49\n",
      "50\n"
     ]
    }
   ],
   "source": [
    "# 把设置不同参数的随机森林模型并获取指标封装到一个短函数\n",
    "def RandomFroest(tree_num, max_feature):\n",
    "    model = RandomForestClassifier(n_estimators=tree_num, max_features=max_feature,\n",
    "                            random_state=0, oob_score=False)\n",
    "    model.fit(X_train,y_train)\n",
    "    \n",
    "    y_test_pred = model.predict(X_test)\n",
    "    test_error = 1- metrics.accuracy_score(y_test,y_test_pred)\n",
    "    return test_error\n",
    "\n",
    "# 计算不同特征选取比例下的分类错误率\n",
    "def generate_frame():\n",
    "    for i in frame_index:        \n",
    "        frame.loc[i,'m=p'] = RandomFroest(10 * i, None)\n",
    "        frame.loc[i,'m=p/2'] = RandomFroest(10 * i, 0.5)\n",
    "        frame.loc[i,'m=sqrt(p)'] = RandomFroest(10 * i, 'sqrt')\n",
    "        print(i)\n",
    "generate_frame()"
   ]
  },
  {
   "cell_type": "code",
   "execution_count": 66,
   "metadata": {},
   "outputs": [
    {
     "data": {
      "text/html": [
       "<div>\n",
       "<style scoped>\n",
       "    .dataframe tbody tr th:only-of-type {\n",
       "        vertical-align: middle;\n",
       "    }\n",
       "\n",
       "    .dataframe tbody tr th {\n",
       "        vertical-align: top;\n",
       "    }\n",
       "\n",
       "    .dataframe thead th {\n",
       "        text-align: right;\n",
       "    }\n",
       "</style>\n",
       "<table border=\"1\" class=\"dataframe\">\n",
       "  <thead>\n",
       "    <tr style=\"text-align: right;\">\n",
       "      <th></th>\n",
       "      <th>Number of Trees</th>\n",
       "      <th>m=p</th>\n",
       "      <th>m=p/2</th>\n",
       "      <th>m=sqrt(p)</th>\n",
       "    </tr>\n",
       "  </thead>\n",
       "  <tbody>\n",
       "    <tr>\n",
       "      <th>1</th>\n",
       "      <td>10.0</td>\n",
       "      <td>0.234899</td>\n",
       "      <td>0.221477</td>\n",
       "      <td>0.208054</td>\n",
       "    </tr>\n",
       "    <tr>\n",
       "      <th>2</th>\n",
       "      <td>20.0</td>\n",
       "      <td>0.221477</td>\n",
       "      <td>0.194631</td>\n",
       "      <td>0.187919</td>\n",
       "    </tr>\n",
       "    <tr>\n",
       "      <th>3</th>\n",
       "      <td>30.0</td>\n",
       "      <td>0.221477</td>\n",
       "      <td>0.208054</td>\n",
       "      <td>0.187919</td>\n",
       "    </tr>\n",
       "    <tr>\n",
       "      <th>4</th>\n",
       "      <td>40.0</td>\n",
       "      <td>0.214765</td>\n",
       "      <td>0.194631</td>\n",
       "      <td>0.181208</td>\n",
       "    </tr>\n",
       "    <tr>\n",
       "      <th>5</th>\n",
       "      <td>50.0</td>\n",
       "      <td>0.208054</td>\n",
       "      <td>0.181208</td>\n",
       "      <td>0.181208</td>\n",
       "    </tr>\n",
       "  </tbody>\n",
       "</table>\n",
       "</div>"
      ],
      "text/plain": [
       "   Number of Trees       m=p     m=p/2 m=sqrt(p)\n",
       "1             10.0  0.234899  0.221477  0.208054\n",
       "2             20.0  0.221477  0.194631  0.187919\n",
       "3             30.0  0.221477  0.208054  0.187919\n",
       "4             40.0  0.214765  0.194631  0.181208\n",
       "5             50.0  0.208054  0.181208  0.181208"
      ]
     },
     "execution_count": 66,
     "metadata": {},
     "output_type": "execute_result"
    }
   ],
   "source": [
    "frame.head()"
   ]
  },
  {
   "cell_type": "code",
   "execution_count": 68,
   "metadata": {},
   "outputs": [
    {
     "data": {
      "text/plain": [
       "<matplotlib.legend.Legend at 0x1ad4abcb358>"
      ]
     },
     "execution_count": 68,
     "metadata": {},
     "output_type": "execute_result"
    },
    {
     "data": {
      "image/png": "[encoded data removed]",
      "text/plain": [
       "<Figure size 576x432 with 1 Axes>"
      ]
     },
     "metadata": {
      "needs_background": "light"
     },
     "output_type": "display_data"
    }
   ],
   "source": [
    "plt.figure(figsize=(8,6))\n",
    "colors = ['gold','dodgerblue','forestgreen']\n",
    "for i in range(3):\n",
    "    plt.plot(frame['Number of Trees'], frame[frame.columns[1:][i]] ,\n",
    "             label = frame.columns[1:][i],linestyle = '-',linewidth = 0.7, color = colors[i])\n",
    "plt.xlabel('Number of Trees')\n",
    "plt.ylabel('Test Classification Error')\n",
    "plt.legend()"
   ]
  },
  {
   "cell_type": "markdown",
   "metadata": {},
   "source": [
    "bagging is simply a special case of\n",
    "a random forest with m = p."
   ]
  },
  {
   "cell_type": "markdown",
   "metadata": {},
   "source": [
    "## 8.2.3 Boosting"
   ]
  },
  {
   "cell_type": "markdown",
   "metadata": {},
   "source": [
    "boosting的算法思路如下：\n",
    "\n",
    "1. 对于训练集的每个样本建立权值wi，增大被误分类的样本的权值\n",
    "\n",
    "\n",
    "2. 进行迭代的过程中，每一步迭代都是一个弱分类器，需要用某种策略将其组合，作为最终模型。（例如AdaBoost给每个弱分类器一个权值，将其线性组合为最终分类器。误差越小的弱分类器，权值越大）"
   ]
  },
  {
   "cell_type": "markdown",
   "metadata": {},
   "source": [
    "以残差为衡量误分类标准为例\n",
    "![title](img/boosting原理.PNG)"
   ]
  },
  {
   "cell_type": "markdown",
   "metadata": {},
   "source": [
    "Boosting has three tuning parameters:\n",
    "    \n",
    "1. The number of trees B. Unlike bagging and random forests, boosting\n",
    "can overfit if B is too large, although this overfitting tends to occur\n",
    "slowly if at all. We use cross-validation to select B.\n",
    "\n",
    "\n",
    "2. The shrinkage parameter λ, a small positive number. This controls the\n",
    "rate at which boosting learns. Typical values are 0.01 or 0.001, and\n",
    "the right choice can depend on the problem. Very small λ can require\n",
    "using a very large value of B in order to achieve good performance.\n",
    "\n",
    "\n",
    "3. The number d of splits in each tree, which controls the complexity\n",
    "of the boosted ensemble. Often d = 1 works well, in which case each\n",
    "tree is a stump, consisting of a single split."
   ]
  },
  {
   "cell_type": "code",
   "execution_count": 89,
   "metadata": {},
   "outputs": [
    {
     "name": "stdout",
     "output_type": "stream",
     "text": [
      "Boosting test_accuracy: 0.8053691275167785\n",
      "Boosting test_accuracy: 0.8322147651006712\n"
     ]
    }
   ],
   "source": [
    "# Boosting\n",
    "X_train, X_test, y_train, y_test = train_test_split(X, y, test_size=0.5, random_state=0)\n",
    "\n",
    "boosting_clf_depth_1 =GradientBoostingClassifier(max_depth=1, n_estimators=1000, learning_rate=0.01, random_state=0)\n",
    "boosting_clf_depth_2 =GradientBoostingClassifier(max_depth=2, n_estimators=1000, learning_rate=0.01, random_state=0)\n",
    "\n",
    "boosting_clf_depth_1.fit(X_train,y_train)\n",
    "boosting_clf_depth_2.fit(X_train,y_train)\n",
    "\n",
    "y_test_pred_depth_1 = boosting_clf_depth_1.predict(X_test)\n",
    "y_test_pred_depth_2 = boosting_clf_depth_2.predict(X_test)\n",
    "\n",
    "print('Boosting test_accuracy: %s'%(metrics.accuracy_score(y_test,y_test_pred_depth_1)))\n",
    "print('Boosting test_accuracy: %s'%(metrics.accuracy_score(y_test,y_test_pred_depth_2)))"
   ]
  },
  {
   "cell_type": "markdown",
   "metadata": {},
   "source": [
    "由于boosting方法步长较少，树迭代次数较多，多次训练提升树模型运行时间较长，此处插入教材图片\n",
    "![title](img/boosting.PNG)"
   ]
  },
  {
   "cell_type": "markdown",
   "metadata": {},
   "source": [
    "# 8.3 Lab"
   ]
  },
  {
   "cell_type": "markdown",
   "metadata": {},
   "source": [
    "## 8.3.3 Bagging and Random Forests"
   ]
  },
  {
   "cell_type": "code",
   "execution_count": 92,
   "metadata": {},
   "outputs": [
    {
     "name": "stdout",
     "output_type": "stream",
     "text": [
      "<class 'pandas.core.frame.DataFrame'>\n",
      "RangeIndex: 506 entries, 0 to 505\n",
      "Data columns (total 14 columns):\n",
      " #   Column   Non-Null Count  Dtype  \n",
      "---  ------   --------------  -----  \n",
      " 0   crim     506 non-null    float64\n",
      " 1   zn       506 non-null    float64\n",
      " 2   indus    506 non-null    float64\n",
      " 3   chas     506 non-null    int64  \n",
      " 4   nox      506 non-null    float64\n",
      " 5   rm       506 non-null    float64\n",
      " 6   age      506 non-null    float64\n",
      " 7   dis      506 non-null    float64\n",
      " 8   rad      506 non-null    int64  \n",
      " 9   tax      506 non-null    int64  \n",
      " 10  ptratio  506 non-null    float64\n",
      " 11  black    506 non-null    float64\n",
      " 12  lstat    506 non-null    float64\n",
      " 13  medv     506 non-null    float64\n",
      "dtypes: float64(11), int64(3)\n",
      "memory usage: 55.5 KB\n"
     ]
    }
   ],
   "source": [
    "# 13 features in dataset\n",
    "boston_df = pd.read_csv('数据/Boston.csv')\n",
    "boston_df.info()"
   ]
  },
  {
   "cell_type": "code",
   "execution_count": 93,
   "metadata": {},
   "outputs": [],
   "source": [
    "X = boston_df.drop('medv', axis=1)\n",
    "y = boston_df.medv\n",
    "\n",
    "X_train, X_test, y_train, y_test = train_test_split(X, y, test_size=0.5, random_state=0)"
   ]
  },
  {
   "cell_type": "code",
   "execution_count": 150,
   "metadata": {},
   "outputs": [
    {
     "data": {
      "text/plain": [
       "16.323799039525692"
      ]
     },
     "execution_count": 150,
     "metadata": {},
     "output_type": "execute_result"
    }
   ],
   "source": [
    "# Bagging\n",
    "regr1 = BaggingRegressor(base_estimator = DecisionTreeRegressor(),n_estimators=100)\n",
    "regr1.fit(X_train, y_train)\n",
    "pred = regr1.predict(X_test)\n",
    "metrics.mean_squared_error(y_test, pred)"
   ]
  },
  {
   "cell_type": "code",
   "execution_count": 154,
   "metadata": {
    "scrolled": true
   },
   "outputs": [
    {
     "data": {
      "text/plain": [
       "Text(0, 0.5, 'y_test')"
      ]
     },
     "execution_count": 154,
     "metadata": {},
     "output_type": "execute_result"
    },
    {
     "data": {
      "image/png": "[encoded data removed]",
      "text/plain": [
       "<Figure size 720x360 with 1 Axes>"
      ]
     },
     "metadata": {
      "needs_background": "light"
     },
     "output_type": "display_data"
    }
   ],
   "source": [
    "plt.figure(figsize=(10,5))\n",
    "plt.scatter(pred, y_test, label='medv')\n",
    "plt.plot([0, max(pred)], [0, max(y_test)], '--k')\n",
    "plt.xlabel('pred')\n",
    "plt.ylabel('y_test')"
   ]
  },
  {
   "cell_type": "code",
   "execution_count": 151,
   "metadata": {},
   "outputs": [
    {
     "data": {
      "text/plain": [
       "16.0181136798419"
      ]
     },
     "execution_count": 151,
     "metadata": {},
     "output_type": "execute_result"
    }
   ],
   "source": [
    "# Random forests: using 6 features\n",
    "regr2 = RandomForestRegressor(max_features=6, random_state=0,n_estimators=100)\n",
    "regr2.fit(X_train, y_train)\n",
    "pred = regr2.predict(X_test)\n",
    "metrics.mean_squared_error(y_test, pred)"
   ]
  },
  {
   "cell_type": "code",
   "execution_count": 157,
   "metadata": {},
   "outputs": [
    {
     "data": {
      "image/png": "[encoded data removed]",
      "text/plain": [
       "<Figure size 432x288 with 1 Axes>"
      ]
     },
     "metadata": {
      "needs_background": "light"
     },
     "output_type": "display_data"
    }
   ],
   "source": [
    "Importance = pd.DataFrame({'Importance':regr2.feature_importances_*100}, index=X.columns)\n",
    "Importance.sort_values('Importance', axis=0, ascending=True).plot(kind='barh', color='r', )\n",
    "plt.xlabel('Variable Importance')\n",
    "plt.gca().legend_ = None"
   ]
  },
  {
   "cell_type": "markdown",
   "metadata": {},
   "source": [
    "## 8.3.4 Boosting"
   ]
  },
  {
   "cell_type": "code",
   "execution_count": 142,
   "metadata": {},
   "outputs": [
    {
     "data": {
      "text/plain": [
       "15.55180215646078"
      ]
     },
     "execution_count": 142,
     "metadata": {},
     "output_type": "execute_result"
    }
   ],
   "source": [
    "regr = GradientBoostingRegressor(n_estimators=500, learning_rate=0.01, random_state=0)\n",
    "regr.fit(X_train, y_train)\n",
    "pred = regr.predict(X_test)\n",
    "metrics.mean_squared_error(y_test, regr.predict(X_test))"
   ]
  },
  {
   "cell_type": "code",
   "execution_count": 138,
   "metadata": {},
   "outputs": [
    {
     "name": "stdout",
     "output_type": "stream",
     "text": [
      "zn          0.013059\n",
      "chas        0.121257\n",
      "rad         0.153199\n",
      "black       0.460309\n",
      "indus       0.576559\n",
      "nox         0.731767\n",
      "age         0.922677\n",
      "tax         1.098078\n",
      "crim        2.799589\n",
      "ptratio     4.370389\n",
      "dis         5.896297\n",
      "rm         27.934202\n",
      "lstat      54.922618\n",
      "dtype: float64\n"
     ]
    },
    {
     "data": {
      "image/png": "[encoded data removed]",
      "text/plain": [
       "<Figure size 432x288 with 1 Axes>"
      ]
     },
     "metadata": {
      "needs_background": "light"
     },
     "output_type": "display_data"
    }
   ],
   "source": [
    "feature_importance = regr.feature_importances_*100\n",
    "rel_imp = pd.Series(feature_importance, index=X.columns).sort_values(inplace=False)\n",
    "print(rel_imp)\n",
    "rel_imp.T.plot(kind='barh', color='r', )\n",
    "plt.xlabel('Variable Importance')\n",
    "plt.gca().legend_ = None"
   ]
  },
  {
   "cell_type": "markdown",
   "metadata": {},
   "source": [
    "# Appendix: Tree Regression in *Machine Learning in Action*"
   ]
  },
  {
   "cell_type": "markdown",
   "metadata": {},
   "source": [
    "以下代码以字典结构创建了一颗回归树："
   ]
  },
  {
   "cell_type": "code",
   "execution_count": 7,
   "metadata": {},
   "outputs": [],
   "source": [
    "from numpy import *\n",
    "from pylab import plot, show\n",
    "import os\n",
    "## 数据载入\n",
    "def loadDataSet(fileName):      #general function to parse tab -delimited floats\n",
    "    dataMat = []                #assume last column is target value\n",
    "    fr = open(fileName)\n",
    "    for line in fr.readlines():\n",
    "        curLine = line.strip().split('\\t')\n",
    "        fltLine = list(map(float,curLine)) #map all elements to float()\n",
    "        dataMat.append(fltLine)\n",
    "    return dataMat\n",
    "\n",
    "## 数据处理\n",
    "# 通过数组过滤，将数据集切分成两个子集\n",
    "def binSplitDataSet(dataSet, feature, value):\n",
    "    mat0 = dataSet[nonzero(dataSet[:,feature] > value)[0],:]\n",
    "    mat1 = dataSet[nonzero(dataSet[:,feature] <= value)[0],:]\n",
    "    return mat0,mat1"
   ]
  },
  {
   "cell_type": "code",
   "execution_count": 11,
   "metadata": {},
   "outputs": [
    {
     "name": "stdout",
     "output_type": "stream",
     "text": [
      "[[1. 0. 0. 0.]\n",
      " [0. 1. 0. 0.]\n",
      " [0. 0. 1. 0.]\n",
      " [0. 0. 0. 1.]]\n",
      "[[0. 1. 0. 0.]] [[1. 0. 0. 0.]\n",
      " [0. 0. 1. 0.]\n",
      " [0. 0. 0. 1.]]\n"
     ]
    }
   ],
   "source": [
    "# 测试数据集切分函数\n",
    "testMat = mat(eye(4))\n",
    "print(testMat)\n",
    "\n",
    "mat0, mat1 = binSplitDataSet(testMat,1,0.5)\n",
    "print(mat0,mat1)"
   ]
  },
  {
   "cell_type": "code",
   "execution_count": 44,
   "metadata": {},
   "outputs": [],
   "source": [
    "## 回归树的切分函数\n",
    "# 生成叶节点——目标变量的均值\n",
    "def regLeaf(dataSet):  # returns the value used for each leaf\n",
    "    return mean(dataSet[:, -1])\n",
    "\n",
    "# 误差估计函数_目标变量的平方误差\n",
    "def regErr(dataSet):\n",
    "    return var(dataSet[:, -1]) * shape(dataSet)[0]\n",
    "\n",
    "# 核心函数—— 寻找最佳切分点\n",
    "def chooseBestSplit(dataSet, leafType=regLeaf, errType=regErr, ops=(1, 4)):\n",
    "    # 停止设定变量\n",
    "    tolS = ops[0]  # 容许的误差一下降值\n",
    "    tolN = ops[1]  # 切分最小样本数\n",
    "    # if all the target variables are the same value: quit and return value\n",
    "    if len(set(dataSet[:, -1].T.tolist()[0])) == 1:  # exit cond 1\n",
    "        return None, leafType(dataSet)\n",
    "\n",
    "    # 初始化\n",
    "    m, n = shape(dataSet)\n",
    "    # the choice of the best feature is driven by Reduction in RSS error from mean\n",
    "    S = errType(dataSet)\n",
    "    bestS = inf\n",
    "    bestIndex = 0\n",
    "    bestValue = 0\n",
    "\n",
    "    # 在所有特征值和和这个特征值的所有取值上遍历\n",
    "    for featIndex in range(n - 1):\n",
    "        for splitVal in set(dataSet[:, featIndex].T.tolist()[0]):\n",
    "            # 切分\n",
    "            mat0, mat1 = binSplitDataSet(dataSet, featIndex, splitVal)\n",
    "            # 寻找最低误差切分\n",
    "            if (shape(mat0)[0] < tolN) or (shape(mat1)[0] < tolN): continue\n",
    "            newS = errType(mat0) + errType(mat1)\n",
    "            if newS < bestS:\n",
    "                bestIndex = featIndex\n",
    "                bestValue = splitVal\n",
    "                bestS = newS\n",
    "\n",
    "    # if the decrease (S-bestS) is less than a threshold don't do the split\n",
    "    if (S - bestS) < tolS:\n",
    "        return None, leafType(dataSet)  # exit cond 2\n",
    "    mat0, mat1 = binSplitDataSet(dataSet, bestIndex, bestValue)\n",
    "    \n",
    "    # if 切分出的数据集太小—— 抛弃这个切分\n",
    "    if (shape(mat0)[0] < tolN) or (shape(mat1)[0] < tolN):  # exit cond 3\n",
    "        return None, leafType(dataSet)\n",
    "    return bestIndex, bestValue  # returns the best feature to split on and the value used for that split\n",
    "\n",
    "## 创建树的整体函数\n",
    "def createTree(dataSet, leafType=regLeaf, errType=regErr,\n",
    "               ops=(1, 4)):  # assume dataSet is NumPy Mat so we can array filtering\n",
    "    # 数据集切分——训练集和便签集\n",
    "    feat, val = chooseBestSplit(dataSet, leafType, errType, ops)  # choose the best split\n",
    "    # Todo:确定最佳切分的函数在后面实现\n",
    "    \n",
    "    # 递归停止条件\n",
    "    if feat == None:\n",
    "        return val  # if the splitting hit a stop condition return val\n",
    "    retTree = {}\n",
    "    retTree['spInd'] = feat\n",
    "    retTree['spVal'] = val\n",
    "    lSet, rSet = binSplitDataSet(dataSet, feat, val)\n",
    "    retTree['left'] = createTree(lSet, leafType, errType, ops)\n",
    "    retTree['right'] = createTree(rSet, leafType, errType, ops)\n",
    "    return retTree"
   ]
  },
  {
   "cell_type": "code",
   "execution_count": 17,
   "metadata": {},
   "outputs": [
    {
     "data": {
      "image/png": "[encoded data removed]",
      "text/plain": [
       "<Figure size 432x288 with 1 Axes>"
      ]
     },
     "metadata": {
      "needs_background": "light"
     },
     "output_type": "display_data"
    }
   ],
   "source": [
    "myDat = loadDataSet(r'数据\\ex00.txt')\n",
    "myMat = mat(myDat)\n",
    "plot(myMat[:,0],myMat[:,1], 'bo')\n",
    "show()"
   ]
  },
  {
   "cell_type": "code",
   "execution_count": 46,
   "metadata": {},
   "outputs": [
    {
     "name": "stdout",
     "output_type": "stream",
     "text": [
      "{'spInd': 0, 'spVal': 0.48813, 'left': 1.0180967672413792, 'right': -0.04465028571428572}\n"
     ]
    }
   ],
   "source": [
    "print(createTree(myMat))"
   ]
  },
  {
   "cell_type": "code",
   "execution_count": 50,
   "metadata": {},
   "outputs": [
    {
     "data": {
      "image/png": "[encoded data removed]",
      "text/plain": [
       "<Figure size 432x288 with 1 Axes>"
      ]
     },
     "metadata": {
      "needs_background": "light"
     },
     "output_type": "display_data"
    }
   ],
   "source": [
    "myDat1 = loadDataSet(r'数据\\ex0.txt')\n",
    "myMat1 = mat(myDat1)\n",
    "plot(myMat1[:,1],myMat1[:,2], 'bo')\n",
    "show()"
   ]
  },
  {
   "cell_type": "code",
   "execution_count": 51,
   "metadata": {},
   "outputs": [
    {
     "name": "stdout",
     "output_type": "stream",
     "text": [
      "{'spInd': 1, 'spVal': 0.39435, 'left': {'spInd': 1, 'spVal': 0.582002, 'left': {'spInd': 1, 'spVal': 0.797583, 'left': 3.9871632, 'right': 2.9836209534883724}, 'right': 1.980035071428571}, 'right': {'spInd': 1, 'spVal': 0.197834, 'left': 1.0289583666666666, 'right': -0.023838155555555553}}\n"
     ]
    }
   ],
   "source": [
    "print(createTree(myMat1))"
   ]
  }
 ],
 "metadata": {
  "kernelspec": {
   "display_name": "Python 3",
   "language": "python",
   "name": "python3"
  },
  "language_info": {
   "codemirror_mode": {
    "name": "ipython",
    "version": 3
   },
   "file_extension": ".py",
   "mimetype": "text/x-python",
   "name": "python",
   "nbconvert_exporter": "python",
   "pygments_lexer": "ipython3",
   "version": "3.7.0"
  },
  "toc": {
   "base_numbering": 1,
   "nav_menu": {},
   "number_sections": true,
   "sideBar": true,
   "skip_h1_title": false,
   "title_cell": "Table of Contents",
   "title_sidebar": "Contents",
   "toc_cell": false,
   "toc_position": {},
   "toc_section_display": true,
   "toc_window_display": false
  }
 },
 "nbformat": 4,
 "nbformat_minor": 2
}
