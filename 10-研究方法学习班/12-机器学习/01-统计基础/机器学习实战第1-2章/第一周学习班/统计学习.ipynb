{
 "cells": [
  {
   "cell_type": "markdown",
   "metadata": {},
   "source": [
    "# An Introduction to Statistical Learning with Applications in R"
   ]
  },
  {
   "cell_type": "markdown",
   "metadata": {},
   "source": [
    "## Statistical Learning"
   ]
  },
  {
   "cell_type": "markdown",
   "metadata": {},
   "source": [
    "### What Is Statistical Learning?"
   ]
  },
  {
   "cell_type": "markdown",
   "metadata": {},
   "source": [
    "In essence, statistical learning refers to a set of approaches for estimating\n",
    "f."
   ]
  },
  {
   "cell_type": "markdown",
   "metadata": {},
   "source": [
    "#### Why Estimate f?"
   ]
  },
  {
   "cell_type": "markdown",
   "metadata": {},
   "source": [
    "There are two main reasons that we may wish to estimate for f: prediction\n",
    "and inference"
   ]
  },
  {
   "cell_type": "markdown",
   "metadata": {},
   "source": [
    "#### How Do We Estimate f"
   ]
  },
  {
   "cell_type": "markdown",
   "metadata": {},
   "source": [
    "Parametric methods： two-step model-based approach， First, we make an assumption about the functional form, or shape,\n",
    "of f.After a model has been selected, we need a procedure that uses the\n",
    "training data to fit or train the model.The most common approach is referred\n",
    "to as (ordinary) least squares\n",
    "\n"
   ]
  },
  {
   "attachments": {},
   "cell_type": "markdown",
   "metadata": {},
   "source": [
    "![title](img/line.png)\n",
    "![title](img/line2.png)\n",
    "![title](img/img1.png)\n"
   ]
  },
  {
   "cell_type": "markdown",
   "metadata": {},
   "source": [
    "Non-parametric methods: Non-parametric methods do not make explicit assumptions about the functional form of f. Instead they seek an estimate of f that gets as close to the\n",
    "data points as possible without being too rough or wiggly. Such approaches can have a major advantage over parametric approaches: by avoiding the assumption of a particular functional form for f, they have the potential to accurately fit a wider range of possible shapes for f."
   ]
  },
  {
   "cell_type": "markdown",
   "metadata": {},
   "source": [
    "![title](img/img2.png)"
   ]
  },
  {
   "cell_type": "markdown",
   "metadata": {},
   "source": [
    "#### The Trade-off Between Prediction Accuracy and Model Interpretability"
   ]
  },
  {
   "cell_type": "markdown",
   "metadata": {},
   "source": [
    "![title](img/img3.png)"
   ]
  },
  {
   "cell_type": "markdown",
   "metadata": {},
   "source": [
    " A representation of the tradeoff between flexibility and interpretability, using different statistical learning methods. In general, as the flexibility of a method increases, its interpretability decreases.\n"
   ]
  },
  {
   "cell_type": "markdown",
   "metadata": {},
   "source": [
    "#### Supervised versus Unsupervised Learning"
   ]
  },
  {
   "cell_type": "markdown",
   "metadata": {},
   "source": [
    "Most statistical learning problems fall into one of two categories: supervised or unsupervised.\n",
    "\n",
    "supervised :For each observation of the predictor measurement(s) xi, i = 1, . . . , n there is an associated response measurement yi.\n",
    "\n",
    "unsupervised: describes the somewhat more challenging situation in which for every observation i = 1, . . . , n, we observe a vector of measurements xi but no associated response yi.\n",
    "\n",
    "semi-supervised learning:. For m of the observations, where m < n, we have both predictor measurements and a response measurement. For the remaining n − m observations, we have predictor measurements but no response measurement. "
   ]
  },
  {
   "cell_type": "markdown",
   "metadata": {},
   "source": [
    "#### Regression versus Classification Problems"
   ]
  },
  {
   "cell_type": "markdown",
   "metadata": {},
   "source": [
    "Variables can be characterized as either quantitative or qualitative (also known as categorical).Quantitative variables take on numerical values. Examples include a person’s age, height, or income, the value of a house, and the price of a stock. In contrast, qualitative variables take on values in one of different classes , or categories. Examples of qualitative variables include a person’s gender (male or female), the brand of product purchased (brand\n",
    "A, B, or C)"
   ]
  },
  {
   "cell_type": "markdown",
   "metadata": {},
   "source": [
    "### Assessing Model Accuracy"
   ]
  },
  {
   "cell_type": "markdown",
   "metadata": {},
   "source": [
    "#### Measuring the Quality of Fit"
   ]
  },
  {
   "attachments": {},
   "cell_type": "markdown",
   "metadata": {},
   "source": [
    " mean squared error (MSE):also known as train MSE\n",
    "![title](img/line3.png)\n",
    " test MSE:\n",
    "![title](img/line4.png)"
   ]
  },
  {
   "cell_type": "markdown",
   "metadata": {},
   "source": [
    "![title](img/img4.png)\n",
    "一个例子：左边黑色线为真实的f，橙色（线性模拟，低光滑性）蓝色和绿色（最高光滑性）分别对f进行了模拟。右边灰线是训练均方误差和光滑度的函数关系。红色是测试均方误差。"
   ]
  },
  {
   "cell_type": "markdown",
   "metadata": {},
   "source": [
    "#### The Bias-Variance Trade-Of"
   ]
  },
  {
   "cell_type": "markdown",
   "metadata": {},
   "source": [
    "期望测试均方误差expected test MSE：![title](img/line5.png)\n",
    "![title](img/img5.png)"
   ]
  },
  {
   "cell_type": "markdown",
   "metadata": {},
   "source": [
    "#### The Classification Setting"
   ]
  },
  {
   "cell_type": "markdown",
   "metadata": {},
   "source": [
    "training error rate :\n",
    "![title](img/line6.png)\n",
    "test error rate:\n",
    "![title](img/line7.png)"
   ]
  },
  {
   "attachments": {},
   "cell_type": "markdown",
   "metadata": {},
   "source": [
    "Bayes classifier:  Pr (Y = j I x = xo)\n",
    "\n",
    "The Bayes error rate：, the error rate at X = x0 will be 1−maxj Pr(Y =j|X = x0).\n",
    "\n",
    "the overall Bayes error rate is given by：![title](img/line8.png)\n"
   ]
  },
  {
   "cell_type": "markdown",
   "metadata": {},
   "source": [
    "K-nearest neighbors (KNN) classifier.\n",
    "Given a positive integer K and a test observation x0, the KNN classifier first identifies the\n",
    "K points in the training data that are closest to x0, represented by N0.It then estimates the conditional probability for class j as the fraction of\n",
    "points in N0 whose response values equal j:![title](img/line9.png)"
   ]
  },
  {
   "cell_type": "markdown",
   "metadata": {},
   "source": [
    "k的选择对KNN有很强的影响，k增加时模型的光滑性变差，方差变低但偏差变大。"
   ]
  },
  {
   "cell_type": "markdown",
   "metadata": {},
   "source": [
    "# Hands_On_Machine_Learning_with_Keras_2nd"
   ]
  },
  {
   "cell_type": "markdown",
   "metadata": {},
   "source": [
    "机器学习有多种类型，可以根据如下规则进行分类：\n",
    "\n",
    "是否在人类监督下进行训练（监督，非监督，半监督和强化学习：学习系统在这里被称为智能体（agent），可以对环境进行观察、选择和执行动作，并获得奖励作为回报（负奖励是惩罚，见图 1-12）。然后它必须自己学习哪个是最佳方法（称为策略，policy），以得到长久的最大奖励。）\n",
    "\n",
    "是否可以动态渐进学习（在线学习 vs 批量学习）：它是否能从导入的数据流进行持续学习。\n",
    "\n",
    "它们是否只是通过简单地比较新的数据点和已知的数据点，还是在训练数据中进行模式识别，以建立一个预测模型，就像科学家所做的那样（基于实例学习 vs 基于模型学习）"
   ]
  },
  {
   "cell_type": "markdown",
   "metadata": {},
   "source": [
    "## 使用 Scikit-Learn 训练并运行线性模型"
   ]
  },
  {
   "cell_type": "code",
   "execution_count": 48,
   "metadata": {},
   "outputs": [],
   "source": [
    "import matplotlib\n",
    "import matplotlib.pyplot as plt\n",
    "import numpy as np\n",
    "import pandas as pd\n",
    "from sklearn.linear_model import LinearRegression"
   ]
  },
  {
   "cell_type": "code",
   "execution_count": 52,
   "metadata": {},
   "outputs": [],
   "source": [
    "# 加载数据\n",
    "oecd_bli = pd.read_excel(\"C:/Users/12077/Desktop/新建文件夹/oecd2019.xlsx\")\n",
    "oecd_bli\n",
    "# 准备数据\n",
    "X = np.c_[oecd_bli[\"GDP\"]]\n",
    "y = np.c_[oecd_bli[\"Life satisfaction\"]]"
   ]
  },
  {
   "cell_type": "code",
   "execution_count": 53,
   "metadata": {},
   "outputs": [
    {
     "data": {
      "image/png": "[encoded data removed]",
      "text/plain": [
       "<Figure size 432x288 with 1 Axes>"
      ]
     },
     "metadata": {
      "needs_background": "light"
     },
     "output_type": "display_data"
    }
   ],
   "source": [
    "# 可视化数据\n",
    "oecd_bli.plot(kind='scatter', x=\"GDP\", y='Life satisfaction')\n",
    "plt.show()"
   ]
  },
  {
   "cell_type": "code",
   "execution_count": 55,
   "metadata": {},
   "outputs": [
    {
     "data": {
      "text/plain": [
       "LinearRegression(copy_X=True, fit_intercept=True, n_jobs=None,\n",
       "         normalize=False)"
      ]
     },
     "execution_count": 55,
     "metadata": {},
     "output_type": "execute_result"
    }
   ],
   "source": [
    "# 选择线性模型\n",
    "lin_reg_model = LinearRegression()\n",
    "# 训练模型\n",
    "lin_reg_model.fit(X, y)"
   ]
  },
  {
   "cell_type": "code",
   "execution_count": 56,
   "metadata": {},
   "outputs": [
    {
     "name": "stdout",
     "output_type": "stream",
     "text": [
      "[[5.9989956]]\n"
     ]
    }
   ],
   "source": [
    "# 对塞浦路斯进行预测\n",
    "X_new = [[22587]]  # 塞浦路斯的人均GDP\n",
    "print(lin_reg_model.predict(X_new)) # outputs [[ 5.9989956]]"
   ]
  },
  {
   "cell_type": "code",
   "execution_count": 62,
   "metadata": {},
   "outputs": [
    {
     "name": "stdout",
     "output_type": "stream",
     "text": [
      "[[6.26666667]]\n"
     ]
    }
   ],
   "source": [
    "#使用K 近邻模型进行预测\n",
    "lin_reg_model = sklearn.neighbors.KNeighborsRegressor(n_neighbors=3)\n",
    "# 训练模型\n",
    "lin_reg_model.fit(X, y)\n",
    "X_new = [[22587]]  # 塞浦路斯的人均GDP\n",
    "print(lin_reg_model.predict(X_new))"
   ]
  },
  {
   "cell_type": "markdown",
   "metadata": {},
   "source": [
    "## 典型的使用过程：\n",
    "\n",
    "研究数据\n",
    "\n",
    "选择模型\n",
    "\n",
    "用训练数据进行训练（即，学习算法搜寻模型参数值，使代价函数最小）\n",
    "\n",
    "最后，使用模型对新案例进行预测（这称作推断），但愿这个模型推广效果不差"
   ]
  },
  {
   "cell_type": "markdown",
   "metadata": {},
   "source": [
    "## 机器学习的主要挑战\n",
    "* 训练数据量不足\n",
    "* 没有代表性的训练数据\n",
    "* 低质量数据\n",
    "* 不相关的特征\n",
    "* 过拟合训练数据\n",
    "* 欠拟合训练数据"
   ]
  },
  {
   "cell_type": "markdown",
   "metadata": {},
   "source": [
    "## 测试和确认\n",
    "* 一般使用 80% 的数据进行训练，保留20%用于测试"
   ]
  }
 ],
 "metadata": {
  "kernelspec": {
   "display_name": "Python 3",
   "language": "python",
   "name": "python3"
  },
  "language_info": {
   "codemirror_mode": {
    "name": "ipython",
    "version": 3
   },
   "file_extension": ".py",
   "mimetype": "text/x-python",
   "name": "python",
   "nbconvert_exporter": "python",
   "pygments_lexer": "ipython3",
   "version": "3.7.1"
  },
  "toc": {
   "base_numbering": 1,
   "nav_menu": {},
   "number_sections": true,
   "sideBar": true,
   "skip_h1_title": false,
   "title_cell": "Table of Contents",
   "title_sidebar": "Contents",
   "toc_cell": false,
   "toc_position": {},
   "toc_section_display": true,
   "toc_window_display": false
  }
 },
 "nbformat": 4,
 "nbformat_minor": 2
}
